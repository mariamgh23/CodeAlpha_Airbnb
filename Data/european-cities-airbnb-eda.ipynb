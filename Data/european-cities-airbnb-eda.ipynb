{
 "cells": [
  {
   "cell_type": "markdown",
   "metadata": {},
   "source": [
    "# Key Insights\n",
    "**1. Market Dynamics & Pricing Intelligence**\n",
    "> * **Weekend vs Weekday Premium Analysis**\n",
    "> * **Price Elasticity by City**\n",
    "> * **Superhost Premium**\n",
    "___________________________________________________________________________________________________________________________________________________\n",
    "**2. Location Intelligence & Accessibility**\n",
    ">  * **Metro Proximity ROI**\n",
    "> * **City Center vs Periphery Analysis**\n",
    "___________________________________________________________________________________________________________________________________________________\n",
    "**3. Guest Experience & Revenue Optimization**\n",
    "> * **Satisfaction-Price Correlation**\n",
    "> * **Capacity Utilization**\n",
    "> * **Cleanliness Premium**\n",
    "___________________________________________________________________________________________________________________________________________________\n",
    "**4. Market Segmentation & Business Intelligence**\n",
    "> * **Business vs Leisure Demand**\n",
    "> * **Room Type Profitability**\n",
    "> * **Multi-listing Strategy**   "
   ]
  },
  {
   "cell_type": "markdown",
   "metadata": {},
   "source": [
    "# Importing libraries"
   ]
  },
  {
   "cell_type": "code",
   "execution_count": 1,
   "metadata": {
    "execution": {
     "iopub.execute_input": "2025-07-15T00:03:42.101326Z",
     "iopub.status.busy": "2025-07-15T00:03:42.100990Z",
     "iopub.status.idle": "2025-07-15T00:03:42.358617Z",
     "shell.execute_reply": "2025-07-15T00:03:42.357602Z",
     "shell.execute_reply.started": "2025-07-15T00:03:42.101304Z"
    },
    "trusted": true
   },
   "outputs": [],
   "source": [
    "import pandas as pd \n",
    "import matplotlib.pyplot as plt \n",
    "import seaborn as sns\n",
    "import plotly.express as px \n",
    "import numpy as np \n",
    "import plotly.graph_objects as go\n",
    "from plotly.subplots import make_subplots\n",
    "import plotly.io as pio\n",
    "pio.renderers.default=\"iframe_connected\""
   ]
  },
  {
   "cell_type": "markdown",
   "metadata": {},
   "source": [
    "# Loading Data"
   ]
  },
  {
   "cell_type": "code",
   "execution_count": 2,
   "metadata": {
    "execution": {
     "iopub.execute_input": "2025-07-14T23:55:42.987531Z",
     "iopub.status.busy": "2025-07-14T23:55:42.986998Z",
     "iopub.status.idle": "2025-07-14T23:55:43.452805Z",
     "shell.execute_reply": "2025-07-14T23:55:43.451865Z",
     "shell.execute_reply.started": "2025-07-14T23:55:42.987502Z"
    },
    "trusted": true
   },
   "outputs": [],
   "source": [
    "cities=['amsterdam','athens','barcelona','berlin','budapest','lisbon','london','paris','rome','vienna']\n",
    "weekend_data={}\n",
    "weekdays_data={}\n",
    "for city in cities:\n",
    "    # Load weekday data\n",
    "    weekdays_path = f\"{city}_weekdays.csv\"\n",
    "    weekdays_data[city] = pd.read_csv(weekdays_path)\n",
    "    # Load weekend data  \n",
    "    weekend_path = f\"{city}_weekends.csv\"\n",
    "    weekend_data[city] = pd.read_csv(weekend_path)\n",
    "#loading multiple data in two dictioneries with key is the name of city\n",
    "#now combining the two dictionaries in one dataset for analyzing it \n",
    "all_data = []\n",
    "\n",
    "for city in cities:\n",
    "    if city in weekdays_data:\n",
    "        # Adding weekday data\n",
    "        weekday_df = weekdays_data[city].copy()\n",
    "        weekday_df['city'] = city.title()\n",
    "        weekday_df['day_type'] = 'weekday'\n",
    "        all_data.append(weekday_df)\n",
    "        \n",
    "        # Adding weekend data\n",
    "        weekend_df = weekend_data[city].copy()\n",
    "        weekend_df['city'] = city.title()\n",
    "        weekend_df['day_type'] = 'weekend'\n",
    "        all_data.append(weekend_df)\n",
    "\n",
    "# Combinining all data\n",
    "df = pd.concat(all_data, ignore_index=True)"
   ]
  },
  {
   "cell_type": "code",
   "execution_count": 3,
   "metadata": {
    "execution": {
     "iopub.execute_input": "2025-07-14T23:55:53.889495Z",
     "iopub.status.busy": "2025-07-14T23:55:53.888439Z",
     "iopub.status.idle": "2025-07-14T23:55:53.982907Z",
     "shell.execute_reply": "2025-07-14T23:55:53.981325Z",
     "shell.execute_reply.started": "2025-07-14T23:55:53.889418Z"
    },
    "trusted": true
   },
   "outputs": [
    {
     "data": {
      "text/html": [
       "<div>\n",
       "<style scoped>\n",
       "    .dataframe tbody tr th:only-of-type {\n",
       "        vertical-align: middle;\n",
       "    }\n",
       "\n",
       "    .dataframe tbody tr th {\n",
       "        vertical-align: top;\n",
       "    }\n",
       "\n",
       "    .dataframe thead th {\n",
       "        text-align: right;\n",
       "    }\n",
       "</style>\n",
       "<table border=\"1\" class=\"dataframe\">\n",
       "  <thead>\n",
       "    <tr style=\"text-align: right;\">\n",
       "      <th></th>\n",
       "      <th>Unnamed: 0</th>\n",
       "      <th>realSum</th>\n",
       "      <th>room_type</th>\n",
       "      <th>room_shared</th>\n",
       "      <th>room_private</th>\n",
       "      <th>person_capacity</th>\n",
       "      <th>host_is_superhost</th>\n",
       "      <th>multi</th>\n",
       "      <th>biz</th>\n",
       "      <th>cleanliness_rating</th>\n",
       "      <th>...</th>\n",
       "      <th>dist</th>\n",
       "      <th>metro_dist</th>\n",
       "      <th>attr_index</th>\n",
       "      <th>attr_index_norm</th>\n",
       "      <th>rest_index</th>\n",
       "      <th>rest_index_norm</th>\n",
       "      <th>lng</th>\n",
       "      <th>lat</th>\n",
       "      <th>city</th>\n",
       "      <th>day_type</th>\n",
       "    </tr>\n",
       "  </thead>\n",
       "  <tbody>\n",
       "    <tr>\n",
       "      <th>0</th>\n",
       "      <td>0</td>\n",
       "      <td>194.033698</td>\n",
       "      <td>Private room</td>\n",
       "      <td>False</td>\n",
       "      <td>True</td>\n",
       "      <td>2.0</td>\n",
       "      <td>False</td>\n",
       "      <td>1</td>\n",
       "      <td>0</td>\n",
       "      <td>10.0</td>\n",
       "      <td>...</td>\n",
       "      <td>5.022964</td>\n",
       "      <td>2.539380</td>\n",
       "      <td>78.690379</td>\n",
       "      <td>4.166708</td>\n",
       "      <td>98.253896</td>\n",
       "      <td>6.846473</td>\n",
       "      <td>4.90569</td>\n",
       "      <td>52.41772</td>\n",
       "      <td>Amsterdam</td>\n",
       "      <td>weekday</td>\n",
       "    </tr>\n",
       "    <tr>\n",
       "      <th>1</th>\n",
       "      <td>1</td>\n",
       "      <td>344.245776</td>\n",
       "      <td>Private room</td>\n",
       "      <td>False</td>\n",
       "      <td>True</td>\n",
       "      <td>4.0</td>\n",
       "      <td>False</td>\n",
       "      <td>0</td>\n",
       "      <td>0</td>\n",
       "      <td>8.0</td>\n",
       "      <td>...</td>\n",
       "      <td>0.488389</td>\n",
       "      <td>0.239404</td>\n",
       "      <td>631.176378</td>\n",
       "      <td>33.421209</td>\n",
       "      <td>837.280757</td>\n",
       "      <td>58.342928</td>\n",
       "      <td>4.90005</td>\n",
       "      <td>52.37432</td>\n",
       "      <td>Amsterdam</td>\n",
       "      <td>weekday</td>\n",
       "    </tr>\n",
       "    <tr>\n",
       "      <th>2</th>\n",
       "      <td>2</td>\n",
       "      <td>264.101422</td>\n",
       "      <td>Private room</td>\n",
       "      <td>False</td>\n",
       "      <td>True</td>\n",
       "      <td>2.0</td>\n",
       "      <td>False</td>\n",
       "      <td>0</td>\n",
       "      <td>1</td>\n",
       "      <td>9.0</td>\n",
       "      <td>...</td>\n",
       "      <td>5.748312</td>\n",
       "      <td>3.651621</td>\n",
       "      <td>75.275877</td>\n",
       "      <td>3.985908</td>\n",
       "      <td>95.386955</td>\n",
       "      <td>6.646700</td>\n",
       "      <td>4.97512</td>\n",
       "      <td>52.36103</td>\n",
       "      <td>Amsterdam</td>\n",
       "      <td>weekday</td>\n",
       "    </tr>\n",
       "    <tr>\n",
       "      <th>3</th>\n",
       "      <td>3</td>\n",
       "      <td>433.529398</td>\n",
       "      <td>Private room</td>\n",
       "      <td>False</td>\n",
       "      <td>True</td>\n",
       "      <td>4.0</td>\n",
       "      <td>False</td>\n",
       "      <td>0</td>\n",
       "      <td>1</td>\n",
       "      <td>9.0</td>\n",
       "      <td>...</td>\n",
       "      <td>0.384862</td>\n",
       "      <td>0.439876</td>\n",
       "      <td>493.272534</td>\n",
       "      <td>26.119108</td>\n",
       "      <td>875.033098</td>\n",
       "      <td>60.973565</td>\n",
       "      <td>4.89417</td>\n",
       "      <td>52.37663</td>\n",
       "      <td>Amsterdam</td>\n",
       "      <td>weekday</td>\n",
       "    </tr>\n",
       "    <tr>\n",
       "      <th>4</th>\n",
       "      <td>4</td>\n",
       "      <td>485.552926</td>\n",
       "      <td>Private room</td>\n",
       "      <td>False</td>\n",
       "      <td>True</td>\n",
       "      <td>2.0</td>\n",
       "      <td>True</td>\n",
       "      <td>0</td>\n",
       "      <td>0</td>\n",
       "      <td>10.0</td>\n",
       "      <td>...</td>\n",
       "      <td>0.544738</td>\n",
       "      <td>0.318693</td>\n",
       "      <td>552.830324</td>\n",
       "      <td>29.272733</td>\n",
       "      <td>815.305740</td>\n",
       "      <td>56.811677</td>\n",
       "      <td>4.90051</td>\n",
       "      <td>52.37508</td>\n",
       "      <td>Amsterdam</td>\n",
       "      <td>weekday</td>\n",
       "    </tr>\n",
       "    <tr>\n",
       "      <th>...</th>\n",
       "      <td>...</td>\n",
       "      <td>...</td>\n",
       "      <td>...</td>\n",
       "      <td>...</td>\n",
       "      <td>...</td>\n",
       "      <td>...</td>\n",
       "      <td>...</td>\n",
       "      <td>...</td>\n",
       "      <td>...</td>\n",
       "      <td>...</td>\n",
       "      <td>...</td>\n",
       "      <td>...</td>\n",
       "      <td>...</td>\n",
       "      <td>...</td>\n",
       "      <td>...</td>\n",
       "      <td>...</td>\n",
       "      <td>...</td>\n",
       "      <td>...</td>\n",
       "      <td>...</td>\n",
       "      <td>...</td>\n",
       "      <td>...</td>\n",
       "    </tr>\n",
       "    <tr>\n",
       "      <th>51702</th>\n",
       "      <td>1794</td>\n",
       "      <td>715.938574</td>\n",
       "      <td>Entire home/apt</td>\n",
       "      <td>False</td>\n",
       "      <td>False</td>\n",
       "      <td>6.0</td>\n",
       "      <td>False</td>\n",
       "      <td>0</td>\n",
       "      <td>1</td>\n",
       "      <td>10.0</td>\n",
       "      <td>...</td>\n",
       "      <td>0.530181</td>\n",
       "      <td>0.135447</td>\n",
       "      <td>219.402478</td>\n",
       "      <td>15.712158</td>\n",
       "      <td>438.756874</td>\n",
       "      <td>10.604584</td>\n",
       "      <td>16.37940</td>\n",
       "      <td>48.21136</td>\n",
       "      <td>Vienna</td>\n",
       "      <td>weekend</td>\n",
       "    </tr>\n",
       "    <tr>\n",
       "      <th>51703</th>\n",
       "      <td>1795</td>\n",
       "      <td>304.793960</td>\n",
       "      <td>Entire home/apt</td>\n",
       "      <td>False</td>\n",
       "      <td>False</td>\n",
       "      <td>2.0</td>\n",
       "      <td>False</td>\n",
       "      <td>0</td>\n",
       "      <td>0</td>\n",
       "      <td>8.0</td>\n",
       "      <td>...</td>\n",
       "      <td>0.810205</td>\n",
       "      <td>0.100839</td>\n",
       "      <td>204.970121</td>\n",
       "      <td>14.678608</td>\n",
       "      <td>342.182813</td>\n",
       "      <td>8.270427</td>\n",
       "      <td>16.38070</td>\n",
       "      <td>48.20296</td>\n",
       "      <td>Vienna</td>\n",
       "      <td>weekend</td>\n",
       "    </tr>\n",
       "    <tr>\n",
       "      <th>51704</th>\n",
       "      <td>1796</td>\n",
       "      <td>637.168969</td>\n",
       "      <td>Entire home/apt</td>\n",
       "      <td>False</td>\n",
       "      <td>False</td>\n",
       "      <td>2.0</td>\n",
       "      <td>False</td>\n",
       "      <td>0</td>\n",
       "      <td>0</td>\n",
       "      <td>10.0</td>\n",
       "      <td>...</td>\n",
       "      <td>0.994051</td>\n",
       "      <td>0.202539</td>\n",
       "      <td>169.073402</td>\n",
       "      <td>12.107921</td>\n",
       "      <td>282.296424</td>\n",
       "      <td>6.822996</td>\n",
       "      <td>16.38568</td>\n",
       "      <td>48.20460</td>\n",
       "      <td>Vienna</td>\n",
       "      <td>weekend</td>\n",
       "    </tr>\n",
       "    <tr>\n",
       "      <th>51705</th>\n",
       "      <td>1797</td>\n",
       "      <td>301.054157</td>\n",
       "      <td>Private room</td>\n",
       "      <td>False</td>\n",
       "      <td>True</td>\n",
       "      <td>2.0</td>\n",
       "      <td>False</td>\n",
       "      <td>0</td>\n",
       "      <td>0</td>\n",
       "      <td>10.0</td>\n",
       "      <td>...</td>\n",
       "      <td>3.044100</td>\n",
       "      <td>0.287435</td>\n",
       "      <td>109.236574</td>\n",
       "      <td>7.822803</td>\n",
       "      <td>158.563398</td>\n",
       "      <td>3.832416</td>\n",
       "      <td>16.34100</td>\n",
       "      <td>48.19200</td>\n",
       "      <td>Vienna</td>\n",
       "      <td>weekend</td>\n",
       "    </tr>\n",
       "    <tr>\n",
       "      <th>51706</th>\n",
       "      <td>1798</td>\n",
       "      <td>133.230489</td>\n",
       "      <td>Private room</td>\n",
       "      <td>False</td>\n",
       "      <td>True</td>\n",
       "      <td>4.0</td>\n",
       "      <td>True</td>\n",
       "      <td>1</td>\n",
       "      <td>0</td>\n",
       "      <td>10.0</td>\n",
       "      <td>...</td>\n",
       "      <td>1.263932</td>\n",
       "      <td>0.480903</td>\n",
       "      <td>150.450381</td>\n",
       "      <td>10.774264</td>\n",
       "      <td>225.247293</td>\n",
       "      <td>5.444140</td>\n",
       "      <td>16.39066</td>\n",
       "      <td>48.20811</td>\n",
       "      <td>Vienna</td>\n",
       "      <td>weekend</td>\n",
       "    </tr>\n",
       "  </tbody>\n",
       "</table>\n",
       "<p>51707 rows × 22 columns</p>\n",
       "</div>"
      ],
      "text/plain": [
       "       Unnamed: 0     realSum        room_type  room_shared  room_private  \\\n",
       "0               0  194.033698     Private room        False          True   \n",
       "1               1  344.245776     Private room        False          True   \n",
       "2               2  264.101422     Private room        False          True   \n",
       "3               3  433.529398     Private room        False          True   \n",
       "4               4  485.552926     Private room        False          True   \n",
       "...           ...         ...              ...          ...           ...   \n",
       "51702        1794  715.938574  Entire home/apt        False         False   \n",
       "51703        1795  304.793960  Entire home/apt        False         False   \n",
       "51704        1796  637.168969  Entire home/apt        False         False   \n",
       "51705        1797  301.054157     Private room        False          True   \n",
       "51706        1798  133.230489     Private room        False          True   \n",
       "\n",
       "       person_capacity  host_is_superhost  multi  biz  cleanliness_rating  \\\n",
       "0                  2.0              False      1    0                10.0   \n",
       "1                  4.0              False      0    0                 8.0   \n",
       "2                  2.0              False      0    1                 9.0   \n",
       "3                  4.0              False      0    1                 9.0   \n",
       "4                  2.0               True      0    0                10.0   \n",
       "...                ...                ...    ...  ...                 ...   \n",
       "51702              6.0              False      0    1                10.0   \n",
       "51703              2.0              False      0    0                 8.0   \n",
       "51704              2.0              False      0    0                10.0   \n",
       "51705              2.0              False      0    0                10.0   \n",
       "51706              4.0               True      1    0                10.0   \n",
       "\n",
       "       ...      dist  metro_dist  attr_index  attr_index_norm  rest_index  \\\n",
       "0      ...  5.022964    2.539380   78.690379         4.166708   98.253896   \n",
       "1      ...  0.488389    0.239404  631.176378        33.421209  837.280757   \n",
       "2      ...  5.748312    3.651621   75.275877         3.985908   95.386955   \n",
       "3      ...  0.384862    0.439876  493.272534        26.119108  875.033098   \n",
       "4      ...  0.544738    0.318693  552.830324        29.272733  815.305740   \n",
       "...    ...       ...         ...         ...              ...         ...   \n",
       "51702  ...  0.530181    0.135447  219.402478        15.712158  438.756874   \n",
       "51703  ...  0.810205    0.100839  204.970121        14.678608  342.182813   \n",
       "51704  ...  0.994051    0.202539  169.073402        12.107921  282.296424   \n",
       "51705  ...  3.044100    0.287435  109.236574         7.822803  158.563398   \n",
       "51706  ...  1.263932    0.480903  150.450381        10.774264  225.247293   \n",
       "\n",
       "       rest_index_norm       lng       lat       city  day_type  \n",
       "0             6.846473   4.90569  52.41772  Amsterdam   weekday  \n",
       "1            58.342928   4.90005  52.37432  Amsterdam   weekday  \n",
       "2             6.646700   4.97512  52.36103  Amsterdam   weekday  \n",
       "3            60.973565   4.89417  52.37663  Amsterdam   weekday  \n",
       "4            56.811677   4.90051  52.37508  Amsterdam   weekday  \n",
       "...                ...       ...       ...        ...       ...  \n",
       "51702        10.604584  16.37940  48.21136     Vienna   weekend  \n",
       "51703         8.270427  16.38070  48.20296     Vienna   weekend  \n",
       "51704         6.822996  16.38568  48.20460     Vienna   weekend  \n",
       "51705         3.832416  16.34100  48.19200     Vienna   weekend  \n",
       "51706         5.444140  16.39066  48.20811     Vienna   weekend  \n",
       "\n",
       "[51707 rows x 22 columns]"
      ]
     },
     "execution_count": 3,
     "metadata": {},
     "output_type": "execute_result"
    }
   ],
   "source": [
    "df"
   ]
  },
  {
   "cell_type": "markdown",
   "metadata": {},
   "source": [
    "# Exploring Data"
   ]
  },
  {
   "cell_type": "code",
   "execution_count": 4,
   "metadata": {
    "execution": {
     "iopub.execute_input": "2025-07-14T23:56:24.118319Z",
     "iopub.status.busy": "2025-07-14T23:56:24.117997Z",
     "iopub.status.idle": "2025-07-14T23:56:24.145031Z",
     "shell.execute_reply": "2025-07-14T23:56:24.144145Z",
     "shell.execute_reply.started": "2025-07-14T23:56:24.118296Z"
    },
    "trusted": true
   },
   "outputs": [
    {
     "data": {
      "text/plain": [
       "Unnamed: 0                    0\n",
       "realSum                       0\n",
       "room_type                     0\n",
       "room_shared                   0\n",
       "room_private                  0\n",
       "person_capacity               0\n",
       "host_is_superhost             0\n",
       "multi                         0\n",
       "biz                           0\n",
       "cleanliness_rating            0\n",
       "guest_satisfaction_overall    0\n",
       "bedrooms                      0\n",
       "dist                          0\n",
       "metro_dist                    0\n",
       "attr_index                    0\n",
       "attr_index_norm               0\n",
       "rest_index                    0\n",
       "rest_index_norm               0\n",
       "lng                           0\n",
       "lat                           0\n",
       "city                          0\n",
       "day_type                      0\n",
       "dtype: int64"
      ]
     },
     "execution_count": 4,
     "metadata": {},
     "output_type": "execute_result"
    }
   ],
   "source": [
    "df.isna().sum()\n",
    "#no null values"
   ]
  },
  {
   "cell_type": "code",
   "execution_count": 5,
   "metadata": {
    "execution": {
     "iopub.execute_input": "2025-07-14T23:56:33.399439Z",
     "iopub.status.busy": "2025-07-14T23:56:33.399138Z",
     "iopub.status.idle": "2025-07-14T23:56:33.496430Z",
     "shell.execute_reply": "2025-07-14T23:56:33.495271Z",
     "shell.execute_reply.started": "2025-07-14T23:56:33.399415Z"
    },
    "trusted": true
   },
   "outputs": [
    {
     "data": {
      "text/html": [
       "<div>\n",
       "<style scoped>\n",
       "    .dataframe tbody tr th:only-of-type {\n",
       "        vertical-align: middle;\n",
       "    }\n",
       "\n",
       "    .dataframe tbody tr th {\n",
       "        vertical-align: top;\n",
       "    }\n",
       "\n",
       "    .dataframe thead th {\n",
       "        text-align: right;\n",
       "    }\n",
       "</style>\n",
       "<table border=\"1\" class=\"dataframe\">\n",
       "  <thead>\n",
       "    <tr style=\"text-align: right;\">\n",
       "      <th></th>\n",
       "      <th>Unnamed: 0</th>\n",
       "      <th>realSum</th>\n",
       "      <th>person_capacity</th>\n",
       "      <th>multi</th>\n",
       "      <th>biz</th>\n",
       "      <th>cleanliness_rating</th>\n",
       "      <th>guest_satisfaction_overall</th>\n",
       "      <th>bedrooms</th>\n",
       "      <th>dist</th>\n",
       "      <th>metro_dist</th>\n",
       "      <th>attr_index</th>\n",
       "      <th>attr_index_norm</th>\n",
       "      <th>rest_index</th>\n",
       "      <th>rest_index_norm</th>\n",
       "      <th>lng</th>\n",
       "      <th>lat</th>\n",
       "    </tr>\n",
       "  </thead>\n",
       "  <tbody>\n",
       "    <tr>\n",
       "      <th>count</th>\n",
       "      <td>51707.000000</td>\n",
       "      <td>51707.000000</td>\n",
       "      <td>51707.000000</td>\n",
       "      <td>51707.000000</td>\n",
       "      <td>51707.000000</td>\n",
       "      <td>51707.000000</td>\n",
       "      <td>51707.000000</td>\n",
       "      <td>51707.00000</td>\n",
       "      <td>51707.000000</td>\n",
       "      <td>51707.000000</td>\n",
       "      <td>51707.000000</td>\n",
       "      <td>51707.000000</td>\n",
       "      <td>51707.000000</td>\n",
       "      <td>51707.000000</td>\n",
       "      <td>51707.000000</td>\n",
       "      <td>51707.000000</td>\n",
       "    </tr>\n",
       "    <tr>\n",
       "      <th>mean</th>\n",
       "      <td>1620.502388</td>\n",
       "      <td>279.879591</td>\n",
       "      <td>3.161661</td>\n",
       "      <td>0.291353</td>\n",
       "      <td>0.350204</td>\n",
       "      <td>9.390624</td>\n",
       "      <td>92.628232</td>\n",
       "      <td>1.15876</td>\n",
       "      <td>3.191285</td>\n",
       "      <td>0.681540</td>\n",
       "      <td>294.204105</td>\n",
       "      <td>13.423792</td>\n",
       "      <td>626.856696</td>\n",
       "      <td>22.786177</td>\n",
       "      <td>7.426068</td>\n",
       "      <td>45.671128</td>\n",
       "    </tr>\n",
       "    <tr>\n",
       "      <th>std</th>\n",
       "      <td>1217.380366</td>\n",
       "      <td>327.948386</td>\n",
       "      <td>1.298545</td>\n",
       "      <td>0.454390</td>\n",
       "      <td>0.477038</td>\n",
       "      <td>0.954868</td>\n",
       "      <td>8.945531</td>\n",
       "      <td>0.62741</td>\n",
       "      <td>2.393803</td>\n",
       "      <td>0.858023</td>\n",
       "      <td>224.754123</td>\n",
       "      <td>9.807985</td>\n",
       "      <td>497.920226</td>\n",
       "      <td>17.804096</td>\n",
       "      <td>9.799725</td>\n",
       "      <td>5.249263</td>\n",
       "    </tr>\n",
       "    <tr>\n",
       "      <th>min</th>\n",
       "      <td>0.000000</td>\n",
       "      <td>34.779339</td>\n",
       "      <td>2.000000</td>\n",
       "      <td>0.000000</td>\n",
       "      <td>0.000000</td>\n",
       "      <td>2.000000</td>\n",
       "      <td>20.000000</td>\n",
       "      <td>0.00000</td>\n",
       "      <td>0.015045</td>\n",
       "      <td>0.002301</td>\n",
       "      <td>15.152201</td>\n",
       "      <td>0.926301</td>\n",
       "      <td>19.576924</td>\n",
       "      <td>0.592757</td>\n",
       "      <td>-9.226340</td>\n",
       "      <td>37.953000</td>\n",
       "    </tr>\n",
       "    <tr>\n",
       "      <th>25%</th>\n",
       "      <td>646.000000</td>\n",
       "      <td>148.752174</td>\n",
       "      <td>2.000000</td>\n",
       "      <td>0.000000</td>\n",
       "      <td>0.000000</td>\n",
       "      <td>9.000000</td>\n",
       "      <td>90.000000</td>\n",
       "      <td>1.00000</td>\n",
       "      <td>1.453142</td>\n",
       "      <td>0.248480</td>\n",
       "      <td>136.797385</td>\n",
       "      <td>6.380926</td>\n",
       "      <td>250.854114</td>\n",
       "      <td>8.751480</td>\n",
       "      <td>-0.072500</td>\n",
       "      <td>41.399510</td>\n",
       "    </tr>\n",
       "    <tr>\n",
       "      <th>50%</th>\n",
       "      <td>1334.000000</td>\n",
       "      <td>211.343089</td>\n",
       "      <td>3.000000</td>\n",
       "      <td>0.000000</td>\n",
       "      <td>0.000000</td>\n",
       "      <td>10.000000</td>\n",
       "      <td>95.000000</td>\n",
       "      <td>1.00000</td>\n",
       "      <td>2.613538</td>\n",
       "      <td>0.413269</td>\n",
       "      <td>234.331748</td>\n",
       "      <td>11.468305</td>\n",
       "      <td>522.052783</td>\n",
       "      <td>17.542238</td>\n",
       "      <td>4.873000</td>\n",
       "      <td>47.506690</td>\n",
       "    </tr>\n",
       "    <tr>\n",
       "      <th>75%</th>\n",
       "      <td>2382.000000</td>\n",
       "      <td>319.694287</td>\n",
       "      <td>4.000000</td>\n",
       "      <td>1.000000</td>\n",
       "      <td>1.000000</td>\n",
       "      <td>10.000000</td>\n",
       "      <td>99.000000</td>\n",
       "      <td>1.00000</td>\n",
       "      <td>4.263077</td>\n",
       "      <td>0.737840</td>\n",
       "      <td>385.756381</td>\n",
       "      <td>17.415082</td>\n",
       "      <td>832.628988</td>\n",
       "      <td>32.964603</td>\n",
       "      <td>13.518825</td>\n",
       "      <td>51.471885</td>\n",
       "    </tr>\n",
       "    <tr>\n",
       "      <th>max</th>\n",
       "      <td>5378.000000</td>\n",
       "      <td>18545.450285</td>\n",
       "      <td>6.000000</td>\n",
       "      <td>1.000000</td>\n",
       "      <td>1.000000</td>\n",
       "      <td>10.000000</td>\n",
       "      <td>100.000000</td>\n",
       "      <td>10.00000</td>\n",
       "      <td>25.284557</td>\n",
       "      <td>14.273577</td>\n",
       "      <td>4513.563486</td>\n",
       "      <td>100.000000</td>\n",
       "      <td>6696.156772</td>\n",
       "      <td>100.000000</td>\n",
       "      <td>23.786020</td>\n",
       "      <td>52.641410</td>\n",
       "    </tr>\n",
       "  </tbody>\n",
       "</table>\n",
       "</div>"
      ],
      "text/plain": [
       "         Unnamed: 0       realSum  person_capacity         multi  \\\n",
       "count  51707.000000  51707.000000     51707.000000  51707.000000   \n",
       "mean    1620.502388    279.879591         3.161661      0.291353   \n",
       "std     1217.380366    327.948386         1.298545      0.454390   \n",
       "min        0.000000     34.779339         2.000000      0.000000   \n",
       "25%      646.000000    148.752174         2.000000      0.000000   \n",
       "50%     1334.000000    211.343089         3.000000      0.000000   \n",
       "75%     2382.000000    319.694287         4.000000      1.000000   \n",
       "max     5378.000000  18545.450285         6.000000      1.000000   \n",
       "\n",
       "                biz  cleanliness_rating  guest_satisfaction_overall  \\\n",
       "count  51707.000000        51707.000000                51707.000000   \n",
       "mean       0.350204            9.390624                   92.628232   \n",
       "std        0.477038            0.954868                    8.945531   \n",
       "min        0.000000            2.000000                   20.000000   \n",
       "25%        0.000000            9.000000                   90.000000   \n",
       "50%        0.000000           10.000000                   95.000000   \n",
       "75%        1.000000           10.000000                   99.000000   \n",
       "max        1.000000           10.000000                  100.000000   \n",
       "\n",
       "          bedrooms          dist    metro_dist    attr_index  attr_index_norm  \\\n",
       "count  51707.00000  51707.000000  51707.000000  51707.000000     51707.000000   \n",
       "mean       1.15876      3.191285      0.681540    294.204105        13.423792   \n",
       "std        0.62741      2.393803      0.858023    224.754123         9.807985   \n",
       "min        0.00000      0.015045      0.002301     15.152201         0.926301   \n",
       "25%        1.00000      1.453142      0.248480    136.797385         6.380926   \n",
       "50%        1.00000      2.613538      0.413269    234.331748        11.468305   \n",
       "75%        1.00000      4.263077      0.737840    385.756381        17.415082   \n",
       "max       10.00000     25.284557     14.273577   4513.563486       100.000000   \n",
       "\n",
       "         rest_index  rest_index_norm           lng           lat  \n",
       "count  51707.000000     51707.000000  51707.000000  51707.000000  \n",
       "mean     626.856696        22.786177      7.426068     45.671128  \n",
       "std      497.920226        17.804096      9.799725      5.249263  \n",
       "min       19.576924         0.592757     -9.226340     37.953000  \n",
       "25%      250.854114         8.751480     -0.072500     41.399510  \n",
       "50%      522.052783        17.542238      4.873000     47.506690  \n",
       "75%      832.628988        32.964603     13.518825     51.471885  \n",
       "max     6696.156772       100.000000     23.786020     52.641410  "
      ]
     },
     "execution_count": 5,
     "metadata": {},
     "output_type": "execute_result"
    }
   ],
   "source": [
    "df.describe()\n"
   ]
  },
  {
   "cell_type": "markdown",
   "metadata": {},
   "source": [
    "* **outliers in the realSum which represents the price of Airbnb.(right skewness).**\n",
    "* **outliers in distance from city center (some are really far and some are really close).**\n",
    "* **outliers in metro distance  the same as city center.**\n",
    " "
   ]
  },
  {
   "cell_type": "code",
   "execution_count": 6,
   "metadata": {
    "execution": {
     "iopub.execute_input": "2025-07-14T23:56:41.623671Z",
     "iopub.status.busy": "2025-07-14T23:56:41.623070Z",
     "iopub.status.idle": "2025-07-14T23:56:41.667272Z",
     "shell.execute_reply": "2025-07-14T23:56:41.665800Z",
     "shell.execute_reply.started": "2025-07-14T23:56:41.623619Z"
    },
    "trusted": true
   },
   "outputs": [
    {
     "data": {
      "text/html": [
       "<div>\n",
       "<style scoped>\n",
       "    .dataframe tbody tr th:only-of-type {\n",
       "        vertical-align: middle;\n",
       "    }\n",
       "\n",
       "    .dataframe tbody tr th {\n",
       "        vertical-align: top;\n",
       "    }\n",
       "\n",
       "    .dataframe thead th {\n",
       "        text-align: right;\n",
       "    }\n",
       "</style>\n",
       "<table border=\"1\" class=\"dataframe\">\n",
       "  <thead>\n",
       "    <tr style=\"text-align: right;\">\n",
       "      <th></th>\n",
       "      <th>room_type</th>\n",
       "      <th>city</th>\n",
       "      <th>day_type</th>\n",
       "    </tr>\n",
       "  </thead>\n",
       "  <tbody>\n",
       "    <tr>\n",
       "      <th>count</th>\n",
       "      <td>51707</td>\n",
       "      <td>51707</td>\n",
       "      <td>51707</td>\n",
       "    </tr>\n",
       "    <tr>\n",
       "      <th>unique</th>\n",
       "      <td>3</td>\n",
       "      <td>10</td>\n",
       "      <td>2</td>\n",
       "    </tr>\n",
       "    <tr>\n",
       "      <th>top</th>\n",
       "      <td>Entire home/apt</td>\n",
       "      <td>London</td>\n",
       "      <td>weekend</td>\n",
       "    </tr>\n",
       "    <tr>\n",
       "      <th>freq</th>\n",
       "      <td>32648</td>\n",
       "      <td>9993</td>\n",
       "      <td>26207</td>\n",
       "    </tr>\n",
       "  </tbody>\n",
       "</table>\n",
       "</div>"
      ],
      "text/plain": [
       "              room_type    city day_type\n",
       "count             51707   51707    51707\n",
       "unique                3      10        2\n",
       "top     Entire home/apt  London  weekend\n",
       "freq              32648    9993    26207"
      ]
     },
     "execution_count": 6,
     "metadata": {},
     "output_type": "execute_result"
    }
   ],
   "source": [
    "df.describe(include=\"O\")"
   ]
  },
  {
   "cell_type": "markdown",
   "metadata": {},
   "source": [
    "# Feature Engineering"
   ]
  },
  {
   "cell_type": "markdown",
   "metadata": {},
   "source": [
    "**what will each person pay for an Airbnb for each city?**\n",
    "**price per person**"
   ]
  },
  {
   "cell_type": "code",
   "execution_count": 7,
   "metadata": {
    "execution": {
     "iopub.execute_input": "2025-07-15T00:00:24.707002Z",
     "iopub.status.busy": "2025-07-15T00:00:24.706640Z",
     "iopub.status.idle": "2025-07-15T00:00:24.714413Z",
     "shell.execute_reply": "2025-07-15T00:00:24.713149Z",
     "shell.execute_reply.started": "2025-07-15T00:00:24.706980Z"
    },
    "trusted": true
   },
   "outputs": [],
   "source": [
    "\n",
    "df[\"Price_Per_Person\"]=df[\"person_capacity\"]/df[\"realSum\"]"
   ]
  },
  {
   "cell_type": "markdown",
   "metadata": {},
   "source": [
    "**what is the price of each bedroom in case of single one it's already shown but what if a family rents and each one will pay?**"
   ]
  },
  {
   "cell_type": "code",
   "execution_count": 8,
   "metadata": {
    "execution": {
     "iopub.execute_input": "2025-07-15T00:00:29.596416Z",
     "iopub.status.busy": "2025-07-15T00:00:29.596109Z",
     "iopub.status.idle": "2025-07-15T00:00:29.606120Z",
     "shell.execute_reply": "2025-07-15T00:00:29.604858Z",
     "shell.execute_reply.started": "2025-07-15T00:00:29.596393Z"
    },
    "trusted": true
   },
   "outputs": [],
   "source": [
    "df[\"Price_Per_Bedroom\"]=df[\"realSum\"]/df[\"bedrooms\"]"
   ]
  },
  {
   "cell_type": "markdown",
   "metadata": {},
   "source": [
    "**is it central or not (close to city center?)**"
   ]
  },
  {
   "cell_type": "code",
   "execution_count": 9,
   "metadata": {
    "execution": {
     "iopub.execute_input": "2025-07-15T00:00:53.376512Z",
     "iopub.status.busy": "2025-07-15T00:00:53.375702Z",
     "iopub.status.idle": "2025-07-15T00:00:53.386069Z",
     "shell.execute_reply": "2025-07-15T00:00:53.384365Z",
     "shell.execute_reply.started": "2025-07-15T00:00:53.376469Z"
    },
    "trusted": true
   },
   "outputs": [],
   "source": [
    "df[\"Is_Central\"]=(df[\"dist\"]<=df['dist'].quantile(.25).astype(int))"
   ]
  },
  {
   "cell_type": "markdown",
   "metadata": {},
   "source": [
    "**as we did city center we will do metro**"
   ]
  },
  {
   "cell_type": "code",
   "execution_count": 10,
   "metadata": {
    "execution": {
     "iopub.execute_input": "2025-07-15T00:01:17.313663Z",
     "iopub.status.busy": "2025-07-15T00:01:17.313039Z",
     "iopub.status.idle": "2025-07-15T00:01:17.321905Z",
     "shell.execute_reply": "2025-07-15T00:01:17.320959Z",
     "shell.execute_reply.started": "2025-07-15T00:01:17.313627Z"
    },
    "trusted": true
   },
   "outputs": [],
   "source": [
    "df[\"Is_metro_Close\"]=(df['metro_dist']<=df[\"metro_dist\"].quantile(0.25).astype(int))"
   ]
  },
  {
   "cell_type": "markdown",
   "metadata": {},
   "source": [
    "**Mapping level of satisfiction**"
   ]
  },
  {
   "cell_type": "code",
   "execution_count": 11,
   "metadata": {
    "execution": {
     "iopub.execute_input": "2025-07-15T00:01:44.072910Z",
     "iopub.status.busy": "2025-07-15T00:01:44.072122Z",
     "iopub.status.idle": "2025-07-15T00:01:44.088121Z",
     "shell.execute_reply": "2025-07-15T00:01:44.086755Z",
     "shell.execute_reply.started": "2025-07-15T00:01:44.072879Z"
    },
    "trusted": true
   },
   "outputs": [],
   "source": [
    "df[\"Satisfaction_Level\"]=pd .cut(df[\"guest_satisfaction_overall\"],bins=[0,80,90,95,100],labels=[\"Low\",\"Medium\",\"High\",\"Excellent\"])"
   ]
  },
  {
   "cell_type": "markdown",
   "metadata": {},
   "source": [
    "# EDA"
   ]
  },
  {
   "cell_type": "code",
   "execution_count": 12,
   "metadata": {
    "execution": {
     "iopub.execute_input": "2025-07-15T00:03:51.134167Z",
     "iopub.status.busy": "2025-07-15T00:03:51.133861Z",
     "iopub.status.idle": "2025-07-15T00:03:53.265431Z",
     "shell.execute_reply": "2025-07-15T00:03:53.264376Z",
     "shell.execute_reply.started": "2025-07-15T00:03:51.134145Z"
    },
    "trusted": true
   },
   "outputs": [
    {
     "data": {
      "text/html": [
       "<iframe\n",
       "    scrolling=\"no\"\n",
       "    width=\"100%\"\n",
       "    height=\"545px\"\n",
       "    src=\"iframe_figures/figure_12.html\"\n",
       "    frameborder=\"0\"\n",
       "    allowfullscreen\n",
       "></iframe>\n"
      ]
     },
     "metadata": {},
     "output_type": "display_data"
    }
   ],
   "source": [
    "fig = px.histogram(df, x=\"realSum\", nbins=50, title=\"Distribution of RealSum Values\")\n",
    "fig.show()\n"
   ]
  },
  {
   "cell_type": "markdown",
   "metadata": {},
   "source": [
    "**very abvious right skewnesss**"
   ]
  },
  {
   "cell_type": "markdown",
   "metadata": {},
   "source": [
    "> **Weekdend VS Weekdays Analysis**"
   ]
  },
  {
   "cell_type": "code",
   "execution_count": 13,
   "metadata": {
    "execution": {
     "iopub.execute_input": "2025-07-15T00:04:43.192576Z",
     "iopub.status.busy": "2025-07-15T00:04:43.191338Z",
     "iopub.status.idle": "2025-07-15T00:04:43.237613Z",
     "shell.execute_reply": "2025-07-15T00:04:43.236785Z",
     "shell.execute_reply.started": "2025-07-15T00:04:43.192536Z"
    },
    "trusted": true
   },
   "outputs": [
    {
     "data": {
      "text/html": [
       "<div>\n",
       "<style scoped>\n",
       "    .dataframe tbody tr th:only-of-type {\n",
       "        vertical-align: middle;\n",
       "    }\n",
       "\n",
       "    .dataframe tbody tr th {\n",
       "        vertical-align: top;\n",
       "    }\n",
       "\n",
       "    .dataframe thead th {\n",
       "        text-align: right;\n",
       "    }\n",
       "</style>\n",
       "<table border=\"1\" class=\"dataframe\">\n",
       "  <thead>\n",
       "    <tr style=\"text-align: right;\">\n",
       "      <th>day_type</th>\n",
       "      <th>weekday</th>\n",
       "      <th>weekend</th>\n",
       "      <th>weekend_premium</th>\n",
       "    </tr>\n",
       "    <tr>\n",
       "      <th>city</th>\n",
       "      <th></th>\n",
       "      <th></th>\n",
       "      <th></th>\n",
       "    </tr>\n",
       "  </thead>\n",
       "  <tbody>\n",
       "    <tr>\n",
       "      <th>Amsterdam</th>\n",
       "      <td>545.020526</td>\n",
       "      <td>604.828018</td>\n",
       "      <td>10.97</td>\n",
       "    </tr>\n",
       "    <tr>\n",
       "      <th>Budapest</th>\n",
       "      <td>168.429367</td>\n",
       "      <td>185.120628</td>\n",
       "      <td>9.91</td>\n",
       "    </tr>\n",
       "    <tr>\n",
       "      <th>Barcelona</th>\n",
       "      <td>288.391667</td>\n",
       "      <td>300.277940</td>\n",
       "      <td>4.12</td>\n",
       "    </tr>\n",
       "    <tr>\n",
       "      <th>Berlin</th>\n",
       "      <td>240.220422</td>\n",
       "      <td>249.252516</td>\n",
       "      <td>3.76</td>\n",
       "    </tr>\n",
       "    <tr>\n",
       "      <th>Rome</th>\n",
       "      <td>201.618053</td>\n",
       "      <td>209.130063</td>\n",
       "      <td>3.73</td>\n",
       "    </tr>\n",
       "    <tr>\n",
       "      <th>Lisbon</th>\n",
       "      <td>236.345459</td>\n",
       "      <td>240.044051</td>\n",
       "      <td>1.56</td>\n",
       "    </tr>\n",
       "    <tr>\n",
       "      <th>London</th>\n",
       "      <td>360.230348</td>\n",
       "      <td>364.389747</td>\n",
       "      <td>1.15</td>\n",
       "    </tr>\n",
       "    <tr>\n",
       "      <th>Vienna</th>\n",
       "      <td>240.384834</td>\n",
       "      <td>242.739524</td>\n",
       "      <td>0.98</td>\n",
       "    </tr>\n",
       "    <tr>\n",
       "      <th>Paris</th>\n",
       "      <td>398.786678</td>\n",
       "      <td>387.028589</td>\n",
       "      <td>-2.95</td>\n",
       "    </tr>\n",
       "    <tr>\n",
       "      <th>Athens</th>\n",
       "      <td>155.866982</td>\n",
       "      <td>147.580456</td>\n",
       "      <td>-5.32</td>\n",
       "    </tr>\n",
       "  </tbody>\n",
       "</table>\n",
       "</div>"
      ],
      "text/plain": [
       "day_type      weekday     weekend  weekend_premium\n",
       "city                                              \n",
       "Amsterdam  545.020526  604.828018            10.97\n",
       "Budapest   168.429367  185.120628             9.91\n",
       "Barcelona  288.391667  300.277940             4.12\n",
       "Berlin     240.220422  249.252516             3.76\n",
       "Rome       201.618053  209.130063             3.73\n",
       "Lisbon     236.345459  240.044051             1.56\n",
       "London     360.230348  364.389747             1.15\n",
       "Vienna     240.384834  242.739524             0.98\n",
       "Paris      398.786678  387.028589            -2.95\n",
       "Athens     155.866982  147.580456            -5.32"
      ]
     },
     "execution_count": 13,
     "metadata": {},
     "output_type": "execute_result"
    }
   ],
   "source": [
    "weekend_analysis=df.groupby(['city','day_type'])['realSum'].agg(['mean','count']).reset_index()\n",
    "weekend_pivot = weekend_analysis.pivot(index='city', columns='day_type', values='mean')\n",
    "#calculating percentage\n",
    "weekend_pivot[\"weekend_premium\"]=(((weekend_pivot['weekend']-weekend_pivot['weekday'])/weekend_pivot['weekday'])*100).round(2)\n",
    "weekend_pivot=weekend_pivot.sort_values('weekend_premium',ascending=False)\n",
    "weekend_pivot\n",
    "\n"
   ]
  },
  {
   "cell_type": "code",
   "execution_count": 14,
   "metadata": {
    "execution": {
     "iopub.execute_input": "2025-07-15T00:04:52.534395Z",
     "iopub.status.busy": "2025-07-15T00:04:52.533782Z",
     "iopub.status.idle": "2025-07-15T00:04:52.646070Z",
     "shell.execute_reply": "2025-07-15T00:04:52.644929Z",
     "shell.execute_reply.started": "2025-07-15T00:04:52.534352Z"
    },
    "trusted": true
   },
   "outputs": [
    {
     "data": {
      "text/html": [
       "<iframe\n",
       "    scrolling=\"no\"\n",
       "    width=\"100%\"\n",
       "    height=\"545px\"\n",
       "    src=\"iframe_figures/figure_14.html\"\n",
       "    frameborder=\"0\"\n",
       "    allowfullscreen\n",
       "></iframe>\n"
      ]
     },
     "metadata": {},
     "output_type": "display_data"
    }
   ],
   "source": [
    "\n",
    "weekend_pivot = weekend_pivot.reset_index()\n",
    "fig = px.bar(\n",
    "    weekend_pivot,\n",
    "    x=\"city\",\n",
    "    y=\"weekend_premium\",\n",
    "    title=\"Weekend Premium by City (%)\",\n",
    "    color_discrete_sequence=[\"blue\"]\n",
    ")\n",
    "\n",
    "\n",
    "fig.update_layout(\n",
    "    xaxis_title=\"City\",\n",
    "    yaxis_title=\"Weekend Premium (%)\",\n",
    "    title_font=dict(size=14, family=\"Arial\", color=\"black\"),\n",
    "    xaxis_tickangle=-45,\n",
    "    yaxis_gridcolor='rgba(0,0,0,0.3)',  \n",
    "    template='plotly_white'\n",
    ")\n",
    "\n",
    "fig.show()"
   ]
  },
  {
   "cell_type": "markdown",
   "metadata": {},
   "source": [
    "> **Super Hosting**"
   ]
  },
  {
   "cell_type": "code",
   "execution_count": 15,
   "metadata": {
    "execution": {
     "iopub.execute_input": "2025-07-15T00:05:29.742035Z",
     "iopub.status.busy": "2025-07-15T00:05:29.741756Z",
     "iopub.status.idle": "2025-07-15T00:05:29.842320Z",
     "shell.execute_reply": "2025-07-15T00:05:29.841257Z",
     "shell.execute_reply.started": "2025-07-15T00:05:29.742016Z"
    },
    "trusted": true
   },
   "outputs": [],
   "source": [
    "super_host_comp=df.groupby(['city','host_is_superhost']).agg({\n",
    "    'realSum':[\"mean\",\"count\"],\n",
    "    'guest_satisfaction_overall':'mean',\n",
    "    'cleanliness_rating':'mean'\n",
    "}).round(2)\n",
    "#getting the best of all cities\n",
    "super_host_premium={}\n",
    "for city in df['city'].unique():\n",
    "    city_data=df[df['city']==city]\n",
    "    superhost_price=city_data[city_data['host_is_superhost']==True]['realSum'].mean()\n",
    "    regualr_price=city_data[city_data['host_is_superhost']==False]['realSum'].mean()\n",
    "    premium=((superhost_price-regualr_price)/regualr_price)*100\n",
    "    super_host_premium[city]=premium\n",
    "superhost_premium_series = pd.Series(super_host_premium).sort_values(ascending=False)\n",
    "\n"
   ]
  },
  {
   "cell_type": "code",
   "execution_count": 16,
   "metadata": {
    "execution": {
     "iopub.execute_input": "2025-07-15T00:09:41.976332Z",
     "iopub.status.busy": "2025-07-15T00:09:41.976015Z",
     "iopub.status.idle": "2025-07-15T00:09:42.054071Z",
     "shell.execute_reply": "2025-07-15T00:09:42.052916Z",
     "shell.execute_reply.started": "2025-07-15T00:09:41.976310Z"
    },
    "trusted": true
   },
   "outputs": [
    {
     "data": {
      "text/html": [
       "<iframe\n",
       "    scrolling=\"no\"\n",
       "    width=\"100%\"\n",
       "    height=\"545px\"\n",
       "    src=\"iframe_figures/figure_16.html\"\n",
       "    frameborder=\"0\"\n",
       "    allowfullscreen\n",
       "></iframe>\n"
      ]
     },
     "metadata": {},
     "output_type": "display_data"
    }
   ],
   "source": [
    "\n",
    "df_superhost = superhost_premium_series.reset_index()\n",
    "df_superhost.columns = ['City', 'Superhost Premium (%)']\n",
    "\n",
    "\n",
    "fig = px.bar(\n",
    "    df_superhost,\n",
    "    x='City',\n",
    "    y='Superhost Premium (%)',\n",
    "    title='Superhost Premium by City (%)',\n",
    "    color_discrete_sequence=['purple']\n",
    ")\n",
    "\n",
    "\n",
    "fig.update_layout(\n",
    "    xaxis_title='City',\n",
    "    yaxis_title='Superhost Premium (%)',\n",
    "    title_font=dict(size=14, family='Arial', color='black'),\n",
    "    xaxis_tickangle=-45,\n",
    "    yaxis_gridcolor='rgba(0,0,0,0.3)',  \n",
    "    template='plotly_white'\n",
    ")\n",
    "\n",
    "fig.show()"
   ]
  },
  {
   "cell_type": "markdown",
   "metadata": {},
   "source": [
    "> **Location Analysis**"
   ]
  },
  {
   "cell_type": "code",
   "execution_count": 17,
   "metadata": {
    "execution": {
     "iopub.execute_input": "2025-07-15T00:06:05.427460Z",
     "iopub.status.busy": "2025-07-15T00:06:05.427117Z",
     "iopub.status.idle": "2025-07-15T00:06:05.445391Z",
     "shell.execute_reply": "2025-07-15T00:06:05.444337Z",
     "shell.execute_reply.started": "2025-07-15T00:06:05.427421Z"
    },
    "trusted": true
   },
   "outputs": [
    {
     "name": "stderr",
     "output_type": "stream",
     "text": [
      "C:\\Users\\maria\\AppData\\Local\\Temp\\ipykernel_13036\\367533527.py:8: FutureWarning:\n",
      "\n",
      "The default of observed=False is deprecated and will be changed to True in a future version of pandas. Pass observed=False to retain current behavior or observed=True to adopt the future default and silence this warning.\n",
      "\n",
      "C:\\Users\\maria\\AppData\\Local\\Temp\\ipykernel_13036\\367533527.py:11: FutureWarning:\n",
      "\n",
      "The default of observed=False is deprecated and will be changed to True in a future version of pandas. Pass observed=False to retain current behavior or observed=True to adopt the future default and silence this warning.\n",
      "\n"
     ]
    }
   ],
   "source": [
    "#categorizing metro and city center distances\n",
    "df['distance_citycenter_category']=pd.cut(df['dist'],bins=[0,2,5,10,float('inf')],labels=['Very Close (<500m)', 'Close (500m-1km)', \n",
    "                                    'Medium (1-2km)', 'Far (>2km)'])\n",
    "df[\"metro_category\"]=pd.cut(df[\"metro_dist\"], bins=[0, 500, 1000, 2000, float('inf')],\n",
    "                             labels=['Very Close (<500m)', 'Close (500m-1km)', \n",
    "                                    'Medium (1-2km)', 'Far (>2km)'])\n",
    "# Price by distance from city center and metro\n",
    "center_analysis = df.groupby('distance_citycenter_category')['realSum'].agg(['mean', 'count'])\n",
    "\n",
    "\n",
    "metro_analysis = df.groupby('metro_category')['realSum'].agg(['mean', 'count'])"
   ]
  },
  {
   "cell_type": "code",
   "execution_count": 18,
   "metadata": {
    "execution": {
     "iopub.execute_input": "2025-07-15T00:06:19.232056Z",
     "iopub.status.busy": "2025-07-15T00:06:19.231667Z",
     "iopub.status.idle": "2025-07-15T00:06:19.304569Z",
     "shell.execute_reply": "2025-07-15T00:06:19.303552Z",
     "shell.execute_reply.started": "2025-07-15T00:06:19.232031Z"
    },
    "trusted": true
   },
   "outputs": [
    {
     "data": {
      "text/html": [
       "<iframe\n",
       "    scrolling=\"no\"\n",
       "    width=\"1020px\"\n",
       "    height=\"520\"\n",
       "    src=\"iframe_figures/figure_18.html\"\n",
       "    frameborder=\"0\"\n",
       "    allowfullscreen\n",
       "></iframe>\n"
      ]
     },
     "metadata": {},
     "output_type": "display_data"
    }
   ],
   "source": [
    "\n",
    "fig = make_subplots(rows=1, cols=2, subplot_titles=(\n",
    "    \"Price by Distance from City Center\",\n",
    "    \"Price by Metro Distance\"\n",
    "))\n",
    "\n",
    "\n",
    "fig.add_trace(\n",
    "    go.Bar(\n",
    "        x=center_analysis.index,\n",
    "        y=center_analysis[\"mean\"],\n",
    "        name=\"City Center Distance\",\n",
    "        marker_color='lightcoral'\n",
    "    ),\n",
    "    row=1, col=1\n",
    ")\n",
    "\n",
    "\n",
    "fig.add_trace(\n",
    "    go.Bar(\n",
    "        x=metro_analysis.index,\n",
    "        y=metro_analysis[\"mean\"],\n",
    "        name=\"Metro Distance\",\n",
    "        marker_color='lightblue'\n",
    "    ),\n",
    "    row=1, col=2\n",
    ")\n",
    "\n",
    "\n",
    "fig.update_layout(\n",
    "    height=500,\n",
    "    width=1000,\n",
    "    title_text=\"Price Impact by Location Factors\",\n",
    "    template='plotly_white',\n",
    "    showlegend=False\n",
    ")\n",
    "\n",
    "\n",
    "fig.update_xaxes(tickangle=45)\n",
    "\n",
    "fig.show()"
   ]
  },
  {
   "cell_type": "markdown",
   "metadata": {},
   "source": [
    "> **Guest Satisfaction analysis**"
   ]
  },
  {
   "cell_type": "code",
   "execution_count": 19,
   "metadata": {
    "execution": {
     "iopub.execute_input": "2025-07-15T00:06:55.411355Z",
     "iopub.status.busy": "2025-07-15T00:06:55.411055Z",
     "iopub.status.idle": "2025-07-15T00:06:55.604432Z",
     "shell.execute_reply": "2025-07-15T00:06:55.603401Z",
     "shell.execute_reply.started": "2025-07-15T00:06:55.411333Z"
    },
    "trusted": true
   },
   "outputs": [
    {
     "name": "stderr",
     "output_type": "stream",
     "text": [
      "C:\\Users\\maria\\AppData\\Local\\Temp\\ipykernel_13036\\2442980997.py:1: FutureWarning:\n",
      "\n",
      "The default of observed=False is deprecated and will be changed to True in a future version of pandas. Pass observed=False to retain current behavior or observed=True to adopt the future default and silence this warning.\n",
      "\n"
     ]
    },
    {
     "data": {
      "text/html": [
       "<iframe\n",
       "    scrolling=\"no\"\n",
       "    width=\"100%\"\n",
       "    height=\"545px\"\n",
       "    src=\"iframe_figures/figure_19.html\"\n",
       "    frameborder=\"0\"\n",
       "    allowfullscreen\n",
       "></iframe>\n"
      ]
     },
     "metadata": {},
     "output_type": "display_data"
    }
   ],
   "source": [
    "satisfaction_analysis = df.groupby('Satisfaction_Level')['realSum'].agg(['mean', 'count'])\n",
    "\n",
    "fig = px.box(\n",
    "    df,\n",
    "    x=\"Satisfaction_Level\",\n",
    "    y=\"realSum\",\n",
    "    title=\"Price Distribution by Satisfaction Level\",\n",
    "    color=\"Satisfaction_Level\",\n",
    "    points=\"outliers\", \n",
    "    template=\"plotly_white\"\n",
    ")\n",
    "\n",
    "\n",
    "fig.update_layout(\n",
    "    xaxis_title=\"Satisfaction Level\",\n",
    "    yaxis_title=\"Price (€)\",\n",
    "    showlegend=False\n",
    ")\n",
    "\n",
    "fig.show()"
   ]
  },
  {
   "cell_type": "markdown",
   "metadata": {},
   "source": [
    "> **Satisfaction and Cleanliness**"
   ]
  },
  {
   "cell_type": "code",
   "execution_count": 20,
   "metadata": {
    "execution": {
     "iopub.execute_input": "2025-07-15T00:07:17.470069Z",
     "iopub.status.busy": "2025-07-15T00:07:17.469031Z",
     "iopub.status.idle": "2025-07-15T00:07:19.769827Z",
     "shell.execute_reply": "2025-07-15T00:07:19.768568Z",
     "shell.execute_reply.started": "2025-07-15T00:07:17.470026Z"
    },
    "trusted": true
   },
   "outputs": [
    {
     "data": {
      "text/html": [
       "<iframe\n",
       "    scrolling=\"no\"\n",
       "    width=\"100%\"\n",
       "    height=\"545px\"\n",
       "    src=\"iframe_figures/figure_20.html\"\n",
       "    frameborder=\"0\"\n",
       "    allowfullscreen\n",
       "></iframe>\n"
      ]
     },
     "metadata": {},
     "output_type": "display_data"
    }
   ],
   "source": [
    "\n",
    "fig = px.scatter(\n",
    "    df,\n",
    "    x=\"cleanliness_rating\",\n",
    "    y=\"guest_satisfaction_overall\",\n",
    "    title=\"Cleanliness vs Satisfaction\",\n",
    "    opacity=0.5,\n",
    "    color_discrete_sequence=[\"red\"],\n",
    "    trendline=\"ols\"\n",
    ")\n",
    "\n",
    "\n",
    "fig.update_layout(\n",
    "    xaxis_title=\"Cleanliness Rating\",\n",
    "    yaxis_title=\"Guest Satisfaction Overall\",\n",
    "    template=\"plotly_white\"\n",
    ")\n",
    "\n",
    "fig.show()"
   ]
  },
  {
   "cell_type": "markdown",
   "metadata": {},
   "source": [
    "> **Room Type & Capacity Analysis**"
   ]
  },
  {
   "cell_type": "code",
   "execution_count": 21,
   "metadata": {
    "execution": {
     "iopub.execute_input": "2025-07-15T00:07:39.037054Z",
     "iopub.status.busy": "2025-07-15T00:07:39.036395Z",
     "iopub.status.idle": "2025-07-15T00:07:39.054841Z",
     "shell.execute_reply": "2025-07-15T00:07:39.053849Z",
     "shell.execute_reply.started": "2025-07-15T00:07:39.037026Z"
    },
    "trusted": true
   },
   "outputs": [],
   "source": [
    "room_analysis = df.groupby('room_type')['realSum'].agg(['mean', 'count'])\n",
    "capacity_analysis = df.groupby('person_capacity')['realSum'].agg(['mean', 'count'])\n",
    "bedroom_analysis = df.groupby('bedrooms')['realSum'].agg(['mean', 'count'])\n"
   ]
  },
  {
   "cell_type": "code",
   "execution_count": 22,
   "metadata": {
    "execution": {
     "iopub.execute_input": "2025-07-15T00:07:46.044417Z",
     "iopub.status.busy": "2025-07-15T00:07:46.044144Z",
     "iopub.status.idle": "2025-07-15T00:07:46.147994Z",
     "shell.execute_reply": "2025-07-15T00:07:46.146841Z",
     "shell.execute_reply.started": "2025-07-15T00:07:46.044399Z"
    },
    "trusted": true
   },
   "outputs": [
    {
     "data": {
      "text/html": [
       "<iframe\n",
       "    scrolling=\"no\"\n",
       "    width=\"1020px\"\n",
       "    height=\"720\"\n",
       "    src=\"iframe_figures/figure_22.html\"\n",
       "    frameborder=\"0\"\n",
       "    allowfullscreen\n",
       "></iframe>\n"
      ]
     },
     "metadata": {},
     "output_type": "display_data"
    }
   ],
   "source": [
    "\n",
    "fig = make_subplots(\n",
    "    rows=2, cols=2,\n",
    "    subplot_titles=[\n",
    "        \"Average Price by Room Type\",\n",
    "        \"Price by Person Capacity\",\n",
    "        \"Price by Number of Bedrooms\",\n",
    "        \"Room Type Distribution\"\n",
    "    ],\n",
    "    specs=[[{}, {}], [{}, {\"type\": \"domain\"}]]  # Last one is for pie chart\n",
    ")\n",
    "\n",
    "\n",
    "fig.add_trace(\n",
    "    go.Bar(\n",
    "        x=room_analysis.index,\n",
    "        y=room_analysis[\"mean\"],\n",
    "        marker_color=\"lightgreen\",\n",
    "        name=\"Room Price\"\n",
    "    ),\n",
    "    row=1, col=1\n",
    ")\n",
    "\n",
    "\n",
    "fig.add_trace(\n",
    "    go.Scatter(\n",
    "        x=capacity_analysis.index[:10],\n",
    "        y=capacity_analysis[\"mean\"].head(10),\n",
    "        mode=\"lines+markers\",\n",
    "        marker=dict(color=\"blue\"),\n",
    "        name=\"Capacity Price\"\n",
    "    ),\n",
    "    row=1, col=2\n",
    ")\n",
    "\n",
    "fig.add_trace(\n",
    "    go.Bar(\n",
    "        x=bedroom_analysis.index[:8],\n",
    "        y=bedroom_analysis[\"mean\"].head(8),\n",
    "        marker_color=\"coral\",\n",
    "        name=\"Bedroom Price\"\n",
    "    ),\n",
    "    row=2, col=1\n",
    ")\n",
    "\n",
    "\n",
    "fig.add_trace(\n",
    "    go.Pie(\n",
    "        labels=df[\"room_type\"].value_counts().index,\n",
    "        values=df[\"room_type\"].value_counts().values,\n",
    "        textinfo=\"label+percent\",\n",
    "        marker=dict(colors=[\"#FFDDC1\", \"#FFC2D1\", \"#C1E1FF\", \"#C2F5C2\"])\n",
    "    ),\n",
    "    row=2, col=2\n",
    ")\n",
    "\n",
    "fig.update_layout(\n",
    "    height=700,\n",
    "    width=1000,\n",
    "    title_text=\"Room Type Distribution and Pricing Analysis\",\n",
    "    template=\"plotly_white\",\n",
    "    showlegend=False\n",
    ")\n",
    "\n",
    "\n",
    "fig.update_xaxes(tickangle=45)\n",
    "\n",
    "fig.show()"
   ]
  },
  {
   "cell_type": "markdown",
   "metadata": {},
   "source": [
    "> **Business vs Leisure Analysis**"
   ]
  },
  {
   "cell_type": "code",
   "execution_count": 23,
   "metadata": {
    "execution": {
     "iopub.execute_input": "2025-07-15T00:08:19.343241Z",
     "iopub.status.busy": "2025-07-15T00:08:19.342920Z",
     "iopub.status.idle": "2025-07-15T00:08:19.456297Z",
     "shell.execute_reply": "2025-07-15T00:08:19.455426Z",
     "shell.execute_reply.started": "2025-07-15T00:08:19.343221Z"
    },
    "trusted": true
   },
   "outputs": [],
   "source": [
    "# Business listing analysis\n",
    "business_analysis = df.groupby(['city', 'biz']).agg({\n",
    "    'realSum': ['mean', 'count'],\n",
    "    'guest_satisfaction_overall': 'mean',\n",
    "    'person_capacity': 'mean'\n",
    "}).round(2)\n",
    "business_premium = {}\n",
    "for city in df['city'].unique():\n",
    "    city_data = df[df['city'] == city]\n",
    "    if len(city_data[city_data['biz'] == True]) > 0:\n",
    "        business_price = city_data[city_data['biz'] == True]['realSum'].mean()\n",
    "        leisure_price = city_data[city_data['biz'] == False]['realSum'].mean()\n",
    "        premium = ((business_price - leisure_price) / leisure_price * 100)\n",
    "        business_premium[city] = premium\n",
    "\n",
    "business_premium_series = pd.Series(business_premium).sort_values(ascending=False)"
   ]
  },
  {
   "cell_type": "code",
   "execution_count": 24,
   "metadata": {
    "execution": {
     "iopub.execute_input": "2025-07-15T00:08:28.173085Z",
     "iopub.status.busy": "2025-07-15T00:08:28.172808Z",
     "iopub.status.idle": "2025-07-15T00:08:28.229705Z",
     "shell.execute_reply": "2025-07-15T00:08:28.228694Z",
     "shell.execute_reply.started": "2025-07-15T00:08:28.173067Z"
    },
    "trusted": true
   },
   "outputs": [
    {
     "data": {
      "text/html": [
       "<iframe\n",
       "    scrolling=\"no\"\n",
       "    width=\"1020px\"\n",
       "    height=\"520\"\n",
       "    src=\"iframe_figures/figure_24.html\"\n",
       "    frameborder=\"0\"\n",
       "    allowfullscreen\n",
       "></iframe>\n"
      ]
     },
     "metadata": {},
     "output_type": "display_data"
    }
   ],
   "source": [
    "\n",
    "df_business = business_premium_series.reset_index()\n",
    "df_business.columns = ['City', 'Business Premium (%)']\n",
    "\n",
    "fig = go.Figure()\n",
    "\n",
    "fig.add_trace(\n",
    "    go.Bar(\n",
    "        x=df_business['City'],\n",
    "        y=df_business['Business Premium (%)'],\n",
    "        marker_color='navy',\n",
    "        name='Business Premium'\n",
    "    )\n",
    ")\n",
    "\n",
    "\n",
    "fig.add_shape(\n",
    "    type=\"line\",\n",
    "    x0=-0.5,\n",
    "    x1=len(df_business['City']) - 0.5,\n",
    "    y0=0,\n",
    "    y1=0,\n",
    "    line=dict(color=\"red\", dash=\"dash\", width=2),\n",
    ")\n",
    "\n",
    "\n",
    "fig.update_layout(\n",
    "    title=\"Business Listing Premium by City (%)\",\n",
    "    xaxis_title=\"City\",\n",
    "    yaxis_title=\"Business Premium (%)\",\n",
    "    xaxis_tickangle=45,\n",
    "    template=\"plotly_white\",\n",
    "    height=500,\n",
    "    width=1000,\n",
    "    showlegend=False,\n",
    "    shapes=[dict(type='line', xref='paper', x0=0, x1=1, yref='y', y0=0, y1=0,\n",
    "                 line=dict(color='red', width=2, dash='dash'))]\n",
    ")\n",
    "\n",
    "fig.show()"
   ]
  },
  {
   "cell_type": "markdown",
   "metadata": {},
   "source": [
    "# summary"
   ]
  },
  {
   "cell_type": "markdown",
   "metadata": {},
   "source": [
    "****"
   ]
  },
  {
   "cell_type": "markdown",
   "metadata": {},
   "source": [
    "> * **Prices vary as some Airbnb have very high prices so there is a right skewness.**\n",
    "> * **Amsterdam exhibits the highest average prices for Airbnb listings in Europe it is the highest city also in weekends as all cities are pricey in weekends so it makes perfect since surprisingly vienna is the lowest.**\n",
    "> * **Quantifying the exact revenue advantage of being a superhost across cities shows that Athens takes the highest place while london takes the lowest place.**\n",
    "> * **Most Aibnb are close to metro but not all of them are at the same distance from city centers.**\n",
    "> * **Price by satisfaction level shows that the more pricey the more good reviews which is normal and predictable what you pay what you get!**\n",
    "> * **The relation between cleanliness and satisfaction is directly propotional (no one is satisfied in an unclean place).**\n",
    "> * **Entire home and aprtment are the most expensive however shared rooms are more convinent.**\n",
    "> * **When the number of persons capcity per place increase the price also increase.**\n",
    "> * **Airbnb having 6 bedrooms are most found and most expensive unlike 8 which ofc pricey but not as available.**\n",
    "> * **Most airbnb are Entire home and shared rooms are very little percentage.**\n",
    "> * **Most city for business performance is Barcelona while the least is amestrdam due to its prices.** "
   ]
  }
 ],
 "metadata": {
  "kaggle": {
   "accelerator": "none",
   "dataSources": [
    {
     "datasetId": 2919695,
     "sourceId": 7809961,
     "sourceType": "datasetVersion"
    }
   ],
   "dockerImageVersionId": 31089,
   "isGpuEnabled": false,
   "isInternetEnabled": true,
   "language": "python",
   "sourceType": "notebook"
  },
  "kernelspec": {
   "display_name": "Python 3",
   "language": "python",
   "name": "python3"
  },
  "language_info": {
   "codemirror_mode": {
    "name": "ipython",
    "version": 3
   },
   "file_extension": ".py",
   "mimetype": "text/x-python",
   "name": "python",
   "nbconvert_exporter": "python",
   "pygments_lexer": "ipython3",
   "version": "3.13.1"
  }
 },
 "nbformat": 4,
 "nbformat_minor": 4
}
