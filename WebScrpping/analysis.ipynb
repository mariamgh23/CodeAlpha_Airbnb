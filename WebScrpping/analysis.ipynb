{
 "cells": [
  {
   "cell_type": "markdown",
   "id": "9e4028b7",
   "metadata": {},
   "source": [
    "Importing libraries"
   ]
  },
  {
   "cell_type": "code",
   "execution_count": 1,
   "id": "a31cf075",
   "metadata": {},
   "outputs": [],
   "source": [
    "import pandas as pd\n",
    "import numpy as np"
   ]
  },
  {
   "cell_type": "markdown",
   "id": "40fee81e",
   "metadata": {},
   "source": [
    "Loading data"
   ]
  },
  {
   "cell_type": "code",
   "execution_count": 2,
   "id": "2975c1c0",
   "metadata": {},
   "outputs": [],
   "source": [
    "df=pd.read_csv(\"Airbnb_Rome.csv\")"
   ]
  },
  {
   "cell_type": "code",
   "execution_count": 3,
   "id": "241894c2",
   "metadata": {},
   "outputs": [
    {
     "data": {
      "text/html": [
       "<div>\n",
       "<style scoped>\n",
       "    .dataframe tbody tr th:only-of-type {\n",
       "        vertical-align: middle;\n",
       "    }\n",
       "\n",
       "    .dataframe tbody tr th {\n",
       "        vertical-align: top;\n",
       "    }\n",
       "\n",
       "    .dataframe thead th {\n",
       "        text-align: right;\n",
       "    }\n",
       "</style>\n",
       "<table border=\"1\" class=\"dataframe\">\n",
       "  <thead>\n",
       "    <tr style=\"text-align: right;\">\n",
       "      <th></th>\n",
       "      <th>Airbnb_type</th>\n",
       "      <th>City</th>\n",
       "      <th>Price_before_sale</th>\n",
       "      <th>price_after_sale</th>\n",
       "      <th>Rates</th>\n",
       "      <th>Reviews_Num</th>\n",
       "      <th>Host_name</th>\n",
       "      <th>Host_Profession</th>\n",
       "    </tr>\n",
       "  </thead>\n",
       "  <tbody>\n",
       "    <tr>\n",
       "      <th>0</th>\n",
       "      <td>Room</td>\n",
       "      <td>Tuscolano</td>\n",
       "      <td>ج.م10,312</td>\n",
       "      <td>ج.م7,147</td>\n",
       "      <td>4.64</td>\n",
       "      <td>14</td>\n",
       "      <td>Daniel</td>\n",
       "      <td>Social technician</td>\n",
       "    </tr>\n",
       "    <tr>\n",
       "      <th>1</th>\n",
       "      <td>Loft</td>\n",
       "      <td>Trevi</td>\n",
       "      <td>ج.م73,640</td>\n",
       "      <td>ج.م32,551</td>\n",
       "      <td>4.77</td>\n",
       "      <td>163</td>\n",
       "      <td>Federico</td>\n",
       "      <td>Audio</td>\n",
       "    </tr>\n",
       "    <tr>\n",
       "      <th>2</th>\n",
       "      <td>Apartment</td>\n",
       "      <td>Trevi</td>\n",
       "      <td>ج.م77,592</td>\n",
       "      <td>ج.م63,648</td>\n",
       "      <td>4.80</td>\n",
       "      <td>716</td>\n",
       "      <td>Juan Carlos</td>\n",
       "      <td>Musician</td>\n",
       "    </tr>\n",
       "    <tr>\n",
       "      <th>3</th>\n",
       "      <td>Apartment</td>\n",
       "      <td>Celio</td>\n",
       "      <td>ج.م166,053</td>\n",
       "      <td>ج.م137,055</td>\n",
       "      <td>5.00</td>\n",
       "      <td>69</td>\n",
       "      <td>Valeria</td>\n",
       "      <td>Freelance</td>\n",
       "    </tr>\n",
       "    <tr>\n",
       "      <th>4</th>\n",
       "      <td>Vacation home</td>\n",
       "      <td>Rome</td>\n",
       "      <td>ج.م60,379</td>\n",
       "      <td>ج.م36,644</td>\n",
       "      <td>4.88</td>\n",
       "      <td>98</td>\n",
       "      <td>G</td>\n",
       "      <td>Hosting for</td>\n",
       "    </tr>\n",
       "  </tbody>\n",
       "</table>\n",
       "</div>"
      ],
      "text/plain": [
       "     Airbnb_type       City Price_before_sale price_after_sale  Rates  \\\n",
       "0           Room  Tuscolano         ج.م10,312         ج.م7,147   4.64   \n",
       "1           Loft      Trevi         ج.م73,640        ج.م32,551   4.77   \n",
       "2      Apartment      Trevi         ج.م77,592        ج.م63,648   4.80   \n",
       "3      Apartment      Celio        ج.م166,053       ج.م137,055   5.00   \n",
       "4  Vacation home       Rome         ج.م60,379        ج.م36,644   4.88   \n",
       "\n",
       "   Reviews_Num    Host_name    Host_Profession  \n",
       "0           14       Daniel  Social technician  \n",
       "1          163     Federico              Audio  \n",
       "2          716  Juan Carlos           Musician  \n",
       "3           69      Valeria          Freelance  \n",
       "4           98            G        Hosting for  "
      ]
     },
     "execution_count": 3,
     "metadata": {},
     "output_type": "execute_result"
    }
   ],
   "source": [
    "df.head()"
   ]
  },
  {
   "cell_type": "code",
   "execution_count": 4,
   "id": "94cb6fc6",
   "metadata": {},
   "outputs": [
    {
     "name": "stdout",
     "output_type": "stream",
     "text": [
      "<class 'pandas.core.frame.DataFrame'>\n",
      "RangeIndex: 298 entries, 0 to 297\n",
      "Data columns (total 8 columns):\n",
      " #   Column             Non-Null Count  Dtype  \n",
      "---  ------             --------------  -----  \n",
      " 0   Airbnb_type        298 non-null    object \n",
      " 1   City               298 non-null    object \n",
      " 2   Price_before_sale  298 non-null    object \n",
      " 3   price_after_sale   298 non-null    object \n",
      " 4   Rates              298 non-null    float64\n",
      " 5   Reviews_Num        298 non-null    int64  \n",
      " 6   Host_name          295 non-null    object \n",
      " 7   Host_Profession    295 non-null    object \n",
      "dtypes: float64(1), int64(1), object(6)\n",
      "memory usage: 18.8+ KB\n"
     ]
    }
   ],
   "source": [
    "df.info()"
   ]
  },
  {
   "cell_type": "markdown",
   "id": "e4ff7d53",
   "metadata": {},
   "source": [
    "*Host name and profession name have null values which maybe unspecified so we can fillna with unknown.\n",
    "*price column needs to be converted into int."
   ]
  },
  {
   "cell_type": "code",
   "execution_count": 13,
   "id": "0c8e5b8e",
   "metadata": {},
   "outputs": [],
   "source": [
    "df.fillna(\"unknown\",inplace=True)"
   ]
  },
  {
   "cell_type": "code",
   "execution_count": 6,
   "id": "332b14fc",
   "metadata": {},
   "outputs": [],
   "source": [
    "import re\n",
    "def clean_egyptian_price(price_str):\n",
    "    return pd.to_numeric(\n",
    "        price_str.str.replace('ج.م', '', regex=False)\n",
    "                  .str.replace(',', '', regex=False)\n",
    "                  .str.strip()\n",
    "    )\n",
    "\n",
    "# Apply to your columns\n",
    "df['Price_before_sale'] = clean_egyptian_price(df['Price_before_sale'])\n",
    "df['price_after_sale'] = clean_egyptian_price(df['price_after_sale'])\n"
   ]
  },
  {
   "cell_type": "code",
   "execution_count": null,
   "id": "8ea27e54",
   "metadata": {},
   "outputs": [
    {
     "data": {
      "text/html": [
       "<div>\n",
       "<style scoped>\n",
       "    .dataframe tbody tr th:only-of-type {\n",
       "        vertical-align: middle;\n",
       "    }\n",
       "\n",
       "    .dataframe tbody tr th {\n",
       "        vertical-align: top;\n",
       "    }\n",
       "\n",
       "    .dataframe thead th {\n",
       "        text-align: right;\n",
       "    }\n",
       "</style>\n",
       "<table border=\"1\" class=\"dataframe\">\n",
       "  <thead>\n",
       "    <tr style=\"text-align: right;\">\n",
       "      <th></th>\n",
       "      <th>Price_before_sale</th>\n",
       "      <th>price_after_sale</th>\n",
       "      <th>Rates</th>\n",
       "      <th>Reviews_Num</th>\n",
       "      <th>Dicount_Amount</th>\n",
       "      <th>Discount%</th>\n",
       "    </tr>\n",
       "  </thead>\n",
       "  <tbody>\n",
       "    <tr>\n",
       "      <th>count</th>\n",
       "      <td>298.000000</td>\n",
       "      <td>298.000000</td>\n",
       "      <td>298.000000</td>\n",
       "      <td>298.000000</td>\n",
       "      <td>298.000000</td>\n",
       "      <td>298.000000</td>\n",
       "    </tr>\n",
       "    <tr>\n",
       "      <th>mean</th>\n",
       "      <td>47254.986577</td>\n",
       "      <td>34739.570470</td>\n",
       "      <td>4.875772</td>\n",
       "      <td>163.969799</td>\n",
       "      <td>12515.416107</td>\n",
       "      <td>24.654362</td>\n",
       "    </tr>\n",
       "    <tr>\n",
       "      <th>std</th>\n",
       "      <td>37816.670837</td>\n",
       "      <td>26227.976534</td>\n",
       "      <td>0.120402</td>\n",
       "      <td>187.076883</td>\n",
       "      <td>14010.836579</td>\n",
       "      <td>11.623933</td>\n",
       "    </tr>\n",
       "    <tr>\n",
       "      <th>min</th>\n",
       "      <td>10312.000000</td>\n",
       "      <td>7147.000000</td>\n",
       "      <td>4.490000</td>\n",
       "      <td>3.000000</td>\n",
       "      <td>1157.000000</td>\n",
       "      <td>8.000000</td>\n",
       "    </tr>\n",
       "    <tr>\n",
       "      <th>25%</th>\n",
       "      <td>29315.000000</td>\n",
       "      <td>22646.000000</td>\n",
       "      <td>4.800000</td>\n",
       "      <td>15.250000</td>\n",
       "      <td>5223.000000</td>\n",
       "      <td>15.000000</td>\n",
       "    </tr>\n",
       "    <tr>\n",
       "      <th>50%</th>\n",
       "      <td>36436.500000</td>\n",
       "      <td>26575.000000</td>\n",
       "      <td>4.900000</td>\n",
       "      <td>97.500000</td>\n",
       "      <td>8557.000000</td>\n",
       "      <td>22.000000</td>\n",
       "    </tr>\n",
       "    <tr>\n",
       "      <th>75%</th>\n",
       "      <td>52238.000000</td>\n",
       "      <td>36644.000000</td>\n",
       "      <td>5.000000</td>\n",
       "      <td>245.500000</td>\n",
       "      <td>15804.000000</td>\n",
       "      <td>32.000000</td>\n",
       "    </tr>\n",
       "    <tr>\n",
       "      <th>max</th>\n",
       "      <td>275627.000000</td>\n",
       "      <td>172241.000000</td>\n",
       "      <td>5.000000</td>\n",
       "      <td>833.000000</td>\n",
       "      <td>103961.000000</td>\n",
       "      <td>56.000000</td>\n",
       "    </tr>\n",
       "  </tbody>\n",
       "</table>\n",
       "</div>"
      ],
      "text/plain": [
       "       Price_before_sale  price_after_sale       Rates  Reviews_Num  \\\n",
       "count         298.000000        298.000000  298.000000   298.000000   \n",
       "mean        47254.986577      34739.570470    4.875772   163.969799   \n",
       "std         37816.670837      26227.976534    0.120402   187.076883   \n",
       "min         10312.000000       7147.000000    4.490000     3.000000   \n",
       "25%         29315.000000      22646.000000    4.800000    15.250000   \n",
       "50%         36436.500000      26575.000000    4.900000    97.500000   \n",
       "75%         52238.000000      36644.000000    5.000000   245.500000   \n",
       "max        275627.000000     172241.000000    5.000000   833.000000   \n",
       "\n",
       "       Dicount_Amount   Discount%  \n",
       "count      298.000000  298.000000  \n",
       "mean     12515.416107   24.654362  \n",
       "std      14010.836579   11.623933  \n",
       "min       1157.000000    8.000000  \n",
       "25%       5223.000000   15.000000  \n",
       "50%       8557.000000   22.000000  \n",
       "75%      15804.000000   32.000000  \n",
       "max     103961.000000   56.000000  "
      ]
     },
     "execution_count": 37,
     "metadata": {},
     "output_type": "execute_result"
    }
   ],
   "source": [
    "df.describe()\n",
    "#prices have right skweness"
   ]
  },
  {
   "cell_type": "code",
   "execution_count": 9,
   "id": "ce19656e",
   "metadata": {},
   "outputs": [
    {
     "data": {
      "text/plain": [
       "np.int64(7)"
      ]
     },
     "execution_count": 9,
     "metadata": {},
     "output_type": "execute_result"
    }
   ],
   "source": [
    "df.duplicated().sum()"
   ]
  },
  {
   "cell_type": "code",
   "execution_count": 15,
   "id": "d34dfc1a",
   "metadata": {},
   "outputs": [
    {
     "data": {
      "text/html": [
       "<div>\n",
       "<style scoped>\n",
       "    .dataframe tbody tr th:only-of-type {\n",
       "        vertical-align: middle;\n",
       "    }\n",
       "\n",
       "    .dataframe tbody tr th {\n",
       "        vertical-align: top;\n",
       "    }\n",
       "\n",
       "    .dataframe thead th {\n",
       "        text-align: right;\n",
       "    }\n",
       "</style>\n",
       "<table border=\"1\" class=\"dataframe\">\n",
       "  <thead>\n",
       "    <tr style=\"text-align: right;\">\n",
       "      <th></th>\n",
       "      <th>Airbnb_type</th>\n",
       "      <th>City</th>\n",
       "      <th>Price_before_sale</th>\n",
       "      <th>price_after_sale</th>\n",
       "      <th>Rates</th>\n",
       "      <th>Reviews_Num</th>\n",
       "      <th>Host_name</th>\n",
       "      <th>Host_Profession</th>\n",
       "    </tr>\n",
       "  </thead>\n",
       "  <tbody>\n",
       "    <tr>\n",
       "      <th>0</th>\n",
       "      <td>Room</td>\n",
       "      <td>Tuscolano</td>\n",
       "      <td>10312</td>\n",
       "      <td>7147</td>\n",
       "      <td>4.64</td>\n",
       "      <td>14</td>\n",
       "      <td>Daniel</td>\n",
       "      <td>Social technician</td>\n",
       "    </tr>\n",
       "    <tr>\n",
       "      <th>1</th>\n",
       "      <td>Loft</td>\n",
       "      <td>Trevi</td>\n",
       "      <td>73640</td>\n",
       "      <td>32551</td>\n",
       "      <td>4.77</td>\n",
       "      <td>163</td>\n",
       "      <td>Federico</td>\n",
       "      <td>Audio</td>\n",
       "    </tr>\n",
       "    <tr>\n",
       "      <th>2</th>\n",
       "      <td>Apartment</td>\n",
       "      <td>Trevi</td>\n",
       "      <td>77592</td>\n",
       "      <td>63648</td>\n",
       "      <td>4.80</td>\n",
       "      <td>716</td>\n",
       "      <td>Juan Carlos</td>\n",
       "      <td>Musician</td>\n",
       "    </tr>\n",
       "    <tr>\n",
       "      <th>3</th>\n",
       "      <td>Apartment</td>\n",
       "      <td>Celio</td>\n",
       "      <td>166053</td>\n",
       "      <td>137055</td>\n",
       "      <td>5.00</td>\n",
       "      <td>69</td>\n",
       "      <td>Valeria</td>\n",
       "      <td>Freelance</td>\n",
       "    </tr>\n",
       "    <tr>\n",
       "      <th>4</th>\n",
       "      <td>Vacation home</td>\n",
       "      <td>Rome</td>\n",
       "      <td>60379</td>\n",
       "      <td>36644</td>\n",
       "      <td>4.88</td>\n",
       "      <td>98</td>\n",
       "      <td>G</td>\n",
       "      <td>Hosting for</td>\n",
       "    </tr>\n",
       "    <tr>\n",
       "      <th>...</th>\n",
       "      <td>...</td>\n",
       "      <td>...</td>\n",
       "      <td>...</td>\n",
       "      <td>...</td>\n",
       "      <td>...</td>\n",
       "      <td>...</td>\n",
       "      <td>...</td>\n",
       "      <td>...</td>\n",
       "    </tr>\n",
       "    <tr>\n",
       "      <th>293</th>\n",
       "      <td>Apartment</td>\n",
       "      <td>Rome</td>\n",
       "      <td>58686</td>\n",
       "      <td>44898</td>\n",
       "      <td>5.00</td>\n",
       "      <td>4</td>\n",
       "      <td>Unknown</td>\n",
       "      <td>Unknown</td>\n",
       "    </tr>\n",
       "    <tr>\n",
       "      <th>294</th>\n",
       "      <td>Room</td>\n",
       "      <td>Rome</td>\n",
       "      <td>69365</td>\n",
       "      <td>49867</td>\n",
       "      <td>4.72</td>\n",
       "      <td>58</td>\n",
       "      <td>Unknown</td>\n",
       "      <td>Unknown</td>\n",
       "    </tr>\n",
       "    <tr>\n",
       "      <th>295</th>\n",
       "      <td>Apartment</td>\n",
       "      <td>Rome</td>\n",
       "      <td>48382</td>\n",
       "      <td>39170</td>\n",
       "      <td>4.67</td>\n",
       "      <td>3</td>\n",
       "      <td>unknown</td>\n",
       "      <td>unknown</td>\n",
       "    </tr>\n",
       "    <tr>\n",
       "      <th>296</th>\n",
       "      <td>Apartment</td>\n",
       "      <td>Rome</td>\n",
       "      <td>54534</td>\n",
       "      <td>49758</td>\n",
       "      <td>4.77</td>\n",
       "      <td>94</td>\n",
       "      <td>unknown</td>\n",
       "      <td>unknown</td>\n",
       "    </tr>\n",
       "    <tr>\n",
       "      <th>297</th>\n",
       "      <td>Loft</td>\n",
       "      <td>Rome</td>\n",
       "      <td>23760</td>\n",
       "      <td>21393</td>\n",
       "      <td>4.73</td>\n",
       "      <td>110</td>\n",
       "      <td>unknown</td>\n",
       "      <td>unknown</td>\n",
       "    </tr>\n",
       "  </tbody>\n",
       "</table>\n",
       "<p>291 rows × 8 columns</p>\n",
       "</div>"
      ],
      "text/plain": [
       "       Airbnb_type       City  Price_before_sale  price_after_sale  Rates  \\\n",
       "0             Room  Tuscolano              10312              7147   4.64   \n",
       "1             Loft      Trevi              73640             32551   4.77   \n",
       "2        Apartment      Trevi              77592             63648   4.80   \n",
       "3        Apartment      Celio             166053            137055   5.00   \n",
       "4    Vacation home       Rome              60379             36644   4.88   \n",
       "..             ...        ...                ...               ...    ...   \n",
       "293      Apartment       Rome              58686             44898   5.00   \n",
       "294           Room       Rome              69365             49867   4.72   \n",
       "295      Apartment       Rome              48382             39170   4.67   \n",
       "296      Apartment       Rome              54534             49758   4.77   \n",
       "297           Loft       Rome              23760             21393   4.73   \n",
       "\n",
       "     Reviews_Num    Host_name    Host_Profession  \n",
       "0             14       Daniel  Social technician  \n",
       "1            163     Federico              Audio  \n",
       "2            716  Juan Carlos           Musician  \n",
       "3             69      Valeria          Freelance  \n",
       "4             98            G        Hosting for  \n",
       "..           ...          ...                ...  \n",
       "293            4      Unknown            Unknown  \n",
       "294           58      Unknown            Unknown  \n",
       "295            3      unknown            unknown  \n",
       "296           94      unknown            unknown  \n",
       "297          110      unknown            unknown  \n",
       "\n",
       "[291 rows x 8 columns]"
      ]
     },
     "execution_count": 15,
     "metadata": {},
     "output_type": "execute_result"
    }
   ],
   "source": [
    "df.drop_duplicates()"
   ]
  },
  {
   "cell_type": "markdown",
   "id": "52138b5e",
   "metadata": {},
   "source": [
    "#Feature Engineering"
   ]
  },
  {
   "cell_type": "code",
   "execution_count": 16,
   "id": "e0e850e6",
   "metadata": {},
   "outputs": [],
   "source": [
    "df[\"Dicount_Amount\"]=df[\"Price_before_sale\"]-df[\"price_after_sale\"]"
   ]
  },
  {
   "cell_type": "code",
   "execution_count": 23,
   "id": "a2fcf410",
   "metadata": {},
   "outputs": [],
   "source": [
    "df[\"Discount%\"]=((df[\"Dicount_Amount\"]/df[\"Price_before_sale\"])*100).round(0)"
   ]
  },
  {
   "cell_type": "code",
   "execution_count": 24,
   "id": "3c4c0ebd",
   "metadata": {},
   "outputs": [
    {
     "data": {
      "text/plain": [
       "0      31.0\n",
       "1      56.0\n",
       "2      18.0\n",
       "3      17.0\n",
       "4      39.0\n",
       "       ... \n",
       "293    23.0\n",
       "294    28.0\n",
       "295    19.0\n",
       "296     9.0\n",
       "297    10.0\n",
       "Name: Discount%, Length: 298, dtype: float64"
      ]
     },
     "execution_count": 24,
     "metadata": {},
     "output_type": "execute_result"
    }
   ],
   "source": [
    "df[\"Discount%\"]"
   ]
  },
  {
   "cell_type": "code",
   "execution_count": 25,
   "id": "286282a4",
   "metadata": {},
   "outputs": [
    {
     "data": {
      "text/html": [
       "<div>\n",
       "<style scoped>\n",
       "    .dataframe tbody tr th:only-of-type {\n",
       "        vertical-align: middle;\n",
       "    }\n",
       "\n",
       "    .dataframe tbody tr th {\n",
       "        vertical-align: top;\n",
       "    }\n",
       "\n",
       "    .dataframe thead th {\n",
       "        text-align: right;\n",
       "    }\n",
       "</style>\n",
       "<table border=\"1\" class=\"dataframe\">\n",
       "  <thead>\n",
       "    <tr style=\"text-align: right;\">\n",
       "      <th></th>\n",
       "      <th>Airbnb_type</th>\n",
       "      <th>City</th>\n",
       "      <th>Price_before_sale</th>\n",
       "      <th>price_after_sale</th>\n",
       "      <th>Rates</th>\n",
       "      <th>Reviews_Num</th>\n",
       "      <th>Host_name</th>\n",
       "      <th>Host_Profession</th>\n",
       "      <th>Dicount_Amount</th>\n",
       "      <th>Discount%</th>\n",
       "    </tr>\n",
       "  </thead>\n",
       "  <tbody>\n",
       "    <tr>\n",
       "      <th>0</th>\n",
       "      <td>Room</td>\n",
       "      <td>Tuscolano</td>\n",
       "      <td>10312</td>\n",
       "      <td>7147</td>\n",
       "      <td>4.64</td>\n",
       "      <td>14</td>\n",
       "      <td>Daniel</td>\n",
       "      <td>Social technician</td>\n",
       "      <td>3165</td>\n",
       "      <td>31.0</td>\n",
       "    </tr>\n",
       "    <tr>\n",
       "      <th>1</th>\n",
       "      <td>Loft</td>\n",
       "      <td>Trevi</td>\n",
       "      <td>73640</td>\n",
       "      <td>32551</td>\n",
       "      <td>4.77</td>\n",
       "      <td>163</td>\n",
       "      <td>Federico</td>\n",
       "      <td>Audio</td>\n",
       "      <td>41089</td>\n",
       "      <td>56.0</td>\n",
       "    </tr>\n",
       "    <tr>\n",
       "      <th>2</th>\n",
       "      <td>Apartment</td>\n",
       "      <td>Trevi</td>\n",
       "      <td>77592</td>\n",
       "      <td>63648</td>\n",
       "      <td>4.80</td>\n",
       "      <td>716</td>\n",
       "      <td>Juan Carlos</td>\n",
       "      <td>Musician</td>\n",
       "      <td>13944</td>\n",
       "      <td>18.0</td>\n",
       "    </tr>\n",
       "    <tr>\n",
       "      <th>3</th>\n",
       "      <td>Apartment</td>\n",
       "      <td>Celio</td>\n",
       "      <td>166053</td>\n",
       "      <td>137055</td>\n",
       "      <td>5.00</td>\n",
       "      <td>69</td>\n",
       "      <td>Valeria</td>\n",
       "      <td>Freelance</td>\n",
       "      <td>28998</td>\n",
       "      <td>17.0</td>\n",
       "    </tr>\n",
       "    <tr>\n",
       "      <th>4</th>\n",
       "      <td>Vacation home</td>\n",
       "      <td>Rome</td>\n",
       "      <td>60379</td>\n",
       "      <td>36644</td>\n",
       "      <td>4.88</td>\n",
       "      <td>98</td>\n",
       "      <td>G</td>\n",
       "      <td>Hosting for</td>\n",
       "      <td>23735</td>\n",
       "      <td>39.0</td>\n",
       "    </tr>\n",
       "    <tr>\n",
       "      <th>...</th>\n",
       "      <td>...</td>\n",
       "      <td>...</td>\n",
       "      <td>...</td>\n",
       "      <td>...</td>\n",
       "      <td>...</td>\n",
       "      <td>...</td>\n",
       "      <td>...</td>\n",
       "      <td>...</td>\n",
       "      <td>...</td>\n",
       "      <td>...</td>\n",
       "    </tr>\n",
       "    <tr>\n",
       "      <th>293</th>\n",
       "      <td>Apartment</td>\n",
       "      <td>Rome</td>\n",
       "      <td>58686</td>\n",
       "      <td>44898</td>\n",
       "      <td>5.00</td>\n",
       "      <td>4</td>\n",
       "      <td>Unknown</td>\n",
       "      <td>Unknown</td>\n",
       "      <td>13788</td>\n",
       "      <td>23.0</td>\n",
       "    </tr>\n",
       "    <tr>\n",
       "      <th>294</th>\n",
       "      <td>Room</td>\n",
       "      <td>Rome</td>\n",
       "      <td>69365</td>\n",
       "      <td>49867</td>\n",
       "      <td>4.72</td>\n",
       "      <td>58</td>\n",
       "      <td>Unknown</td>\n",
       "      <td>Unknown</td>\n",
       "      <td>19498</td>\n",
       "      <td>28.0</td>\n",
       "    </tr>\n",
       "    <tr>\n",
       "      <th>295</th>\n",
       "      <td>Apartment</td>\n",
       "      <td>Rome</td>\n",
       "      <td>48382</td>\n",
       "      <td>39170</td>\n",
       "      <td>4.67</td>\n",
       "      <td>3</td>\n",
       "      <td>unknown</td>\n",
       "      <td>unknown</td>\n",
       "      <td>9212</td>\n",
       "      <td>19.0</td>\n",
       "    </tr>\n",
       "    <tr>\n",
       "      <th>296</th>\n",
       "      <td>Apartment</td>\n",
       "      <td>Rome</td>\n",
       "      <td>54534</td>\n",
       "      <td>49758</td>\n",
       "      <td>4.77</td>\n",
       "      <td>94</td>\n",
       "      <td>unknown</td>\n",
       "      <td>unknown</td>\n",
       "      <td>4776</td>\n",
       "      <td>9.0</td>\n",
       "    </tr>\n",
       "    <tr>\n",
       "      <th>297</th>\n",
       "      <td>Loft</td>\n",
       "      <td>Rome</td>\n",
       "      <td>23760</td>\n",
       "      <td>21393</td>\n",
       "      <td>4.73</td>\n",
       "      <td>110</td>\n",
       "      <td>unknown</td>\n",
       "      <td>unknown</td>\n",
       "      <td>2367</td>\n",
       "      <td>10.0</td>\n",
       "    </tr>\n",
       "  </tbody>\n",
       "</table>\n",
       "<p>298 rows × 10 columns</p>\n",
       "</div>"
      ],
      "text/plain": [
       "       Airbnb_type       City  Price_before_sale  price_after_sale  Rates  \\\n",
       "0             Room  Tuscolano              10312              7147   4.64   \n",
       "1             Loft      Trevi              73640             32551   4.77   \n",
       "2        Apartment      Trevi              77592             63648   4.80   \n",
       "3        Apartment      Celio             166053            137055   5.00   \n",
       "4    Vacation home       Rome              60379             36644   4.88   \n",
       "..             ...        ...                ...               ...    ...   \n",
       "293      Apartment       Rome              58686             44898   5.00   \n",
       "294           Room       Rome              69365             49867   4.72   \n",
       "295      Apartment       Rome              48382             39170   4.67   \n",
       "296      Apartment       Rome              54534             49758   4.77   \n",
       "297           Loft       Rome              23760             21393   4.73   \n",
       "\n",
       "     Reviews_Num    Host_name    Host_Profession  Dicount_Amount  Discount%  \n",
       "0             14       Daniel  Social technician            3165       31.0  \n",
       "1            163     Federico              Audio           41089       56.0  \n",
       "2            716  Juan Carlos           Musician           13944       18.0  \n",
       "3             69      Valeria          Freelance           28998       17.0  \n",
       "4             98            G        Hosting for           23735       39.0  \n",
       "..           ...          ...                ...             ...        ...  \n",
       "293            4      Unknown            Unknown           13788       23.0  \n",
       "294           58      Unknown            Unknown           19498       28.0  \n",
       "295            3      unknown            unknown            9212       19.0  \n",
       "296           94      unknown            unknown            4776        9.0  \n",
       "297          110      unknown            unknown            2367       10.0  \n",
       "\n",
       "[298 rows x 10 columns]"
      ]
     },
     "execution_count": 25,
     "metadata": {},
     "output_type": "execute_result"
    }
   ],
   "source": [
    "df"
   ]
  },
  {
   "cell_type": "markdown",
   "id": "6084dee7",
   "metadata": {},
   "source": [
    "Analysis"
   ]
  },
  {
   "cell_type": "markdown",
   "id": "5013ec2a",
   "metadata": {},
   "source": [
    "Top 10 Most Expensive Airbnb Before Sale"
   ]
  },
  {
   "cell_type": "code",
   "execution_count": 26,
   "id": "d1396fab",
   "metadata": {},
   "outputs": [
    {
     "data": {
      "text/html": [
       "<div>\n",
       "<style scoped>\n",
       "    .dataframe tbody tr th:only-of-type {\n",
       "        vertical-align: middle;\n",
       "    }\n",
       "\n",
       "    .dataframe tbody tr th {\n",
       "        vertical-align: top;\n",
       "    }\n",
       "\n",
       "    .dataframe thead th {\n",
       "        text-align: right;\n",
       "    }\n",
       "</style>\n",
       "<table border=\"1\" class=\"dataframe\">\n",
       "  <thead>\n",
       "    <tr style=\"text-align: right;\">\n",
       "      <th></th>\n",
       "      <th>Airbnb_type</th>\n",
       "      <th>City</th>\n",
       "      <th>Price_before_sale</th>\n",
       "      <th>price_after_sale</th>\n",
       "      <th>Rates</th>\n",
       "      <th>Reviews_Num</th>\n",
       "      <th>Host_name</th>\n",
       "      <th>Host_Profession</th>\n",
       "      <th>Dicount_Amount</th>\n",
       "      <th>Discount%</th>\n",
       "    </tr>\n",
       "  </thead>\n",
       "  <tbody>\n",
       "    <tr>\n",
       "      <th>121</th>\n",
       "      <td>Apartment</td>\n",
       "      <td>Castro Pretorio</td>\n",
       "      <td>275627</td>\n",
       "      <td>171666</td>\n",
       "      <td>4.95</td>\n",
       "      <td>297</td>\n",
       "      <td>Ludovica</td>\n",
       "      <td>Painter</td>\n",
       "      <td>103961</td>\n",
       "      <td>38.0</td>\n",
       "    </tr>\n",
       "    <tr>\n",
       "      <th>37</th>\n",
       "      <td>Apartment</td>\n",
       "      <td>Castro Pretorio</td>\n",
       "      <td>275627</td>\n",
       "      <td>171666</td>\n",
       "      <td>4.95</td>\n",
       "      <td>297</td>\n",
       "      <td>Benedetto</td>\n",
       "      <td>Artistic director</td>\n",
       "      <td>103961</td>\n",
       "      <td>38.0</td>\n",
       "    </tr>\n",
       "    <tr>\n",
       "      <th>163</th>\n",
       "      <td>Apartment</td>\n",
       "      <td>Castro Pretorio</td>\n",
       "      <td>275627</td>\n",
       "      <td>171666</td>\n",
       "      <td>4.95</td>\n",
       "      <td>297</td>\n",
       "      <td>Mugiko</td>\n",
       "      <td>Hospitality</td>\n",
       "      <td>103961</td>\n",
       "      <td>38.0</td>\n",
       "    </tr>\n",
       "    <tr>\n",
       "      <th>79</th>\n",
       "      <td>Apartment</td>\n",
       "      <td>Castro Pretorio</td>\n",
       "      <td>275627</td>\n",
       "      <td>171666</td>\n",
       "      <td>4.95</td>\n",
       "      <td>297</td>\n",
       "      <td>Piero</td>\n",
       "      <td>Software engineer</td>\n",
       "      <td>103961</td>\n",
       "      <td>38.0</td>\n",
       "    </tr>\n",
       "    <tr>\n",
       "      <th>192</th>\n",
       "      <td>Apartment</td>\n",
       "      <td>Rome</td>\n",
       "      <td>235486</td>\n",
       "      <td>172241</td>\n",
       "      <td>4.79</td>\n",
       "      <td>58</td>\n",
       "      <td>Unknown</td>\n",
       "      <td>Unknown</td>\n",
       "      <td>63245</td>\n",
       "      <td>27.0</td>\n",
       "    </tr>\n",
       "    <tr>\n",
       "      <th>254</th>\n",
       "      <td>Apartment</td>\n",
       "      <td>Rome</td>\n",
       "      <td>188036</td>\n",
       "      <td>153322</td>\n",
       "      <td>4.85</td>\n",
       "      <td>13</td>\n",
       "      <td>Unknown</td>\n",
       "      <td>Unknown</td>\n",
       "      <td>34714</td>\n",
       "      <td>18.0</td>\n",
       "    </tr>\n",
       "    <tr>\n",
       "      <th>3</th>\n",
       "      <td>Apartment</td>\n",
       "      <td>Celio</td>\n",
       "      <td>166053</td>\n",
       "      <td>137055</td>\n",
       "      <td>5.00</td>\n",
       "      <td>69</td>\n",
       "      <td>Valeria</td>\n",
       "      <td>Freelance</td>\n",
       "      <td>28998</td>\n",
       "      <td>17.0</td>\n",
       "    </tr>\n",
       "    <tr>\n",
       "      <th>45</th>\n",
       "      <td>Apartment</td>\n",
       "      <td>Celio</td>\n",
       "      <td>166053</td>\n",
       "      <td>137055</td>\n",
       "      <td>5.00</td>\n",
       "      <td>69</td>\n",
       "      <td>G</td>\n",
       "      <td>Hosting for</td>\n",
       "      <td>28998</td>\n",
       "      <td>17.0</td>\n",
       "    </tr>\n",
       "    <tr>\n",
       "      <th>129</th>\n",
       "      <td>Apartment</td>\n",
       "      <td>Celio</td>\n",
       "      <td>166053</td>\n",
       "      <td>137055</td>\n",
       "      <td>5.00</td>\n",
       "      <td>69</td>\n",
       "      <td>Royal</td>\n",
       "      <td>Hosting for</td>\n",
       "      <td>28998</td>\n",
       "      <td>17.0</td>\n",
       "    </tr>\n",
       "    <tr>\n",
       "      <th>87</th>\n",
       "      <td>Apartment</td>\n",
       "      <td>Celio</td>\n",
       "      <td>166053</td>\n",
       "      <td>137055</td>\n",
       "      <td>5.00</td>\n",
       "      <td>69</td>\n",
       "      <td>Lilith</td>\n",
       "      <td>Secret agent</td>\n",
       "      <td>28998</td>\n",
       "      <td>17.0</td>\n",
       "    </tr>\n",
       "  </tbody>\n",
       "</table>\n",
       "</div>"
      ],
      "text/plain": [
       "    Airbnb_type             City  Price_before_sale  price_after_sale  Rates  \\\n",
       "121   Apartment  Castro Pretorio             275627            171666   4.95   \n",
       "37    Apartment  Castro Pretorio             275627            171666   4.95   \n",
       "163   Apartment  Castro Pretorio             275627            171666   4.95   \n",
       "79    Apartment  Castro Pretorio             275627            171666   4.95   \n",
       "192   Apartment             Rome             235486            172241   4.79   \n",
       "254   Apartment             Rome             188036            153322   4.85   \n",
       "3     Apartment            Celio             166053            137055   5.00   \n",
       "45    Apartment            Celio             166053            137055   5.00   \n",
       "129   Apartment            Celio             166053            137055   5.00   \n",
       "87    Apartment            Celio             166053            137055   5.00   \n",
       "\n",
       "     Reviews_Num  Host_name    Host_Profession  Dicount_Amount  Discount%  \n",
       "121          297   Ludovica            Painter          103961       38.0  \n",
       "37           297  Benedetto  Artistic director          103961       38.0  \n",
       "163          297     Mugiko        Hospitality          103961       38.0  \n",
       "79           297      Piero  Software engineer          103961       38.0  \n",
       "192           58    Unknown            Unknown           63245       27.0  \n",
       "254           13    Unknown            Unknown           34714       18.0  \n",
       "3             69    Valeria          Freelance           28998       17.0  \n",
       "45            69          G        Hosting for           28998       17.0  \n",
       "129           69      Royal        Hosting for           28998       17.0  \n",
       "87            69     Lilith       Secret agent           28998       17.0  "
      ]
     },
     "execution_count": 26,
     "metadata": {},
     "output_type": "execute_result"
    }
   ],
   "source": [
    "df.sort_values(by='Price_before_sale', ascending=False).head(10)"
   ]
  },
  {
   "cell_type": "markdown",
   "id": "45782d24",
   "metadata": {},
   "source": [
    "Top 10 Cheapest Airbnb Before Sale"
   ]
  },
  {
   "cell_type": "code",
   "execution_count": 27,
   "id": "729c2955",
   "metadata": {},
   "outputs": [
    {
     "data": {
      "text/html": [
       "<div>\n",
       "<style scoped>\n",
       "    .dataframe tbody tr th:only-of-type {\n",
       "        vertical-align: middle;\n",
       "    }\n",
       "\n",
       "    .dataframe tbody tr th {\n",
       "        vertical-align: top;\n",
       "    }\n",
       "\n",
       "    .dataframe thead th {\n",
       "        text-align: right;\n",
       "    }\n",
       "</style>\n",
       "<table border=\"1\" class=\"dataframe\">\n",
       "  <thead>\n",
       "    <tr style=\"text-align: right;\">\n",
       "      <th></th>\n",
       "      <th>Airbnb_type</th>\n",
       "      <th>City</th>\n",
       "      <th>Price_before_sale</th>\n",
       "      <th>price_after_sale</th>\n",
       "      <th>Rates</th>\n",
       "      <th>Reviews_Num</th>\n",
       "      <th>Host_name</th>\n",
       "      <th>Host_Profession</th>\n",
       "      <th>Dicount_Amount</th>\n",
       "      <th>Discount%</th>\n",
       "    </tr>\n",
       "  </thead>\n",
       "  <tbody>\n",
       "    <tr>\n",
       "      <th>0</th>\n",
       "      <td>Room</td>\n",
       "      <td>Tuscolano</td>\n",
       "      <td>10312</td>\n",
       "      <td>7147</td>\n",
       "      <td>4.64</td>\n",
       "      <td>14</td>\n",
       "      <td>Daniel</td>\n",
       "      <td>Social technician</td>\n",
       "      <td>3165</td>\n",
       "      <td>31.0</td>\n",
       "    </tr>\n",
       "    <tr>\n",
       "      <th>42</th>\n",
       "      <td>Room</td>\n",
       "      <td>Tuscolano</td>\n",
       "      <td>10312</td>\n",
       "      <td>7147</td>\n",
       "      <td>4.64</td>\n",
       "      <td>14</td>\n",
       "      <td>Federico</td>\n",
       "      <td>Audio</td>\n",
       "      <td>3165</td>\n",
       "      <td>31.0</td>\n",
       "    </tr>\n",
       "    <tr>\n",
       "      <th>84</th>\n",
       "      <td>Room</td>\n",
       "      <td>Tuscolano</td>\n",
       "      <td>10312</td>\n",
       "      <td>7147</td>\n",
       "      <td>4.64</td>\n",
       "      <td>14</td>\n",
       "      <td>Juan Carlos</td>\n",
       "      <td>Musician</td>\n",
       "      <td>3165</td>\n",
       "      <td>31.0</td>\n",
       "    </tr>\n",
       "    <tr>\n",
       "      <th>126</th>\n",
       "      <td>Room</td>\n",
       "      <td>Tuscolano</td>\n",
       "      <td>10312</td>\n",
       "      <td>7147</td>\n",
       "      <td>4.64</td>\n",
       "      <td>14</td>\n",
       "      <td>Valeria</td>\n",
       "      <td>Freelance</td>\n",
       "      <td>3165</td>\n",
       "      <td>31.0</td>\n",
       "    </tr>\n",
       "    <tr>\n",
       "      <th>90</th>\n",
       "      <td>Room</td>\n",
       "      <td>Tuscolano</td>\n",
       "      <td>14693</td>\n",
       "      <td>13536</td>\n",
       "      <td>5.00</td>\n",
       "      <td>192</td>\n",
       "      <td>Giulia</td>\n",
       "      <td>Employee</td>\n",
       "      <td>1157</td>\n",
       "      <td>8.0</td>\n",
       "    </tr>\n",
       "    <tr>\n",
       "      <th>48</th>\n",
       "      <td>Room</td>\n",
       "      <td>Tuscolano</td>\n",
       "      <td>14693</td>\n",
       "      <td>13536</td>\n",
       "      <td>5.00</td>\n",
       "      <td>192</td>\n",
       "      <td>Francesco</td>\n",
       "      <td>Hospitality</td>\n",
       "      <td>1157</td>\n",
       "      <td>8.0</td>\n",
       "    </tr>\n",
       "    <tr>\n",
       "      <th>132</th>\n",
       "      <td>Room</td>\n",
       "      <td>Tuscolano</td>\n",
       "      <td>14693</td>\n",
       "      <td>13536</td>\n",
       "      <td>5.00</td>\n",
       "      <td>192</td>\n",
       "      <td>Elena</td>\n",
       "      <td>Hosting for</td>\n",
       "      <td>1157</td>\n",
       "      <td>8.0</td>\n",
       "    </tr>\n",
       "    <tr>\n",
       "      <th>6</th>\n",
       "      <td>Room</td>\n",
       "      <td>Tuscolano</td>\n",
       "      <td>14693</td>\n",
       "      <td>13536</td>\n",
       "      <td>5.00</td>\n",
       "      <td>192</td>\n",
       "      <td>Royal</td>\n",
       "      <td>Hosting for</td>\n",
       "      <td>1157</td>\n",
       "      <td>8.0</td>\n",
       "    </tr>\n",
       "    <tr>\n",
       "      <th>265</th>\n",
       "      <td>Condo</td>\n",
       "      <td>Rome</td>\n",
       "      <td>18030</td>\n",
       "      <td>14790</td>\n",
       "      <td>4.97</td>\n",
       "      <td>59</td>\n",
       "      <td>Unknown</td>\n",
       "      <td>Unknown</td>\n",
       "      <td>3240</td>\n",
       "      <td>18.0</td>\n",
       "    </tr>\n",
       "    <tr>\n",
       "      <th>208</th>\n",
       "      <td>Condo</td>\n",
       "      <td>Rome</td>\n",
       "      <td>18341</td>\n",
       "      <td>16605</td>\n",
       "      <td>4.67</td>\n",
       "      <td>147</td>\n",
       "      <td>Unknown</td>\n",
       "      <td>Unknown</td>\n",
       "      <td>1736</td>\n",
       "      <td>9.0</td>\n",
       "    </tr>\n",
       "  </tbody>\n",
       "</table>\n",
       "</div>"
      ],
      "text/plain": [
       "    Airbnb_type       City  Price_before_sale  price_after_sale  Rates  \\\n",
       "0          Room  Tuscolano              10312              7147   4.64   \n",
       "42         Room  Tuscolano              10312              7147   4.64   \n",
       "84         Room  Tuscolano              10312              7147   4.64   \n",
       "126        Room  Tuscolano              10312              7147   4.64   \n",
       "90         Room  Tuscolano              14693             13536   5.00   \n",
       "48         Room  Tuscolano              14693             13536   5.00   \n",
       "132        Room  Tuscolano              14693             13536   5.00   \n",
       "6          Room  Tuscolano              14693             13536   5.00   \n",
       "265       Condo       Rome              18030             14790   4.97   \n",
       "208       Condo       Rome              18341             16605   4.67   \n",
       "\n",
       "     Reviews_Num    Host_name    Host_Profession  Dicount_Amount  Discount%  \n",
       "0             14       Daniel  Social technician            3165       31.0  \n",
       "42            14     Federico              Audio            3165       31.0  \n",
       "84            14  Juan Carlos           Musician            3165       31.0  \n",
       "126           14      Valeria          Freelance            3165       31.0  \n",
       "90           192       Giulia           Employee            1157        8.0  \n",
       "48           192    Francesco        Hospitality            1157        8.0  \n",
       "132          192        Elena        Hosting for            1157        8.0  \n",
       "6            192        Royal        Hosting for            1157        8.0  \n",
       "265           59      Unknown            Unknown            3240       18.0  \n",
       "208          147      Unknown            Unknown            1736        9.0  "
      ]
     },
     "execution_count": 27,
     "metadata": {},
     "output_type": "execute_result"
    }
   ],
   "source": [
    "df.sort_values(by='Price_before_sale', ascending=True).head(10)"
   ]
  },
  {
   "cell_type": "markdown",
   "id": "95d38eb7",
   "metadata": {},
   "source": [
    "Top 10 Cheapest Airbnb After Sale"
   ]
  },
  {
   "cell_type": "code",
   "execution_count": 28,
   "id": "3f91d4f3",
   "metadata": {},
   "outputs": [
    {
     "data": {
      "text/html": [
       "<div>\n",
       "<style scoped>\n",
       "    .dataframe tbody tr th:only-of-type {\n",
       "        vertical-align: middle;\n",
       "    }\n",
       "\n",
       "    .dataframe tbody tr th {\n",
       "        vertical-align: top;\n",
       "    }\n",
       "\n",
       "    .dataframe thead th {\n",
       "        text-align: right;\n",
       "    }\n",
       "</style>\n",
       "<table border=\"1\" class=\"dataframe\">\n",
       "  <thead>\n",
       "    <tr style=\"text-align: right;\">\n",
       "      <th></th>\n",
       "      <th>Airbnb_type</th>\n",
       "      <th>City</th>\n",
       "      <th>Price_before_sale</th>\n",
       "      <th>price_after_sale</th>\n",
       "      <th>Rates</th>\n",
       "      <th>Reviews_Num</th>\n",
       "      <th>Host_name</th>\n",
       "      <th>Host_Profession</th>\n",
       "      <th>Dicount_Amount</th>\n",
       "      <th>Discount%</th>\n",
       "    </tr>\n",
       "  </thead>\n",
       "  <tbody>\n",
       "    <tr>\n",
       "      <th>0</th>\n",
       "      <td>Room</td>\n",
       "      <td>Tuscolano</td>\n",
       "      <td>10312</td>\n",
       "      <td>7147</td>\n",
       "      <td>4.64</td>\n",
       "      <td>14</td>\n",
       "      <td>Daniel</td>\n",
       "      <td>Social technician</td>\n",
       "      <td>3165</td>\n",
       "      <td>31.0</td>\n",
       "    </tr>\n",
       "    <tr>\n",
       "      <th>42</th>\n",
       "      <td>Room</td>\n",
       "      <td>Tuscolano</td>\n",
       "      <td>10312</td>\n",
       "      <td>7147</td>\n",
       "      <td>4.64</td>\n",
       "      <td>14</td>\n",
       "      <td>Federico</td>\n",
       "      <td>Audio</td>\n",
       "      <td>3165</td>\n",
       "      <td>31.0</td>\n",
       "    </tr>\n",
       "    <tr>\n",
       "      <th>84</th>\n",
       "      <td>Room</td>\n",
       "      <td>Tuscolano</td>\n",
       "      <td>10312</td>\n",
       "      <td>7147</td>\n",
       "      <td>4.64</td>\n",
       "      <td>14</td>\n",
       "      <td>Juan Carlos</td>\n",
       "      <td>Musician</td>\n",
       "      <td>3165</td>\n",
       "      <td>31.0</td>\n",
       "    </tr>\n",
       "    <tr>\n",
       "      <th>126</th>\n",
       "      <td>Room</td>\n",
       "      <td>Tuscolano</td>\n",
       "      <td>10312</td>\n",
       "      <td>7147</td>\n",
       "      <td>4.64</td>\n",
       "      <td>14</td>\n",
       "      <td>Valeria</td>\n",
       "      <td>Freelance</td>\n",
       "      <td>3165</td>\n",
       "      <td>31.0</td>\n",
       "    </tr>\n",
       "    <tr>\n",
       "      <th>169</th>\n",
       "      <td>Condo</td>\n",
       "      <td>Rome</td>\n",
       "      <td>18878</td>\n",
       "      <td>11357</td>\n",
       "      <td>4.83</td>\n",
       "      <td>127</td>\n",
       "      <td>Unknown</td>\n",
       "      <td>Unknown</td>\n",
       "      <td>7521</td>\n",
       "      <td>40.0</td>\n",
       "    </tr>\n",
       "    <tr>\n",
       "      <th>145</th>\n",
       "      <td>Room</td>\n",
       "      <td>Tuscolano</td>\n",
       "      <td>18878</td>\n",
       "      <td>11357</td>\n",
       "      <td>4.80</td>\n",
       "      <td>260</td>\n",
       "      <td>G</td>\n",
       "      <td>Hosting for</td>\n",
       "      <td>7521</td>\n",
       "      <td>40.0</td>\n",
       "    </tr>\n",
       "    <tr>\n",
       "      <th>103</th>\n",
       "      <td>Room</td>\n",
       "      <td>Tuscolano</td>\n",
       "      <td>18878</td>\n",
       "      <td>11357</td>\n",
       "      <td>4.80</td>\n",
       "      <td>260</td>\n",
       "      <td>Daniele</td>\n",
       "      <td>Hosting for</td>\n",
       "      <td>7521</td>\n",
       "      <td>40.0</td>\n",
       "    </tr>\n",
       "    <tr>\n",
       "      <th>61</th>\n",
       "      <td>Room</td>\n",
       "      <td>Tuscolano</td>\n",
       "      <td>18878</td>\n",
       "      <td>11357</td>\n",
       "      <td>4.80</td>\n",
       "      <td>260</td>\n",
       "      <td>Sergio</td>\n",
       "      <td>Artist</td>\n",
       "      <td>7521</td>\n",
       "      <td>40.0</td>\n",
       "    </tr>\n",
       "    <tr>\n",
       "      <th>19</th>\n",
       "      <td>Room</td>\n",
       "      <td>Tuscolano</td>\n",
       "      <td>18878</td>\n",
       "      <td>11357</td>\n",
       "      <td>4.80</td>\n",
       "      <td>260</td>\n",
       "      <td>Mugiko</td>\n",
       "      <td>Hospitality</td>\n",
       "      <td>7521</td>\n",
       "      <td>40.0</td>\n",
       "    </tr>\n",
       "    <tr>\n",
       "      <th>241</th>\n",
       "      <td>Condo</td>\n",
       "      <td>Rome</td>\n",
       "      <td>21739</td>\n",
       "      <td>11861</td>\n",
       "      <td>4.56</td>\n",
       "      <td>139</td>\n",
       "      <td>Unknown</td>\n",
       "      <td>Unknown</td>\n",
       "      <td>9878</td>\n",
       "      <td>45.0</td>\n",
       "    </tr>\n",
       "  </tbody>\n",
       "</table>\n",
       "</div>"
      ],
      "text/plain": [
       "    Airbnb_type       City  Price_before_sale  price_after_sale  Rates  \\\n",
       "0          Room  Tuscolano              10312              7147   4.64   \n",
       "42         Room  Tuscolano              10312              7147   4.64   \n",
       "84         Room  Tuscolano              10312              7147   4.64   \n",
       "126        Room  Tuscolano              10312              7147   4.64   \n",
       "169       Condo       Rome              18878             11357   4.83   \n",
       "145        Room  Tuscolano              18878             11357   4.80   \n",
       "103        Room  Tuscolano              18878             11357   4.80   \n",
       "61         Room  Tuscolano              18878             11357   4.80   \n",
       "19         Room  Tuscolano              18878             11357   4.80   \n",
       "241       Condo       Rome              21739             11861   4.56   \n",
       "\n",
       "     Reviews_Num    Host_name    Host_Profession  Dicount_Amount  Discount%  \n",
       "0             14       Daniel  Social technician            3165       31.0  \n",
       "42            14     Federico              Audio            3165       31.0  \n",
       "84            14  Juan Carlos           Musician            3165       31.0  \n",
       "126           14      Valeria          Freelance            3165       31.0  \n",
       "169          127      Unknown            Unknown            7521       40.0  \n",
       "145          260            G        Hosting for            7521       40.0  \n",
       "103          260      Daniele        Hosting for            7521       40.0  \n",
       "61           260       Sergio             Artist            7521       40.0  \n",
       "19           260       Mugiko        Hospitality            7521       40.0  \n",
       "241          139      Unknown            Unknown            9878       45.0  "
      ]
     },
     "execution_count": 28,
     "metadata": {},
     "output_type": "execute_result"
    }
   ],
   "source": [
    "df.sort_values(by='price_after_sale', ascending=True).head(10)"
   ]
  },
  {
   "cell_type": "markdown",
   "id": "2c73b749",
   "metadata": {},
   "source": [
    "Top 10 Most Expensive Airbnb After Sale"
   ]
  },
  {
   "cell_type": "code",
   "execution_count": 29,
   "id": "6e66ca3c",
   "metadata": {},
   "outputs": [
    {
     "data": {
      "text/html": [
       "<div>\n",
       "<style scoped>\n",
       "    .dataframe tbody tr th:only-of-type {\n",
       "        vertical-align: middle;\n",
       "    }\n",
       "\n",
       "    .dataframe tbody tr th {\n",
       "        vertical-align: top;\n",
       "    }\n",
       "\n",
       "    .dataframe thead th {\n",
       "        text-align: right;\n",
       "    }\n",
       "</style>\n",
       "<table border=\"1\" class=\"dataframe\">\n",
       "  <thead>\n",
       "    <tr style=\"text-align: right;\">\n",
       "      <th></th>\n",
       "      <th>Airbnb_type</th>\n",
       "      <th>City</th>\n",
       "      <th>Price_before_sale</th>\n",
       "      <th>price_after_sale</th>\n",
       "      <th>Rates</th>\n",
       "      <th>Reviews_Num</th>\n",
       "      <th>Host_name</th>\n",
       "      <th>Host_Profession</th>\n",
       "      <th>Dicount_Amount</th>\n",
       "      <th>Discount%</th>\n",
       "    </tr>\n",
       "  </thead>\n",
       "  <tbody>\n",
       "    <tr>\n",
       "      <th>192</th>\n",
       "      <td>Apartment</td>\n",
       "      <td>Rome</td>\n",
       "      <td>235486</td>\n",
       "      <td>172241</td>\n",
       "      <td>4.79</td>\n",
       "      <td>58</td>\n",
       "      <td>Unknown</td>\n",
       "      <td>Unknown</td>\n",
       "      <td>63245</td>\n",
       "      <td>27.0</td>\n",
       "    </tr>\n",
       "    <tr>\n",
       "      <th>121</th>\n",
       "      <td>Apartment</td>\n",
       "      <td>Castro Pretorio</td>\n",
       "      <td>275627</td>\n",
       "      <td>171666</td>\n",
       "      <td>4.95</td>\n",
       "      <td>297</td>\n",
       "      <td>Ludovica</td>\n",
       "      <td>Painter</td>\n",
       "      <td>103961</td>\n",
       "      <td>38.0</td>\n",
       "    </tr>\n",
       "    <tr>\n",
       "      <th>37</th>\n",
       "      <td>Apartment</td>\n",
       "      <td>Castro Pretorio</td>\n",
       "      <td>275627</td>\n",
       "      <td>171666</td>\n",
       "      <td>4.95</td>\n",
       "      <td>297</td>\n",
       "      <td>Benedetto</td>\n",
       "      <td>Artistic director</td>\n",
       "      <td>103961</td>\n",
       "      <td>38.0</td>\n",
       "    </tr>\n",
       "    <tr>\n",
       "      <th>163</th>\n",
       "      <td>Apartment</td>\n",
       "      <td>Castro Pretorio</td>\n",
       "      <td>275627</td>\n",
       "      <td>171666</td>\n",
       "      <td>4.95</td>\n",
       "      <td>297</td>\n",
       "      <td>Mugiko</td>\n",
       "      <td>Hospitality</td>\n",
       "      <td>103961</td>\n",
       "      <td>38.0</td>\n",
       "    </tr>\n",
       "    <tr>\n",
       "      <th>79</th>\n",
       "      <td>Apartment</td>\n",
       "      <td>Castro Pretorio</td>\n",
       "      <td>275627</td>\n",
       "      <td>171666</td>\n",
       "      <td>4.95</td>\n",
       "      <td>297</td>\n",
       "      <td>Piero</td>\n",
       "      <td>Software engineer</td>\n",
       "      <td>103961</td>\n",
       "      <td>38.0</td>\n",
       "    </tr>\n",
       "    <tr>\n",
       "      <th>254</th>\n",
       "      <td>Apartment</td>\n",
       "      <td>Rome</td>\n",
       "      <td>188036</td>\n",
       "      <td>153322</td>\n",
       "      <td>4.85</td>\n",
       "      <td>13</td>\n",
       "      <td>Unknown</td>\n",
       "      <td>Unknown</td>\n",
       "      <td>34714</td>\n",
       "      <td>18.0</td>\n",
       "    </tr>\n",
       "    <tr>\n",
       "      <th>3</th>\n",
       "      <td>Apartment</td>\n",
       "      <td>Celio</td>\n",
       "      <td>166053</td>\n",
       "      <td>137055</td>\n",
       "      <td>5.00</td>\n",
       "      <td>69</td>\n",
       "      <td>Valeria</td>\n",
       "      <td>Freelance</td>\n",
       "      <td>28998</td>\n",
       "      <td>17.0</td>\n",
       "    </tr>\n",
       "    <tr>\n",
       "      <th>45</th>\n",
       "      <td>Apartment</td>\n",
       "      <td>Celio</td>\n",
       "      <td>166053</td>\n",
       "      <td>137055</td>\n",
       "      <td>5.00</td>\n",
       "      <td>69</td>\n",
       "      <td>G</td>\n",
       "      <td>Hosting for</td>\n",
       "      <td>28998</td>\n",
       "      <td>17.0</td>\n",
       "    </tr>\n",
       "    <tr>\n",
       "      <th>129</th>\n",
       "      <td>Apartment</td>\n",
       "      <td>Celio</td>\n",
       "      <td>166053</td>\n",
       "      <td>137055</td>\n",
       "      <td>5.00</td>\n",
       "      <td>69</td>\n",
       "      <td>Royal</td>\n",
       "      <td>Hosting for</td>\n",
       "      <td>28998</td>\n",
       "      <td>17.0</td>\n",
       "    </tr>\n",
       "    <tr>\n",
       "      <th>87</th>\n",
       "      <td>Apartment</td>\n",
       "      <td>Celio</td>\n",
       "      <td>166053</td>\n",
       "      <td>137055</td>\n",
       "      <td>5.00</td>\n",
       "      <td>69</td>\n",
       "      <td>Lilith</td>\n",
       "      <td>Secret agent</td>\n",
       "      <td>28998</td>\n",
       "      <td>17.0</td>\n",
       "    </tr>\n",
       "  </tbody>\n",
       "</table>\n",
       "</div>"
      ],
      "text/plain": [
       "    Airbnb_type             City  Price_before_sale  price_after_sale  Rates  \\\n",
       "192   Apartment             Rome             235486            172241   4.79   \n",
       "121   Apartment  Castro Pretorio             275627            171666   4.95   \n",
       "37    Apartment  Castro Pretorio             275627            171666   4.95   \n",
       "163   Apartment  Castro Pretorio             275627            171666   4.95   \n",
       "79    Apartment  Castro Pretorio             275627            171666   4.95   \n",
       "254   Apartment             Rome             188036            153322   4.85   \n",
       "3     Apartment            Celio             166053            137055   5.00   \n",
       "45    Apartment            Celio             166053            137055   5.00   \n",
       "129   Apartment            Celio             166053            137055   5.00   \n",
       "87    Apartment            Celio             166053            137055   5.00   \n",
       "\n",
       "     Reviews_Num  Host_name    Host_Profession  Dicount_Amount  Discount%  \n",
       "192           58    Unknown            Unknown           63245       27.0  \n",
       "121          297   Ludovica            Painter          103961       38.0  \n",
       "37           297  Benedetto  Artistic director          103961       38.0  \n",
       "163          297     Mugiko        Hospitality          103961       38.0  \n",
       "79           297      Piero  Software engineer          103961       38.0  \n",
       "254           13    Unknown            Unknown           34714       18.0  \n",
       "3             69    Valeria          Freelance           28998       17.0  \n",
       "45            69          G        Hosting for           28998       17.0  \n",
       "129           69      Royal        Hosting for           28998       17.0  \n",
       "87            69     Lilith       Secret agent           28998       17.0  "
      ]
     },
     "execution_count": 29,
     "metadata": {},
     "output_type": "execute_result"
    }
   ],
   "source": [
    "df.sort_values(by='price_after_sale', ascending=False).head(10)"
   ]
  },
  {
   "cell_type": "markdown",
   "id": "de845dbe",
   "metadata": {},
   "source": [
    "Airbnb with Highest Discount Amount"
   ]
  },
  {
   "cell_type": "code",
   "execution_count": 30,
   "id": "0487c61c",
   "metadata": {},
   "outputs": [
    {
     "data": {
      "text/html": [
       "<div>\n",
       "<style scoped>\n",
       "    .dataframe tbody tr th:only-of-type {\n",
       "        vertical-align: middle;\n",
       "    }\n",
       "\n",
       "    .dataframe tbody tr th {\n",
       "        vertical-align: top;\n",
       "    }\n",
       "\n",
       "    .dataframe thead th {\n",
       "        text-align: right;\n",
       "    }\n",
       "</style>\n",
       "<table border=\"1\" class=\"dataframe\">\n",
       "  <thead>\n",
       "    <tr style=\"text-align: right;\">\n",
       "      <th></th>\n",
       "      <th>Airbnb_type</th>\n",
       "      <th>City</th>\n",
       "      <th>Price_before_sale</th>\n",
       "      <th>price_after_sale</th>\n",
       "      <th>Rates</th>\n",
       "      <th>Reviews_Num</th>\n",
       "      <th>Host_name</th>\n",
       "      <th>Host_Profession</th>\n",
       "      <th>Dicount_Amount</th>\n",
       "      <th>Discount%</th>\n",
       "    </tr>\n",
       "  </thead>\n",
       "  <tbody>\n",
       "    <tr>\n",
       "      <th>37</th>\n",
       "      <td>Apartment</td>\n",
       "      <td>Castro Pretorio</td>\n",
       "      <td>275627</td>\n",
       "      <td>171666</td>\n",
       "      <td>4.95</td>\n",
       "      <td>297</td>\n",
       "      <td>Benedetto</td>\n",
       "      <td>Artistic director</td>\n",
       "      <td>103961</td>\n",
       "      <td>38.0</td>\n",
       "    </tr>\n",
       "    <tr>\n",
       "      <th>79</th>\n",
       "      <td>Apartment</td>\n",
       "      <td>Castro Pretorio</td>\n",
       "      <td>275627</td>\n",
       "      <td>171666</td>\n",
       "      <td>4.95</td>\n",
       "      <td>297</td>\n",
       "      <td>Piero</td>\n",
       "      <td>Software engineer</td>\n",
       "      <td>103961</td>\n",
       "      <td>38.0</td>\n",
       "    </tr>\n",
       "    <tr>\n",
       "      <th>121</th>\n",
       "      <td>Apartment</td>\n",
       "      <td>Castro Pretorio</td>\n",
       "      <td>275627</td>\n",
       "      <td>171666</td>\n",
       "      <td>4.95</td>\n",
       "      <td>297</td>\n",
       "      <td>Ludovica</td>\n",
       "      <td>Painter</td>\n",
       "      <td>103961</td>\n",
       "      <td>38.0</td>\n",
       "    </tr>\n",
       "    <tr>\n",
       "      <th>163</th>\n",
       "      <td>Apartment</td>\n",
       "      <td>Castro Pretorio</td>\n",
       "      <td>275627</td>\n",
       "      <td>171666</td>\n",
       "      <td>4.95</td>\n",
       "      <td>297</td>\n",
       "      <td>Mugiko</td>\n",
       "      <td>Hospitality</td>\n",
       "      <td>103961</td>\n",
       "      <td>38.0</td>\n",
       "    </tr>\n",
       "  </tbody>\n",
       "</table>\n",
       "</div>"
      ],
      "text/plain": [
       "    Airbnb_type             City  Price_before_sale  price_after_sale  Rates  \\\n",
       "37    Apartment  Castro Pretorio             275627            171666   4.95   \n",
       "79    Apartment  Castro Pretorio             275627            171666   4.95   \n",
       "121   Apartment  Castro Pretorio             275627            171666   4.95   \n",
       "163   Apartment  Castro Pretorio             275627            171666   4.95   \n",
       "\n",
       "     Reviews_Num  Host_name    Host_Profession  Dicount_Amount  Discount%  \n",
       "37           297  Benedetto  Artistic director          103961       38.0  \n",
       "79           297      Piero  Software engineer          103961       38.0  \n",
       "121          297   Ludovica            Painter          103961       38.0  \n",
       "163          297     Mugiko        Hospitality          103961       38.0  "
      ]
     },
     "execution_count": 30,
     "metadata": {},
     "output_type": "execute_result"
    }
   ],
   "source": [
    "df[df['Dicount_Amount'] == df['Dicount_Amount'].max()]"
   ]
  },
  {
   "cell_type": "code",
   "execution_count": 31,
   "id": "6c6dfbb0",
   "metadata": {},
   "outputs": [
    {
     "data": {
      "text/html": [
       "<div>\n",
       "<style scoped>\n",
       "    .dataframe tbody tr th:only-of-type {\n",
       "        vertical-align: middle;\n",
       "    }\n",
       "\n",
       "    .dataframe tbody tr th {\n",
       "        vertical-align: top;\n",
       "    }\n",
       "\n",
       "    .dataframe thead th {\n",
       "        text-align: right;\n",
       "    }\n",
       "</style>\n",
       "<table border=\"1\" class=\"dataframe\">\n",
       "  <thead>\n",
       "    <tr style=\"text-align: right;\">\n",
       "      <th></th>\n",
       "      <th>Airbnb_type</th>\n",
       "      <th>City</th>\n",
       "      <th>Price_before_sale</th>\n",
       "      <th>price_after_sale</th>\n",
       "      <th>Rates</th>\n",
       "      <th>Reviews_Num</th>\n",
       "      <th>Host_name</th>\n",
       "      <th>Host_Profession</th>\n",
       "      <th>Dicount_Amount</th>\n",
       "      <th>Discount%</th>\n",
       "    </tr>\n",
       "  </thead>\n",
       "  <tbody>\n",
       "    <tr>\n",
       "      <th>6</th>\n",
       "      <td>Room</td>\n",
       "      <td>Tuscolano</td>\n",
       "      <td>14693</td>\n",
       "      <td>13536</td>\n",
       "      <td>5.0</td>\n",
       "      <td>192</td>\n",
       "      <td>Royal</td>\n",
       "      <td>Hosting for</td>\n",
       "      <td>1157</td>\n",
       "      <td>8.0</td>\n",
       "    </tr>\n",
       "    <tr>\n",
       "      <th>48</th>\n",
       "      <td>Room</td>\n",
       "      <td>Tuscolano</td>\n",
       "      <td>14693</td>\n",
       "      <td>13536</td>\n",
       "      <td>5.0</td>\n",
       "      <td>192</td>\n",
       "      <td>Francesco</td>\n",
       "      <td>Hospitality</td>\n",
       "      <td>1157</td>\n",
       "      <td>8.0</td>\n",
       "    </tr>\n",
       "    <tr>\n",
       "      <th>90</th>\n",
       "      <td>Room</td>\n",
       "      <td>Tuscolano</td>\n",
       "      <td>14693</td>\n",
       "      <td>13536</td>\n",
       "      <td>5.0</td>\n",
       "      <td>192</td>\n",
       "      <td>Giulia</td>\n",
       "      <td>Employee</td>\n",
       "      <td>1157</td>\n",
       "      <td>8.0</td>\n",
       "    </tr>\n",
       "    <tr>\n",
       "      <th>132</th>\n",
       "      <td>Room</td>\n",
       "      <td>Tuscolano</td>\n",
       "      <td>14693</td>\n",
       "      <td>13536</td>\n",
       "      <td>5.0</td>\n",
       "      <td>192</td>\n",
       "      <td>Elena</td>\n",
       "      <td>Hosting for</td>\n",
       "      <td>1157</td>\n",
       "      <td>8.0</td>\n",
       "    </tr>\n",
       "  </tbody>\n",
       "</table>\n",
       "</div>"
      ],
      "text/plain": [
       "    Airbnb_type       City  Price_before_sale  price_after_sale  Rates  \\\n",
       "6          Room  Tuscolano              14693             13536    5.0   \n",
       "48         Room  Tuscolano              14693             13536    5.0   \n",
       "90         Room  Tuscolano              14693             13536    5.0   \n",
       "132        Room  Tuscolano              14693             13536    5.0   \n",
       "\n",
       "     Reviews_Num  Host_name Host_Profession  Dicount_Amount  Discount%  \n",
       "6            192      Royal     Hosting for            1157        8.0  \n",
       "48           192  Francesco     Hospitality            1157        8.0  \n",
       "90           192     Giulia        Employee            1157        8.0  \n",
       "132          192      Elena     Hosting for            1157        8.0  "
      ]
     },
     "execution_count": 31,
     "metadata": {},
     "output_type": "execute_result"
    }
   ],
   "source": [
    "df[df['Dicount_Amount'] == df['Dicount_Amount'].min()]"
   ]
  },
  {
   "cell_type": "markdown",
   "id": "0437771f",
   "metadata": {},
   "source": [
    "Number of Airbnb Listings Per City"
   ]
  },
  {
   "cell_type": "code",
   "execution_count": 32,
   "id": "3e9d5dba",
   "metadata": {},
   "outputs": [
    {
     "data": {
      "text/plain": [
       "City\n",
       "Rome               103\n",
       "Tuscolano           39\n",
       "Prati               23\n",
       "Monti               18\n",
       "Castro Pretorio     15\n",
       "Trionfale           13\n",
       "Trevi               12\n",
       "della Vittoria       8\n",
       "Aurelio              8\n",
       "Don Bosco            7\n",
       "Trastevere           6\n",
       "Portuense            6\n",
       "Celio                5\n",
       "Parione              5\n",
       "Trieste              5\n",
       "Ostiense             5\n",
       "Ludovisi             4\n",
       "Testaccio            4\n",
       "Campo Marzio         4\n",
       "Frascati             3\n",
       "Ponte Mammolo        1\n",
       "Primavalle           1\n",
       "Gianicolense         1\n",
       "Piana del Sole       1\n",
       "Pietralata           1\n",
       "Name: count, dtype: int64"
      ]
     },
     "execution_count": 32,
     "metadata": {},
     "output_type": "execute_result"
    }
   ],
   "source": [
    "df['City'].value_counts()"
   ]
  },
  {
   "cell_type": "markdown",
   "id": "f6fff53f",
   "metadata": {},
   "source": [
    "Airbnb with Lowest Rate"
   ]
  },
  {
   "cell_type": "code",
   "execution_count": 33,
   "id": "9c0ebdfc",
   "metadata": {},
   "outputs": [
    {
     "data": {
      "text/html": [
       "<div>\n",
       "<style scoped>\n",
       "    .dataframe tbody tr th:only-of-type {\n",
       "        vertical-align: middle;\n",
       "    }\n",
       "\n",
       "    .dataframe tbody tr th {\n",
       "        vertical-align: top;\n",
       "    }\n",
       "\n",
       "    .dataframe thead th {\n",
       "        text-align: right;\n",
       "    }\n",
       "</style>\n",
       "<table border=\"1\" class=\"dataframe\">\n",
       "  <thead>\n",
       "    <tr style=\"text-align: right;\">\n",
       "      <th></th>\n",
       "      <th>Airbnb_type</th>\n",
       "      <th>City</th>\n",
       "      <th>Price_before_sale</th>\n",
       "      <th>price_after_sale</th>\n",
       "      <th>Rates</th>\n",
       "      <th>Reviews_Num</th>\n",
       "      <th>Host_name</th>\n",
       "      <th>Host_Profession</th>\n",
       "      <th>Dicount_Amount</th>\n",
       "      <th>Discount%</th>\n",
       "    </tr>\n",
       "  </thead>\n",
       "  <tbody>\n",
       "    <tr>\n",
       "      <th>219</th>\n",
       "      <td>Apartment</td>\n",
       "      <td>Don Bosco</td>\n",
       "      <td>25531</td>\n",
       "      <td>23308</td>\n",
       "      <td>4.49</td>\n",
       "      <td>61</td>\n",
       "      <td>Unknown</td>\n",
       "      <td>Unknown</td>\n",
       "      <td>2223</td>\n",
       "      <td>9.0</td>\n",
       "    </tr>\n",
       "  </tbody>\n",
       "</table>\n",
       "</div>"
      ],
      "text/plain": [
       "    Airbnb_type       City  Price_before_sale  price_after_sale  Rates  \\\n",
       "219   Apartment  Don Bosco              25531             23308   4.49   \n",
       "\n",
       "     Reviews_Num Host_name Host_Profession  Dicount_Amount  Discount%  \n",
       "219           61   Unknown         Unknown            2223        9.0  "
      ]
     },
     "execution_count": 33,
     "metadata": {},
     "output_type": "execute_result"
    }
   ],
   "source": [
    "df[df['Rates'] == df['Rates'].min()]"
   ]
  },
  {
   "cell_type": "markdown",
   "id": "b1af9838",
   "metadata": {},
   "source": [
    "Airbnb with Highest Rate"
   ]
  },
  {
   "cell_type": "code",
   "execution_count": 34,
   "id": "52bc696e",
   "metadata": {},
   "outputs": [
    {
     "data": {
      "text/html": [
       "<div>\n",
       "<style scoped>\n",
       "    .dataframe tbody tr th:only-of-type {\n",
       "        vertical-align: middle;\n",
       "    }\n",
       "\n",
       "    .dataframe tbody tr th {\n",
       "        vertical-align: top;\n",
       "    }\n",
       "\n",
       "    .dataframe thead th {\n",
       "        text-align: right;\n",
       "    }\n",
       "</style>\n",
       "<table border=\"1\" class=\"dataframe\">\n",
       "  <thead>\n",
       "    <tr style=\"text-align: right;\">\n",
       "      <th></th>\n",
       "      <th>Airbnb_type</th>\n",
       "      <th>City</th>\n",
       "      <th>Price_before_sale</th>\n",
       "      <th>price_after_sale</th>\n",
       "      <th>Rates</th>\n",
       "      <th>Reviews_Num</th>\n",
       "      <th>Host_name</th>\n",
       "      <th>Host_Profession</th>\n",
       "      <th>Dicount_Amount</th>\n",
       "      <th>Discount%</th>\n",
       "    </tr>\n",
       "  </thead>\n",
       "  <tbody>\n",
       "    <tr>\n",
       "      <th>3</th>\n",
       "      <td>Apartment</td>\n",
       "      <td>Celio</td>\n",
       "      <td>166053</td>\n",
       "      <td>137055</td>\n",
       "      <td>5.0</td>\n",
       "      <td>69</td>\n",
       "      <td>Valeria</td>\n",
       "      <td>Freelance</td>\n",
       "      <td>28998</td>\n",
       "      <td>17.0</td>\n",
       "    </tr>\n",
       "    <tr>\n",
       "      <th>6</th>\n",
       "      <td>Room</td>\n",
       "      <td>Tuscolano</td>\n",
       "      <td>14693</td>\n",
       "      <td>13536</td>\n",
       "      <td>5.0</td>\n",
       "      <td>192</td>\n",
       "      <td>Royal</td>\n",
       "      <td>Hosting for</td>\n",
       "      <td>1157</td>\n",
       "      <td>8.0</td>\n",
       "    </tr>\n",
       "    <tr>\n",
       "      <th>10</th>\n",
       "      <td>Apartment</td>\n",
       "      <td>Portuense</td>\n",
       "      <td>35541</td>\n",
       "      <td>22646</td>\n",
       "      <td>5.0</td>\n",
       "      <td>9</td>\n",
       "      <td>Lilith</td>\n",
       "      <td>Secret agent</td>\n",
       "      <td>12895</td>\n",
       "      <td>36.0</td>\n",
       "    </tr>\n",
       "    <tr>\n",
       "      <th>13</th>\n",
       "      <td>Room</td>\n",
       "      <td>Don Bosco</td>\n",
       "      <td>32359</td>\n",
       "      <td>23802</td>\n",
       "      <td>5.0</td>\n",
       "      <td>4</td>\n",
       "      <td>Isabella</td>\n",
       "      <td>Chef</td>\n",
       "      <td>8557</td>\n",
       "      <td>26.0</td>\n",
       "    </tr>\n",
       "    <tr>\n",
       "      <th>15</th>\n",
       "      <td>Apartment</td>\n",
       "      <td>Prati</td>\n",
       "      <td>35316</td>\n",
       "      <td>23769</td>\n",
       "      <td>5.0</td>\n",
       "      <td>4</td>\n",
       "      <td>Annie</td>\n",
       "      <td>Researcher</td>\n",
       "      <td>11547</td>\n",
       "      <td>33.0</td>\n",
       "    </tr>\n",
       "    <tr>\n",
       "      <th>...</th>\n",
       "      <td>...</td>\n",
       "      <td>...</td>\n",
       "      <td>...</td>\n",
       "      <td>...</td>\n",
       "      <td>...</td>\n",
       "      <td>...</td>\n",
       "      <td>...</td>\n",
       "      <td>...</td>\n",
       "      <td>...</td>\n",
       "      <td>...</td>\n",
       "    </tr>\n",
       "    <tr>\n",
       "      <th>248</th>\n",
       "      <td>Home</td>\n",
       "      <td>Rome</td>\n",
       "      <td>43081</td>\n",
       "      <td>29712</td>\n",
       "      <td>5.0</td>\n",
       "      <td>4</td>\n",
       "      <td>Unknown</td>\n",
       "      <td>Unknown</td>\n",
       "      <td>13369</td>\n",
       "      <td>31.0</td>\n",
       "    </tr>\n",
       "    <tr>\n",
       "      <th>253</th>\n",
       "      <td>Apartment</td>\n",
       "      <td>Frascati</td>\n",
       "      <td>33284</td>\n",
       "      <td>28193</td>\n",
       "      <td>5.0</td>\n",
       "      <td>3</td>\n",
       "      <td>Unknown</td>\n",
       "      <td>Unknown</td>\n",
       "      <td>5091</td>\n",
       "      <td>15.0</td>\n",
       "    </tr>\n",
       "    <tr>\n",
       "      <th>255</th>\n",
       "      <td>Condo</td>\n",
       "      <td>Rome</td>\n",
       "      <td>29315</td>\n",
       "      <td>24826</td>\n",
       "      <td>5.0</td>\n",
       "      <td>22</td>\n",
       "      <td>Unknown</td>\n",
       "      <td>Unknown</td>\n",
       "      <td>4489</td>\n",
       "      <td>15.0</td>\n",
       "    </tr>\n",
       "    <tr>\n",
       "      <th>266</th>\n",
       "      <td>Home</td>\n",
       "      <td>Piana del Sole</td>\n",
       "      <td>34697</td>\n",
       "      <td>31362</td>\n",
       "      <td>5.0</td>\n",
       "      <td>13</td>\n",
       "      <td>Unknown</td>\n",
       "      <td>Unknown</td>\n",
       "      <td>3335</td>\n",
       "      <td>10.0</td>\n",
       "    </tr>\n",
       "    <tr>\n",
       "      <th>293</th>\n",
       "      <td>Apartment</td>\n",
       "      <td>Rome</td>\n",
       "      <td>58686</td>\n",
       "      <td>44898</td>\n",
       "      <td>5.0</td>\n",
       "      <td>4</td>\n",
       "      <td>Unknown</td>\n",
       "      <td>Unknown</td>\n",
       "      <td>13788</td>\n",
       "      <td>23.0</td>\n",
       "    </tr>\n",
       "  </tbody>\n",
       "</table>\n",
       "<p>80 rows × 10 columns</p>\n",
       "</div>"
      ],
      "text/plain": [
       "    Airbnb_type            City  Price_before_sale  price_after_sale  Rates  \\\n",
       "3     Apartment           Celio             166053            137055    5.0   \n",
       "6          Room       Tuscolano              14693             13536    5.0   \n",
       "10    Apartment       Portuense              35541             22646    5.0   \n",
       "13         Room       Don Bosco              32359             23802    5.0   \n",
       "15    Apartment           Prati              35316             23769    5.0   \n",
       "..          ...             ...                ...               ...    ...   \n",
       "248        Home            Rome              43081             29712    5.0   \n",
       "253   Apartment        Frascati              33284             28193    5.0   \n",
       "255       Condo            Rome              29315             24826    5.0   \n",
       "266        Home  Piana del Sole              34697             31362    5.0   \n",
       "293   Apartment            Rome              58686             44898    5.0   \n",
       "\n",
       "     Reviews_Num Host_name Host_Profession  Dicount_Amount  Discount%  \n",
       "3             69   Valeria       Freelance           28998       17.0  \n",
       "6            192     Royal     Hosting for            1157        8.0  \n",
       "10             9    Lilith    Secret agent           12895       36.0  \n",
       "13             4  Isabella            Chef            8557       26.0  \n",
       "15             4     Annie      Researcher           11547       33.0  \n",
       "..           ...       ...             ...             ...        ...  \n",
       "248            4   Unknown         Unknown           13369       31.0  \n",
       "253            3   Unknown         Unknown            5091       15.0  \n",
       "255           22   Unknown         Unknown            4489       15.0  \n",
       "266           13   Unknown         Unknown            3335       10.0  \n",
       "293            4   Unknown         Unknown           13788       23.0  \n",
       "\n",
       "[80 rows x 10 columns]"
      ]
     },
     "execution_count": 34,
     "metadata": {},
     "output_type": "execute_result"
    }
   ],
   "source": [
    "df[df['Rates'] == df['Rates'].max()]"
   ]
  },
  {
   "cell_type": "markdown",
   "id": "08d4a944",
   "metadata": {},
   "source": [
    "Mean of Price Before and After Sale"
   ]
  },
  {
   "cell_type": "code",
   "execution_count": 35,
   "id": "0c2d87ea",
   "metadata": {},
   "outputs": [
    {
     "name": "stdout",
     "output_type": "stream",
     "text": [
      "Mean before sale: 47254.99\n",
      "Mean after sale: 34739.57\n"
     ]
    }
   ],
   "source": [
    "mean_before = df['Price_before_sale'].mean()\n",
    "mean_after = df['price_after_sale'].mean()\n",
    "print(f\"Mean before sale: {mean_before:.2f}\")\n",
    "print(f\"Mean after sale: {mean_after:.2f}\")"
   ]
  },
  {
   "cell_type": "markdown",
   "id": "c4c8f79a",
   "metadata": {},
   "source": [
    "Count of Each Host Profession"
   ]
  },
  {
   "cell_type": "code",
   "execution_count": 36,
   "id": "dd1dc389",
   "metadata": {},
   "outputs": [
    {
     "data": {
      "text/plain": [
       "Host_Profession\n",
       "Unknown                 131\n",
       "Hosting for              40\n",
       "Hospitality              20\n",
       "Artistic director        12\n",
       "Artist                    8\n",
       "Illustrator               8\n",
       "Secret agent              8\n",
       "Architect                 8\n",
       "Employee                  4\n",
       "Audio                     4\n",
       "Musician                  4\n",
       "Freelance                 4\n",
       "Social technician         4\n",
       "Music organization        4\n",
       "Chef                      4\n",
       "Researcher                4\n",
       "Television host           4\n",
       "Performer                 4\n",
       "Inventory specialist      4\n",
       "Entertainment             4\n",
       "Filmmaker                 4\n",
       "Software engineer         4\n",
       "Painter                   4\n",
       "unknown                   3\n",
       "Name: count, dtype: int64"
      ]
     },
     "execution_count": 36,
     "metadata": {},
     "output_type": "execute_result"
    }
   ],
   "source": [
    "df['Host_Profession'].value_counts()"
   ]
  },
  {
   "cell_type": "markdown",
   "id": "f9d5006e",
   "metadata": {},
   "source": [
    "EDA"
   ]
  },
  {
   "cell_type": "code",
   "execution_count": 39,
   "id": "2314ea01",
   "metadata": {},
   "outputs": [],
   "source": [
    "import matplotlib.pyplot as plt\n",
    "import plotly.express as px\n",
    "import seaborn as sns\n",
    "import plotly.graph_objects as go\n",
    "from plotly.subplots import make_subplots\n"
   ]
  },
  {
   "cell_type": "markdown",
   "id": "0dc559f4",
   "metadata": {},
   "source": [
    "Histogram for prices right skwness pridected some Airbnb are way expensive"
   ]
  },
  {
   "cell_type": "code",
   "execution_count": 40,
   "id": "c1083831",
   "metadata": {},
   "outputs": [
    {
     "data": {
      "application/vnd.plotly.v1+json": {
       "config": {
        "plotlyServerURL": "https://plot.ly"
       },
       "data": [
        {
         "marker": {
          "color": "indigo"
         },
         "name": "Before Sale",
         "nbinsx": 30,
         "type": "histogram",
         "x": {
          "bdata": "SCgAAKgfAQAYLwEApYgCANvrAAAwQwEAZTkAAGd+AAD/eQAAQ/8AANWKAACtnwAAvX8AAGd+AACtnwAA9IkAAG7GAADNaQAA/2EAAL5JAACynQAA4lcAAGBVAAD7ZAAAbsYAAH67AABgVQAAvX8AAP9hAADbJAEAqXcAAAB2AAAvYQAAnewAAGaHAACPCQEAAMoAAKs0BAARdwAAL8QAANpyAABMgAAASCgAAKgfAQAYLwEApYgCANvrAAAwQwEAZTkAAGd+AAD/eQAAQ/8AANWKAACtnwAAvX8AAGd+AACtnwAA9IkAAG7GAADNaQAA/2EAAL5JAACynQAA4lcAAGBVAAD7ZAAAbsYAAH67AABgVQAAvX8AAP9hAADbJAEAqXcAAAB2AAAvYQAAnewAAGaHAACPCQEAAMoAAKs0BAARdwAAL8QAANpyAABMgAAASCgAAKgfAQAYLwEApYgCANvrAAAwQwEAZTkAAGd+AAD/eQAAQ/8AANWKAACtnwAAvX8AAGd+AACtnwAA9IkAAG7GAADNaQAA/2EAAL5JAACynQAA4lcAAGBVAAD7ZAAAbsYAAH67AABgVQAAvX8AAP9hAADbJAEAqXcAAAB2AAAvYQAAnewAAGaHAACPCQEAAMoAAKs0BAARdwAAL8QAANpyAABMgAAASCgAAKgfAQAYLwEApYgCANvrAAAwQwEAZTkAAGd+AAD/eQAAQ/8AANWKAACtnwAAvX8AAGd+AACtnwAA9IkAAG7GAADNaQAA/2EAAL5JAACynQAA4lcAAGBVAAD7ZAAAbsYAAH67AABgVQAAvX8AAP9hAADbJAEAqXcAAAB2AAAvYQAAnewAAGaHAACPCQEAAMoAAKs0BAARdwAAL8QAANpyAABMgAAAXuEAAL5JAAB/wAAA8NAAAKmuAADOAgEAPaIAAFhdAADUsQAAeHYAAIyvAACfTwAA8/YAAMVPAADrVAAABtUAABhlAAALtQAABIwAAPDQAACaWgAA0WkAAIlbAABaogAA3pcDABHtAAAYZQAABIwAAEX5AAD8sgAAJnMAAHt5AAC+XwAAqVYAAHNBAQAFDgEAtGIAAEn1AABw9QAAuk8AAKVHAADvtQAAG8AAAHV8AACapgAAZpIAAEWXAABowgAAGGUAALd+AAAwdgAAu2MAAP1LAQAkeQAAOEwAAOu2AADsqwEAaqgAAMFNAADrtgAAzWkAAIeGAABN/QAAtokAACyWAAClkAAAP8oAAAppAAD9gwAAqbIAAEdbAADv1gAAXJkAAOtUAADxugAAPvcAANqlAAC1bAAAXeoAADyUAABJqAAAg3IAABhpAABWnwAArpcAAASCAACE3gIAg3IAAA7MAACCAwEAq7EAAJAGAQBlAAEAy4sAAL1/AAAOzAAA4dMAAG5GAACJhwAA2qUAAGPoAACCawEA/qMAACZyAAAIpAAAjKoAAG0UAQD9gAAAO1gAAJqjAACDqgAAMHUAANvyAADaVAAAVpsAAO+1AACuhAAAjD0BALKtAAAcogEAAqgAANOAAAA2gwAAZQABADyoAAA+5QAA9Q4BAP68AAAG1QAA0FwAAA==",
          "dtype": "i4"
         },
         "xaxis": "x",
         "yaxis": "y"
        },
        {
         "marker": {
          "color": "teal"
         },
         "name": "After Sale",
         "nbinsx": 30,
         "type": "histogram",
         "x": {
          "bdata": "6xsAACd/AACg+AAAXxcCACSPAAC6EwEA4DQAAPpcAAASZAAAwMsAAHZYAABGiwAAEmQAAPpcAABGiwAA2VwAALKIAAAdVQAAxlgAAF0sAAAdVQAAFlAAAFI7AABFWgAAsogAAG+QAABSOwAAEmQAAMZYAADvtQAAumoAAOxeAAAlWAAAkIwAAPJfAABfyQAAq38AAJKeAgDPZwAA9LQAAAJiAAASVwAA6xsAACd/AACg+AAAXxcCACSPAAC6EwEA4DQAAPpcAAASZAAAwMsAAHZYAABGiwAAEmQAAPpcAABGiwAA2VwAALKIAAAdVQAAxlgAAF0sAAAdVQAAFlAAAFI7AABFWgAAsogAAG+QAABSOwAAEmQAAMZYAADvtQAAumoAAOxeAAAlWAAAkIwAAPJfAABfyQAAq38AAJKeAgDPZwAA9LQAAAJiAAASVwAA6xsAACd/AACg+AAAXxcCACSPAAC6EwEA4DQAAPpcAAASZAAAwMsAAHZYAABGiwAAEmQAAPpcAABGiwAA2VwAALKIAAAdVQAAxlgAAF0sAAAdVQAAFlAAAFI7AABFWgAAsogAAG+QAABSOwAAEmQAAMZYAADvtQAAumoAAOxeAAAlWAAAkIwAAPJfAABfyQAAq38AAJKeAgDPZwAA9LQAAAJiAAASVwAA6xsAACd/AACg+AAAXxcCACSPAAC6EwEA4DQAAPpcAAASZAAAwMsAAHZYAABGiwAAEmQAAPpcAABGiwAA2VwAALKIAAAdVQAAxlgAAF0sAAAdVQAAFlAAAFI7AABFWgAAsogAAG+QAABSOwAAEmQAAMZYAADvtQAAumoAAOxeAAAlWAAAkIwAAPJfAABfyQAAq38AAJKeAgDPZwAA9LQAAAJiAAASVwAA26MAAF0sAAC5ewAA+KEAAEaLAACL0wAAJF4AAGhOAAD7WAAAllgAAFp1AAB7QAAAkIwAAMVBAABVLgAAXsIAAM9PAAAzcwAA3nUAAPihAAALPAAAoVoAAFNIAAAkWgAA0aACAA3KAADPTwAA3nUAAFXOAADtUwAAwVkAAAlrAACyTwAAJk4AAK0SAQAcnwAA9E8AAFiFAAAWqwAAo0UAAN1AAAB9lAAAKKUAALFXAACpfQAACWQAAJ9UAADFbwAAz08AAH5jAAAkXgAADFsAAPaxAADbVAAAYEAAAE2NAABXYQEA320AAK0+AABNjQAAHVUAADFwAAB90wAAAmIAANtUAAAWgwAA9IEAAIpKAABzZwAAvnEAANZIAACTeAAAWnUAAFUuAABqiQAAvIgAAMBhAAAzUgAAU5EAAJ1gAAAQdAAA+mAAADZSAAD0gQAARn4AACFuAADqVgIA+mAAAMyyAAACwQAAK5gAALLIAAC11gAAEHQAABJkAADMsgAADGkAAMY5AACCegAAwGEAAMx7AADaxAAAA5MAAD5RAABohwAA/IkAAIOrAAAcVgAAxEkAAOBvAAB/kgAA4GUAABnaAAAPQwAAjHMAAH2UAACDegAAreEAADh5AAAZ8gAAG3cAACxfAAAkXgAAtdYAAHxxAABirwAAy8IAAAKZAABewgAAkVMAAA==",
          "dtype": "i4"
         },
         "xaxis": "x2",
         "yaxis": "y2"
        }
       ],
       "layout": {
        "annotations": [
         {
          "font": {
           "size": 16
          },
          "showarrow": false,
          "text": "Price Before Sale",
          "x": 0.225,
          "xanchor": "center",
          "xref": "paper",
          "y": 1,
          "yanchor": "bottom",
          "yref": "paper"
         },
         {
          "font": {
           "size": 16
          },
          "showarrow": false,
          "text": "Price After Sale",
          "x": 0.775,
          "xanchor": "center",
          "xref": "paper",
          "y": 1,
          "yanchor": "bottom",
          "yref": "paper"
         }
        ],
        "bargap": 0.2,
        "height": 500,
        "showlegend": false,
        "template": {
         "data": {
          "bar": [
           {
            "error_x": {
             "color": "#2a3f5f"
            },
            "error_y": {
             "color": "#2a3f5f"
            },
            "marker": {
             "line": {
              "color": "#E5ECF6",
              "width": 0.5
             },
             "pattern": {
              "fillmode": "overlay",
              "size": 10,
              "solidity": 0.2
             }
            },
            "type": "bar"
           }
          ],
          "barpolar": [
           {
            "marker": {
             "line": {
              "color": "#E5ECF6",
              "width": 0.5
             },
             "pattern": {
              "fillmode": "overlay",
              "size": 10,
              "solidity": 0.2
             }
            },
            "type": "barpolar"
           }
          ],
          "carpet": [
           {
            "aaxis": {
             "endlinecolor": "#2a3f5f",
             "gridcolor": "white",
             "linecolor": "white",
             "minorgridcolor": "white",
             "startlinecolor": "#2a3f5f"
            },
            "baxis": {
             "endlinecolor": "#2a3f5f",
             "gridcolor": "white",
             "linecolor": "white",
             "minorgridcolor": "white",
             "startlinecolor": "#2a3f5f"
            },
            "type": "carpet"
           }
          ],
          "choropleth": [
           {
            "colorbar": {
             "outlinewidth": 0,
             "ticks": ""
            },
            "type": "choropleth"
           }
          ],
          "contour": [
           {
            "colorbar": {
             "outlinewidth": 0,
             "ticks": ""
            },
            "colorscale": [
             [
              0,
              "#0d0887"
             ],
             [
              0.1111111111111111,
              "#46039f"
             ],
             [
              0.2222222222222222,
              "#7201a8"
             ],
             [
              0.3333333333333333,
              "#9c179e"
             ],
             [
              0.4444444444444444,
              "#bd3786"
             ],
             [
              0.5555555555555556,
              "#d8576b"
             ],
             [
              0.6666666666666666,
              "#ed7953"
             ],
             [
              0.7777777777777778,
              "#fb9f3a"
             ],
             [
              0.8888888888888888,
              "#fdca26"
             ],
             [
              1,
              "#f0f921"
             ]
            ],
            "type": "contour"
           }
          ],
          "contourcarpet": [
           {
            "colorbar": {
             "outlinewidth": 0,
             "ticks": ""
            },
            "type": "contourcarpet"
           }
          ],
          "heatmap": [
           {
            "colorbar": {
             "outlinewidth": 0,
             "ticks": ""
            },
            "colorscale": [
             [
              0,
              "#0d0887"
             ],
             [
              0.1111111111111111,
              "#46039f"
             ],
             [
              0.2222222222222222,
              "#7201a8"
             ],
             [
              0.3333333333333333,
              "#9c179e"
             ],
             [
              0.4444444444444444,
              "#bd3786"
             ],
             [
              0.5555555555555556,
              "#d8576b"
             ],
             [
              0.6666666666666666,
              "#ed7953"
             ],
             [
              0.7777777777777778,
              "#fb9f3a"
             ],
             [
              0.8888888888888888,
              "#fdca26"
             ],
             [
              1,
              "#f0f921"
             ]
            ],
            "type": "heatmap"
           }
          ],
          "histogram": [
           {
            "marker": {
             "pattern": {
              "fillmode": "overlay",
              "size": 10,
              "solidity": 0.2
             }
            },
            "type": "histogram"
           }
          ],
          "histogram2d": [
           {
            "colorbar": {
             "outlinewidth": 0,
             "ticks": ""
            },
            "colorscale": [
             [
              0,
              "#0d0887"
             ],
             [
              0.1111111111111111,
              "#46039f"
             ],
             [
              0.2222222222222222,
              "#7201a8"
             ],
             [
              0.3333333333333333,
              "#9c179e"
             ],
             [
              0.4444444444444444,
              "#bd3786"
             ],
             [
              0.5555555555555556,
              "#d8576b"
             ],
             [
              0.6666666666666666,
              "#ed7953"
             ],
             [
              0.7777777777777778,
              "#fb9f3a"
             ],
             [
              0.8888888888888888,
              "#fdca26"
             ],
             [
              1,
              "#f0f921"
             ]
            ],
            "type": "histogram2d"
           }
          ],
          "histogram2dcontour": [
           {
            "colorbar": {
             "outlinewidth": 0,
             "ticks": ""
            },
            "colorscale": [
             [
              0,
              "#0d0887"
             ],
             [
              0.1111111111111111,
              "#46039f"
             ],
             [
              0.2222222222222222,
              "#7201a8"
             ],
             [
              0.3333333333333333,
              "#9c179e"
             ],
             [
              0.4444444444444444,
              "#bd3786"
             ],
             [
              0.5555555555555556,
              "#d8576b"
             ],
             [
              0.6666666666666666,
              "#ed7953"
             ],
             [
              0.7777777777777778,
              "#fb9f3a"
             ],
             [
              0.8888888888888888,
              "#fdca26"
             ],
             [
              1,
              "#f0f921"
             ]
            ],
            "type": "histogram2dcontour"
           }
          ],
          "mesh3d": [
           {
            "colorbar": {
             "outlinewidth": 0,
             "ticks": ""
            },
            "type": "mesh3d"
           }
          ],
          "parcoords": [
           {
            "line": {
             "colorbar": {
              "outlinewidth": 0,
              "ticks": ""
             }
            },
            "type": "parcoords"
           }
          ],
          "pie": [
           {
            "automargin": true,
            "type": "pie"
           }
          ],
          "scatter": [
           {
            "fillpattern": {
             "fillmode": "overlay",
             "size": 10,
             "solidity": 0.2
            },
            "type": "scatter"
           }
          ],
          "scatter3d": [
           {
            "line": {
             "colorbar": {
              "outlinewidth": 0,
              "ticks": ""
             }
            },
            "marker": {
             "colorbar": {
              "outlinewidth": 0,
              "ticks": ""
             }
            },
            "type": "scatter3d"
           }
          ],
          "scattercarpet": [
           {
            "marker": {
             "colorbar": {
              "outlinewidth": 0,
              "ticks": ""
             }
            },
            "type": "scattercarpet"
           }
          ],
          "scattergeo": [
           {
            "marker": {
             "colorbar": {
              "outlinewidth": 0,
              "ticks": ""
             }
            },
            "type": "scattergeo"
           }
          ],
          "scattergl": [
           {
            "marker": {
             "colorbar": {
              "outlinewidth": 0,
              "ticks": ""
             }
            },
            "type": "scattergl"
           }
          ],
          "scattermap": [
           {
            "marker": {
             "colorbar": {
              "outlinewidth": 0,
              "ticks": ""
             }
            },
            "type": "scattermap"
           }
          ],
          "scattermapbox": [
           {
            "marker": {
             "colorbar": {
              "outlinewidth": 0,
              "ticks": ""
             }
            },
            "type": "scattermapbox"
           }
          ],
          "scatterpolar": [
           {
            "marker": {
             "colorbar": {
              "outlinewidth": 0,
              "ticks": ""
             }
            },
            "type": "scatterpolar"
           }
          ],
          "scatterpolargl": [
           {
            "marker": {
             "colorbar": {
              "outlinewidth": 0,
              "ticks": ""
             }
            },
            "type": "scatterpolargl"
           }
          ],
          "scatterternary": [
           {
            "marker": {
             "colorbar": {
              "outlinewidth": 0,
              "ticks": ""
             }
            },
            "type": "scatterternary"
           }
          ],
          "surface": [
           {
            "colorbar": {
             "outlinewidth": 0,
             "ticks": ""
            },
            "colorscale": [
             [
              0,
              "#0d0887"
             ],
             [
              0.1111111111111111,
              "#46039f"
             ],
             [
              0.2222222222222222,
              "#7201a8"
             ],
             [
              0.3333333333333333,
              "#9c179e"
             ],
             [
              0.4444444444444444,
              "#bd3786"
             ],
             [
              0.5555555555555556,
              "#d8576b"
             ],
             [
              0.6666666666666666,
              "#ed7953"
             ],
             [
              0.7777777777777778,
              "#fb9f3a"
             ],
             [
              0.8888888888888888,
              "#fdca26"
             ],
             [
              1,
              "#f0f921"
             ]
            ],
            "type": "surface"
           }
          ],
          "table": [
           {
            "cells": {
             "fill": {
              "color": "#EBF0F8"
             },
             "line": {
              "color": "white"
             }
            },
            "header": {
             "fill": {
              "color": "#C8D4E3"
             },
             "line": {
              "color": "white"
             }
            },
            "type": "table"
           }
          ]
         },
         "layout": {
          "annotationdefaults": {
           "arrowcolor": "#2a3f5f",
           "arrowhead": 0,
           "arrowwidth": 1
          },
          "autotypenumbers": "strict",
          "coloraxis": {
           "colorbar": {
            "outlinewidth": 0,
            "ticks": ""
           }
          },
          "colorscale": {
           "diverging": [
            [
             0,
             "#8e0152"
            ],
            [
             0.1,
             "#c51b7d"
            ],
            [
             0.2,
             "#de77ae"
            ],
            [
             0.3,
             "#f1b6da"
            ],
            [
             0.4,
             "#fde0ef"
            ],
            [
             0.5,
             "#f7f7f7"
            ],
            [
             0.6,
             "#e6f5d0"
            ],
            [
             0.7,
             "#b8e186"
            ],
            [
             0.8,
             "#7fbc41"
            ],
            [
             0.9,
             "#4d9221"
            ],
            [
             1,
             "#276419"
            ]
           ],
           "sequential": [
            [
             0,
             "#0d0887"
            ],
            [
             0.1111111111111111,
             "#46039f"
            ],
            [
             0.2222222222222222,
             "#7201a8"
            ],
            [
             0.3333333333333333,
             "#9c179e"
            ],
            [
             0.4444444444444444,
             "#bd3786"
            ],
            [
             0.5555555555555556,
             "#d8576b"
            ],
            [
             0.6666666666666666,
             "#ed7953"
            ],
            [
             0.7777777777777778,
             "#fb9f3a"
            ],
            [
             0.8888888888888888,
             "#fdca26"
            ],
            [
             1,
             "#f0f921"
            ]
           ],
           "sequentialminus": [
            [
             0,
             "#0d0887"
            ],
            [
             0.1111111111111111,
             "#46039f"
            ],
            [
             0.2222222222222222,
             "#7201a8"
            ],
            [
             0.3333333333333333,
             "#9c179e"
            ],
            [
             0.4444444444444444,
             "#bd3786"
            ],
            [
             0.5555555555555556,
             "#d8576b"
            ],
            [
             0.6666666666666666,
             "#ed7953"
            ],
            [
             0.7777777777777778,
             "#fb9f3a"
            ],
            [
             0.8888888888888888,
             "#fdca26"
            ],
            [
             1,
             "#f0f921"
            ]
           ]
          },
          "colorway": [
           "#636efa",
           "#EF553B",
           "#00cc96",
           "#ab63fa",
           "#FFA15A",
           "#19d3f3",
           "#FF6692",
           "#B6E880",
           "#FF97FF",
           "#FECB52"
          ],
          "font": {
           "color": "#2a3f5f"
          },
          "geo": {
           "bgcolor": "white",
           "lakecolor": "white",
           "landcolor": "#E5ECF6",
           "showlakes": true,
           "showland": true,
           "subunitcolor": "white"
          },
          "hoverlabel": {
           "align": "left"
          },
          "hovermode": "closest",
          "mapbox": {
           "style": "light"
          },
          "paper_bgcolor": "white",
          "plot_bgcolor": "#E5ECF6",
          "polar": {
           "angularaxis": {
            "gridcolor": "white",
            "linecolor": "white",
            "ticks": ""
           },
           "bgcolor": "#E5ECF6",
           "radialaxis": {
            "gridcolor": "white",
            "linecolor": "white",
            "ticks": ""
           }
          },
          "scene": {
           "xaxis": {
            "backgroundcolor": "#E5ECF6",
            "gridcolor": "white",
            "gridwidth": 2,
            "linecolor": "white",
            "showbackground": true,
            "ticks": "",
            "zerolinecolor": "white"
           },
           "yaxis": {
            "backgroundcolor": "#E5ECF6",
            "gridcolor": "white",
            "gridwidth": 2,
            "linecolor": "white",
            "showbackground": true,
            "ticks": "",
            "zerolinecolor": "white"
           },
           "zaxis": {
            "backgroundcolor": "#E5ECF6",
            "gridcolor": "white",
            "gridwidth": 2,
            "linecolor": "white",
            "showbackground": true,
            "ticks": "",
            "zerolinecolor": "white"
           }
          },
          "shapedefaults": {
           "line": {
            "color": "#2a3f5f"
           }
          },
          "ternary": {
           "aaxis": {
            "gridcolor": "white",
            "linecolor": "white",
            "ticks": ""
           },
           "baxis": {
            "gridcolor": "white",
            "linecolor": "white",
            "ticks": ""
           },
           "bgcolor": "#E5ECF6",
           "caxis": {
            "gridcolor": "white",
            "linecolor": "white",
            "ticks": ""
           }
          },
          "title": {
           "x": 0.05
          },
          "xaxis": {
           "automargin": true,
           "gridcolor": "white",
           "linecolor": "white",
           "ticks": "",
           "title": {
            "standoff": 15
           },
           "zerolinecolor": "white",
           "zerolinewidth": 2
          },
          "yaxis": {
           "automargin": true,
           "gridcolor": "white",
           "linecolor": "white",
           "ticks": "",
           "title": {
            "standoff": 15
           },
           "zerolinecolor": "white",
           "zerolinewidth": 2
          }
         }
        },
        "title": {
         "text": "Airbnb Price Distribution: Before vs. After Sale"
        },
        "width": 1000,
        "xaxis": {
         "anchor": "y",
         "domain": [
          0,
          0.45
         ]
        },
        "xaxis2": {
         "anchor": "y2",
         "domain": [
          0.55,
          1
         ]
        },
        "yaxis": {
         "anchor": "x",
         "domain": [
          0,
          1
         ]
        },
        "yaxis2": {
         "anchor": "x2",
         "domain": [
          0,
          1
         ]
        }
       }
      }
     },
     "metadata": {},
     "output_type": "display_data"
    }
   ],
   "source": [
    "\n",
    "fig = make_subplots(rows=1, cols=2, subplot_titles=(\"Price Before Sale\", \"Price After Sale\"))\n",
    "fig.add_trace(\n",
    "    go.Histogram(x=df['Price_before_sale'], nbinsx=30, name='Before Sale', marker_color='indigo'),\n",
    "    row=1, col=1\n",
    ")\n",
    "fig.add_trace(\n",
    "    go.Histogram(x=df['price_after_sale'], nbinsx=30, name='After Sale', marker_color='teal'),\n",
    "    row=1, col=2\n",
    ")\n",
    "fig.update_layout(\n",
    "    title_text=\"Airbnb Price Distribution: Before vs. After Sale\",\n",
    "    showlegend=False,\n",
    "    height=500,\n",
    "    width=1000,\n",
    "    bargap=0.2\n",
    ")\n",
    "\n",
    "fig.show()"
   ]
  },
  {
   "cell_type": "code",
   "execution_count": 52,
   "id": "ea21ec93",
   "metadata": {},
   "outputs": [
    {
     "data": {
      "application/vnd.plotly.v1+json": {
       "config": {
        "plotlyServerURL": "https://plot.ly"
       },
       "data": [
        {
         "hovertemplate": "City=%{x}<br>Count=%{text}<extra></extra>",
         "legendgroup": "Rome",
         "marker": {
          "color": "rgb(229, 134, 6)",
          "pattern": {
           "shape": ""
          }
         },
         "name": "Rome",
         "orientation": "v",
         "showlegend": true,
         "text": {
          "bdata": "AAAAAADAWUA=",
          "dtype": "f8"
         },
         "textposition": "auto",
         "type": "bar",
         "x": [
          "Rome"
         ],
         "xaxis": "x",
         "y": {
          "bdata": "Zw==",
          "dtype": "i1"
         },
         "yaxis": "y"
        },
        {
         "hovertemplate": "City=%{x}<br>Count=%{text}<extra></extra>",
         "legendgroup": "Monti",
         "marker": {
          "color": "rgb(93, 105, 177)",
          "pattern": {
           "shape": ""
          }
         },
         "name": "Monti",
         "orientation": "v",
         "showlegend": true,
         "text": {
          "bdata": "AAAAAAAAMkA=",
          "dtype": "f8"
         },
         "textposition": "auto",
         "type": "bar",
         "x": [
          "Monti"
         ],
         "xaxis": "x",
         "y": {
          "bdata": "Eg==",
          "dtype": "i1"
         },
         "yaxis": "y"
        },
        {
         "hovertemplate": "City=%{x}<br>Count=%{text}<extra></extra>",
         "legendgroup": "Don Bosco",
         "marker": {
          "color": "rgb(82, 188, 163)",
          "pattern": {
           "shape": ""
          }
         },
         "name": "Don Bosco",
         "orientation": "v",
         "showlegend": true,
         "text": {
          "bdata": "AAAAAAAAHEA=",
          "dtype": "f8"
         },
         "textposition": "auto",
         "type": "bar",
         "x": [
          "Don Bosco"
         ],
         "xaxis": "x",
         "y": {
          "bdata": "Bw==",
          "dtype": "i1"
         },
         "yaxis": "y"
        },
        {
         "hovertemplate": "City=%{x}<br>Count=%{text}<extra></extra>",
         "legendgroup": "Trieste",
         "marker": {
          "color": "rgb(153, 201, 69)",
          "pattern": {
           "shape": ""
          }
         },
         "name": "Trieste",
         "orientation": "v",
         "showlegend": true,
         "text": {
          "bdata": "AAAAAAAAFEA=",
          "dtype": "f8"
         },
         "textposition": "auto",
         "type": "bar",
         "x": [
          "Trieste"
         ],
         "xaxis": "x",
         "y": {
          "bdata": "BQ==",
          "dtype": "i1"
         },
         "yaxis": "y"
        }
       ],
       "layout": {
        "barmode": "relative",
        "legend": {
         "title": {
          "text": "City"
         },
         "tracegroupgap": 0
        },
        "showlegend": false,
        "template": {
         "data": {
          "bar": [
           {
            "error_x": {
             "color": "#2a3f5f"
            },
            "error_y": {
             "color": "#2a3f5f"
            },
            "marker": {
             "line": {
              "color": "#E5ECF6",
              "width": 0.5
             },
             "pattern": {
              "fillmode": "overlay",
              "size": 10,
              "solidity": 0.2
             }
            },
            "type": "bar"
           }
          ],
          "barpolar": [
           {
            "marker": {
             "line": {
              "color": "#E5ECF6",
              "width": 0.5
             },
             "pattern": {
              "fillmode": "overlay",
              "size": 10,
              "solidity": 0.2
             }
            },
            "type": "barpolar"
           }
          ],
          "carpet": [
           {
            "aaxis": {
             "endlinecolor": "#2a3f5f",
             "gridcolor": "white",
             "linecolor": "white",
             "minorgridcolor": "white",
             "startlinecolor": "#2a3f5f"
            },
            "baxis": {
             "endlinecolor": "#2a3f5f",
             "gridcolor": "white",
             "linecolor": "white",
             "minorgridcolor": "white",
             "startlinecolor": "#2a3f5f"
            },
            "type": "carpet"
           }
          ],
          "choropleth": [
           {
            "colorbar": {
             "outlinewidth": 0,
             "ticks": ""
            },
            "type": "choropleth"
           }
          ],
          "contour": [
           {
            "colorbar": {
             "outlinewidth": 0,
             "ticks": ""
            },
            "colorscale": [
             [
              0,
              "#0d0887"
             ],
             [
              0.1111111111111111,
              "#46039f"
             ],
             [
              0.2222222222222222,
              "#7201a8"
             ],
             [
              0.3333333333333333,
              "#9c179e"
             ],
             [
              0.4444444444444444,
              "#bd3786"
             ],
             [
              0.5555555555555556,
              "#d8576b"
             ],
             [
              0.6666666666666666,
              "#ed7953"
             ],
             [
              0.7777777777777778,
              "#fb9f3a"
             ],
             [
              0.8888888888888888,
              "#fdca26"
             ],
             [
              1,
              "#f0f921"
             ]
            ],
            "type": "contour"
           }
          ],
          "contourcarpet": [
           {
            "colorbar": {
             "outlinewidth": 0,
             "ticks": ""
            },
            "type": "contourcarpet"
           }
          ],
          "heatmap": [
           {
            "colorbar": {
             "outlinewidth": 0,
             "ticks": ""
            },
            "colorscale": [
             [
              0,
              "#0d0887"
             ],
             [
              0.1111111111111111,
              "#46039f"
             ],
             [
              0.2222222222222222,
              "#7201a8"
             ],
             [
              0.3333333333333333,
              "#9c179e"
             ],
             [
              0.4444444444444444,
              "#bd3786"
             ],
             [
              0.5555555555555556,
              "#d8576b"
             ],
             [
              0.6666666666666666,
              "#ed7953"
             ],
             [
              0.7777777777777778,
              "#fb9f3a"
             ],
             [
              0.8888888888888888,
              "#fdca26"
             ],
             [
              1,
              "#f0f921"
             ]
            ],
            "type": "heatmap"
           }
          ],
          "histogram": [
           {
            "marker": {
             "pattern": {
              "fillmode": "overlay",
              "size": 10,
              "solidity": 0.2
             }
            },
            "type": "histogram"
           }
          ],
          "histogram2d": [
           {
            "colorbar": {
             "outlinewidth": 0,
             "ticks": ""
            },
            "colorscale": [
             [
              0,
              "#0d0887"
             ],
             [
              0.1111111111111111,
              "#46039f"
             ],
             [
              0.2222222222222222,
              "#7201a8"
             ],
             [
              0.3333333333333333,
              "#9c179e"
             ],
             [
              0.4444444444444444,
              "#bd3786"
             ],
             [
              0.5555555555555556,
              "#d8576b"
             ],
             [
              0.6666666666666666,
              "#ed7953"
             ],
             [
              0.7777777777777778,
              "#fb9f3a"
             ],
             [
              0.8888888888888888,
              "#fdca26"
             ],
             [
              1,
              "#f0f921"
             ]
            ],
            "type": "histogram2d"
           }
          ],
          "histogram2dcontour": [
           {
            "colorbar": {
             "outlinewidth": 0,
             "ticks": ""
            },
            "colorscale": [
             [
              0,
              "#0d0887"
             ],
             [
              0.1111111111111111,
              "#46039f"
             ],
             [
              0.2222222222222222,
              "#7201a8"
             ],
             [
              0.3333333333333333,
              "#9c179e"
             ],
             [
              0.4444444444444444,
              "#bd3786"
             ],
             [
              0.5555555555555556,
              "#d8576b"
             ],
             [
              0.6666666666666666,
              "#ed7953"
             ],
             [
              0.7777777777777778,
              "#fb9f3a"
             ],
             [
              0.8888888888888888,
              "#fdca26"
             ],
             [
              1,
              "#f0f921"
             ]
            ],
            "type": "histogram2dcontour"
           }
          ],
          "mesh3d": [
           {
            "colorbar": {
             "outlinewidth": 0,
             "ticks": ""
            },
            "type": "mesh3d"
           }
          ],
          "parcoords": [
           {
            "line": {
             "colorbar": {
              "outlinewidth": 0,
              "ticks": ""
             }
            },
            "type": "parcoords"
           }
          ],
          "pie": [
           {
            "automargin": true,
            "type": "pie"
           }
          ],
          "scatter": [
           {
            "fillpattern": {
             "fillmode": "overlay",
             "size": 10,
             "solidity": 0.2
            },
            "type": "scatter"
           }
          ],
          "scatter3d": [
           {
            "line": {
             "colorbar": {
              "outlinewidth": 0,
              "ticks": ""
             }
            },
            "marker": {
             "colorbar": {
              "outlinewidth": 0,
              "ticks": ""
             }
            },
            "type": "scatter3d"
           }
          ],
          "scattercarpet": [
           {
            "marker": {
             "colorbar": {
              "outlinewidth": 0,
              "ticks": ""
             }
            },
            "type": "scattercarpet"
           }
          ],
          "scattergeo": [
           {
            "marker": {
             "colorbar": {
              "outlinewidth": 0,
              "ticks": ""
             }
            },
            "type": "scattergeo"
           }
          ],
          "scattergl": [
           {
            "marker": {
             "colorbar": {
              "outlinewidth": 0,
              "ticks": ""
             }
            },
            "type": "scattergl"
           }
          ],
          "scattermap": [
           {
            "marker": {
             "colorbar": {
              "outlinewidth": 0,
              "ticks": ""
             }
            },
            "type": "scattermap"
           }
          ],
          "scattermapbox": [
           {
            "marker": {
             "colorbar": {
              "outlinewidth": 0,
              "ticks": ""
             }
            },
            "type": "scattermapbox"
           }
          ],
          "scatterpolar": [
           {
            "marker": {
             "colorbar": {
              "outlinewidth": 0,
              "ticks": ""
             }
            },
            "type": "scatterpolar"
           }
          ],
          "scatterpolargl": [
           {
            "marker": {
             "colorbar": {
              "outlinewidth": 0,
              "ticks": ""
             }
            },
            "type": "scatterpolargl"
           }
          ],
          "scatterternary": [
           {
            "marker": {
             "colorbar": {
              "outlinewidth": 0,
              "ticks": ""
             }
            },
            "type": "scatterternary"
           }
          ],
          "surface": [
           {
            "colorbar": {
             "outlinewidth": 0,
             "ticks": ""
            },
            "colorscale": [
             [
              0,
              "#0d0887"
             ],
             [
              0.1111111111111111,
              "#46039f"
             ],
             [
              0.2222222222222222,
              "#7201a8"
             ],
             [
              0.3333333333333333,
              "#9c179e"
             ],
             [
              0.4444444444444444,
              "#bd3786"
             ],
             [
              0.5555555555555556,
              "#d8576b"
             ],
             [
              0.6666666666666666,
              "#ed7953"
             ],
             [
              0.7777777777777778,
              "#fb9f3a"
             ],
             [
              0.8888888888888888,
              "#fdca26"
             ],
             [
              1,
              "#f0f921"
             ]
            ],
            "type": "surface"
           }
          ],
          "table": [
           {
            "cells": {
             "fill": {
              "color": "#EBF0F8"
             },
             "line": {
              "color": "white"
             }
            },
            "header": {
             "fill": {
              "color": "#C8D4E3"
             },
             "line": {
              "color": "white"
             }
            },
            "type": "table"
           }
          ]
         },
         "layout": {
          "annotationdefaults": {
           "arrowcolor": "#2a3f5f",
           "arrowhead": 0,
           "arrowwidth": 1
          },
          "autotypenumbers": "strict",
          "coloraxis": {
           "colorbar": {
            "outlinewidth": 0,
            "ticks": ""
           }
          },
          "colorscale": {
           "diverging": [
            [
             0,
             "#8e0152"
            ],
            [
             0.1,
             "#c51b7d"
            ],
            [
             0.2,
             "#de77ae"
            ],
            [
             0.3,
             "#f1b6da"
            ],
            [
             0.4,
             "#fde0ef"
            ],
            [
             0.5,
             "#f7f7f7"
            ],
            [
             0.6,
             "#e6f5d0"
            ],
            [
             0.7,
             "#b8e186"
            ],
            [
             0.8,
             "#7fbc41"
            ],
            [
             0.9,
             "#4d9221"
            ],
            [
             1,
             "#276419"
            ]
           ],
           "sequential": [
            [
             0,
             "#0d0887"
            ],
            [
             0.1111111111111111,
             "#46039f"
            ],
            [
             0.2222222222222222,
             "#7201a8"
            ],
            [
             0.3333333333333333,
             "#9c179e"
            ],
            [
             0.4444444444444444,
             "#bd3786"
            ],
            [
             0.5555555555555556,
             "#d8576b"
            ],
            [
             0.6666666666666666,
             "#ed7953"
            ],
            [
             0.7777777777777778,
             "#fb9f3a"
            ],
            [
             0.8888888888888888,
             "#fdca26"
            ],
            [
             1,
             "#f0f921"
            ]
           ],
           "sequentialminus": [
            [
             0,
             "#0d0887"
            ],
            [
             0.1111111111111111,
             "#46039f"
            ],
            [
             0.2222222222222222,
             "#7201a8"
            ],
            [
             0.3333333333333333,
             "#9c179e"
            ],
            [
             0.4444444444444444,
             "#bd3786"
            ],
            [
             0.5555555555555556,
             "#d8576b"
            ],
            [
             0.6666666666666666,
             "#ed7953"
            ],
            [
             0.7777777777777778,
             "#fb9f3a"
            ],
            [
             0.8888888888888888,
             "#fdca26"
            ],
            [
             1,
             "#f0f921"
            ]
           ]
          },
          "colorway": [
           "#636efa",
           "#EF553B",
           "#00cc96",
           "#ab63fa",
           "#FFA15A",
           "#19d3f3",
           "#FF6692",
           "#B6E880",
           "#FF97FF",
           "#FECB52"
          ],
          "font": {
           "color": "#2a3f5f"
          },
          "geo": {
           "bgcolor": "white",
           "lakecolor": "white",
           "landcolor": "#E5ECF6",
           "showlakes": true,
           "showland": true,
           "subunitcolor": "white"
          },
          "hoverlabel": {
           "align": "left"
          },
          "hovermode": "closest",
          "mapbox": {
           "style": "light"
          },
          "paper_bgcolor": "white",
          "plot_bgcolor": "#E5ECF6",
          "polar": {
           "angularaxis": {
            "gridcolor": "white",
            "linecolor": "white",
            "ticks": ""
           },
           "bgcolor": "#E5ECF6",
           "radialaxis": {
            "gridcolor": "white",
            "linecolor": "white",
            "ticks": ""
           }
          },
          "scene": {
           "xaxis": {
            "backgroundcolor": "#E5ECF6",
            "gridcolor": "white",
            "gridwidth": 2,
            "linecolor": "white",
            "showbackground": true,
            "ticks": "",
            "zerolinecolor": "white"
           },
           "yaxis": {
            "backgroundcolor": "#E5ECF6",
            "gridcolor": "white",
            "gridwidth": 2,
            "linecolor": "white",
            "showbackground": true,
            "ticks": "",
            "zerolinecolor": "white"
           },
           "zaxis": {
            "backgroundcolor": "#E5ECF6",
            "gridcolor": "white",
            "gridwidth": 2,
            "linecolor": "white",
            "showbackground": true,
            "ticks": "",
            "zerolinecolor": "white"
           }
          },
          "shapedefaults": {
           "line": {
            "color": "#2a3f5f"
           }
          },
          "ternary": {
           "aaxis": {
            "gridcolor": "white",
            "linecolor": "white",
            "ticks": ""
           },
           "baxis": {
            "gridcolor": "white",
            "linecolor": "white",
            "ticks": ""
           },
           "bgcolor": "#E5ECF6",
           "caxis": {
            "gridcolor": "white",
            "linecolor": "white",
            "ticks": ""
           }
          },
          "title": {
           "x": 0.05
          },
          "xaxis": {
           "automargin": true,
           "gridcolor": "white",
           "linecolor": "white",
           "ticks": "",
           "title": {
            "standoff": 15
           },
           "zerolinecolor": "white",
           "zerolinewidth": 2
          },
          "yaxis": {
           "automargin": true,
           "gridcolor": "white",
           "linecolor": "white",
           "ticks": "",
           "title": {
            "standoff": 15
           },
           "zerolinecolor": "white",
           "zerolinewidth": 2
          }
         }
        },
        "title": {
         "text": "Number of Airbnb Listings per City in Rome"
        },
        "xaxis": {
         "anchor": "y",
         "categoryarray": [
          "Rome",
          "Monti",
          "Don Bosco",
          "Trieste"
         ],
         "categoryorder": "array",
         "domain": [
          0,
          1
         ],
         "title": {
          "text": "City"
         }
        },
        "yaxis": {
         "anchor": "x",
         "domain": [
          0,
          1
         ],
         "title": {
          "text": "Number of Listings"
         }
        }
       }
      }
     },
     "metadata": {},
     "output_type": "display_data"
    }
   ],
   "source": [
    "\n",
    "\n",
    "fig = px.bar(\n",
    "    city_counts.sort_values(by='Count', ascending=False),\n",
    "    x='City',\n",
    "    y='Count',\n",
    "    title='Number of Airbnb Listings per City in Rome',\n",
    "    text='Count',\n",
    "    color='City',\n",
    "    color_discrete_sequence=px.colors.qualitative.Vivid\n",
    ")\n",
    "\n",
    "fig.update_layout(\n",
    "    xaxis_title='City',\n",
    "    yaxis_title='Number of Listings',\n",
    "    showlegend=False\n",
    ")\n",
    "\n",
    "fig.show()"
   ]
  },
  {
   "cell_type": "code",
   "execution_count": 53,
   "id": "cc91503c",
   "metadata": {},
   "outputs": [
    {
     "data": {
      "application/vnd.plotly.v1+json": {
       "config": {
        "plotlyServerURL": "https://plot.ly"
       },
       "data": [
        {
         "hovertemplate": "Rate=%{marker.color}<br>Count=%{text}<extra></extra>",
         "legendgroup": "",
         "marker": {
          "color": {
           "bdata": "AAAAAAAAEkBmZmZmZmYSQM3MzMzMzBJAMzMzMzMzE0CamZmZmZkTQAAAAAAAABRA",
           "dtype": "f8"
          },
          "coloraxis": "coloraxis",
          "pattern": {
           "shape": ""
          }
         },
         "name": "",
         "orientation": "v",
         "showlegend": false,
         "text": {
          "bdata": "AAAAAAAAEEAAAAAAAAAqQAAAAAAAADpAAAAAAABAUUAAAAAAAABSQAAAAAAAgFxA",
          "dtype": "f8"
         },
         "textposition": "auto",
         "type": "bar",
         "x": {
          "bdata": "AAAAAAAAEkBmZmZmZmYSQM3MzMzMzBJAMzMzMzMzE0CamZmZmZkTQAAAAAAAABRA",
          "dtype": "f8"
         },
         "xaxis": "x",
         "y": {
          "bdata": "BA0aRUhy",
          "dtype": "i1"
         },
         "yaxis": "y"
        }
       ],
       "layout": {
        "barmode": "relative",
        "coloraxis": {
         "colorbar": {
          "title": {
           "text": "Rate"
          }
         },
         "colorscale": [
          [
           0,
           "#440154"
          ],
          [
           0.1111111111111111,
           "#482878"
          ],
          [
           0.2222222222222222,
           "#3e4989"
          ],
          [
           0.3333333333333333,
           "#31688e"
          ],
          [
           0.4444444444444444,
           "#26828e"
          ],
          [
           0.5555555555555556,
           "#1f9e89"
          ],
          [
           0.6666666666666666,
           "#35b779"
          ],
          [
           0.7777777777777778,
           "#6ece58"
          ],
          [
           0.8888888888888888,
           "#b5de2b"
          ],
          [
           1,
           "#fde725"
          ]
         ]
        },
        "legend": {
         "tracegroupgap": 0
        },
        "showlegend": false,
        "template": {
         "data": {
          "bar": [
           {
            "error_x": {
             "color": "#2a3f5f"
            },
            "error_y": {
             "color": "#2a3f5f"
            },
            "marker": {
             "line": {
              "color": "#E5ECF6",
              "width": 0.5
             },
             "pattern": {
              "fillmode": "overlay",
              "size": 10,
              "solidity": 0.2
             }
            },
            "type": "bar"
           }
          ],
          "barpolar": [
           {
            "marker": {
             "line": {
              "color": "#E5ECF6",
              "width": 0.5
             },
             "pattern": {
              "fillmode": "overlay",
              "size": 10,
              "solidity": 0.2
             }
            },
            "type": "barpolar"
           }
          ],
          "carpet": [
           {
            "aaxis": {
             "endlinecolor": "#2a3f5f",
             "gridcolor": "white",
             "linecolor": "white",
             "minorgridcolor": "white",
             "startlinecolor": "#2a3f5f"
            },
            "baxis": {
             "endlinecolor": "#2a3f5f",
             "gridcolor": "white",
             "linecolor": "white",
             "minorgridcolor": "white",
             "startlinecolor": "#2a3f5f"
            },
            "type": "carpet"
           }
          ],
          "choropleth": [
           {
            "colorbar": {
             "outlinewidth": 0,
             "ticks": ""
            },
            "type": "choropleth"
           }
          ],
          "contour": [
           {
            "colorbar": {
             "outlinewidth": 0,
             "ticks": ""
            },
            "colorscale": [
             [
              0,
              "#0d0887"
             ],
             [
              0.1111111111111111,
              "#46039f"
             ],
             [
              0.2222222222222222,
              "#7201a8"
             ],
             [
              0.3333333333333333,
              "#9c179e"
             ],
             [
              0.4444444444444444,
              "#bd3786"
             ],
             [
              0.5555555555555556,
              "#d8576b"
             ],
             [
              0.6666666666666666,
              "#ed7953"
             ],
             [
              0.7777777777777778,
              "#fb9f3a"
             ],
             [
              0.8888888888888888,
              "#fdca26"
             ],
             [
              1,
              "#f0f921"
             ]
            ],
            "type": "contour"
           }
          ],
          "contourcarpet": [
           {
            "colorbar": {
             "outlinewidth": 0,
             "ticks": ""
            },
            "type": "contourcarpet"
           }
          ],
          "heatmap": [
           {
            "colorbar": {
             "outlinewidth": 0,
             "ticks": ""
            },
            "colorscale": [
             [
              0,
              "#0d0887"
             ],
             [
              0.1111111111111111,
              "#46039f"
             ],
             [
              0.2222222222222222,
              "#7201a8"
             ],
             [
              0.3333333333333333,
              "#9c179e"
             ],
             [
              0.4444444444444444,
              "#bd3786"
             ],
             [
              0.5555555555555556,
              "#d8576b"
             ],
             [
              0.6666666666666666,
              "#ed7953"
             ],
             [
              0.7777777777777778,
              "#fb9f3a"
             ],
             [
              0.8888888888888888,
              "#fdca26"
             ],
             [
              1,
              "#f0f921"
             ]
            ],
            "type": "heatmap"
           }
          ],
          "histogram": [
           {
            "marker": {
             "pattern": {
              "fillmode": "overlay",
              "size": 10,
              "solidity": 0.2
             }
            },
            "type": "histogram"
           }
          ],
          "histogram2d": [
           {
            "colorbar": {
             "outlinewidth": 0,
             "ticks": ""
            },
            "colorscale": [
             [
              0,
              "#0d0887"
             ],
             [
              0.1111111111111111,
              "#46039f"
             ],
             [
              0.2222222222222222,
              "#7201a8"
             ],
             [
              0.3333333333333333,
              "#9c179e"
             ],
             [
              0.4444444444444444,
              "#bd3786"
             ],
             [
              0.5555555555555556,
              "#d8576b"
             ],
             [
              0.6666666666666666,
              "#ed7953"
             ],
             [
              0.7777777777777778,
              "#fb9f3a"
             ],
             [
              0.8888888888888888,
              "#fdca26"
             ],
             [
              1,
              "#f0f921"
             ]
            ],
            "type": "histogram2d"
           }
          ],
          "histogram2dcontour": [
           {
            "colorbar": {
             "outlinewidth": 0,
             "ticks": ""
            },
            "colorscale": [
             [
              0,
              "#0d0887"
             ],
             [
              0.1111111111111111,
              "#46039f"
             ],
             [
              0.2222222222222222,
              "#7201a8"
             ],
             [
              0.3333333333333333,
              "#9c179e"
             ],
             [
              0.4444444444444444,
              "#bd3786"
             ],
             [
              0.5555555555555556,
              "#d8576b"
             ],
             [
              0.6666666666666666,
              "#ed7953"
             ],
             [
              0.7777777777777778,
              "#fb9f3a"
             ],
             [
              0.8888888888888888,
              "#fdca26"
             ],
             [
              1,
              "#f0f921"
             ]
            ],
            "type": "histogram2dcontour"
           }
          ],
          "mesh3d": [
           {
            "colorbar": {
             "outlinewidth": 0,
             "ticks": ""
            },
            "type": "mesh3d"
           }
          ],
          "parcoords": [
           {
            "line": {
             "colorbar": {
              "outlinewidth": 0,
              "ticks": ""
             }
            },
            "type": "parcoords"
           }
          ],
          "pie": [
           {
            "automargin": true,
            "type": "pie"
           }
          ],
          "scatter": [
           {
            "fillpattern": {
             "fillmode": "overlay",
             "size": 10,
             "solidity": 0.2
            },
            "type": "scatter"
           }
          ],
          "scatter3d": [
           {
            "line": {
             "colorbar": {
              "outlinewidth": 0,
              "ticks": ""
             }
            },
            "marker": {
             "colorbar": {
              "outlinewidth": 0,
              "ticks": ""
             }
            },
            "type": "scatter3d"
           }
          ],
          "scattercarpet": [
           {
            "marker": {
             "colorbar": {
              "outlinewidth": 0,
              "ticks": ""
             }
            },
            "type": "scattercarpet"
           }
          ],
          "scattergeo": [
           {
            "marker": {
             "colorbar": {
              "outlinewidth": 0,
              "ticks": ""
             }
            },
            "type": "scattergeo"
           }
          ],
          "scattergl": [
           {
            "marker": {
             "colorbar": {
              "outlinewidth": 0,
              "ticks": ""
             }
            },
            "type": "scattergl"
           }
          ],
          "scattermap": [
           {
            "marker": {
             "colorbar": {
              "outlinewidth": 0,
              "ticks": ""
             }
            },
            "type": "scattermap"
           }
          ],
          "scattermapbox": [
           {
            "marker": {
             "colorbar": {
              "outlinewidth": 0,
              "ticks": ""
             }
            },
            "type": "scattermapbox"
           }
          ],
          "scatterpolar": [
           {
            "marker": {
             "colorbar": {
              "outlinewidth": 0,
              "ticks": ""
             }
            },
            "type": "scatterpolar"
           }
          ],
          "scatterpolargl": [
           {
            "marker": {
             "colorbar": {
              "outlinewidth": 0,
              "ticks": ""
             }
            },
            "type": "scatterpolargl"
           }
          ],
          "scatterternary": [
           {
            "marker": {
             "colorbar": {
              "outlinewidth": 0,
              "ticks": ""
             }
            },
            "type": "scatterternary"
           }
          ],
          "surface": [
           {
            "colorbar": {
             "outlinewidth": 0,
             "ticks": ""
            },
            "colorscale": [
             [
              0,
              "#0d0887"
             ],
             [
              0.1111111111111111,
              "#46039f"
             ],
             [
              0.2222222222222222,
              "#7201a8"
             ],
             [
              0.3333333333333333,
              "#9c179e"
             ],
             [
              0.4444444444444444,
              "#bd3786"
             ],
             [
              0.5555555555555556,
              "#d8576b"
             ],
             [
              0.6666666666666666,
              "#ed7953"
             ],
             [
              0.7777777777777778,
              "#fb9f3a"
             ],
             [
              0.8888888888888888,
              "#fdca26"
             ],
             [
              1,
              "#f0f921"
             ]
            ],
            "type": "surface"
           }
          ],
          "table": [
           {
            "cells": {
             "fill": {
              "color": "#EBF0F8"
             },
             "line": {
              "color": "white"
             }
            },
            "header": {
             "fill": {
              "color": "#C8D4E3"
             },
             "line": {
              "color": "white"
             }
            },
            "type": "table"
           }
          ]
         },
         "layout": {
          "annotationdefaults": {
           "arrowcolor": "#2a3f5f",
           "arrowhead": 0,
           "arrowwidth": 1
          },
          "autotypenumbers": "strict",
          "coloraxis": {
           "colorbar": {
            "outlinewidth": 0,
            "ticks": ""
           }
          },
          "colorscale": {
           "diverging": [
            [
             0,
             "#8e0152"
            ],
            [
             0.1,
             "#c51b7d"
            ],
            [
             0.2,
             "#de77ae"
            ],
            [
             0.3,
             "#f1b6da"
            ],
            [
             0.4,
             "#fde0ef"
            ],
            [
             0.5,
             "#f7f7f7"
            ],
            [
             0.6,
             "#e6f5d0"
            ],
            [
             0.7,
             "#b8e186"
            ],
            [
             0.8,
             "#7fbc41"
            ],
            [
             0.9,
             "#4d9221"
            ],
            [
             1,
             "#276419"
            ]
           ],
           "sequential": [
            [
             0,
             "#0d0887"
            ],
            [
             0.1111111111111111,
             "#46039f"
            ],
            [
             0.2222222222222222,
             "#7201a8"
            ],
            [
             0.3333333333333333,
             "#9c179e"
            ],
            [
             0.4444444444444444,
             "#bd3786"
            ],
            [
             0.5555555555555556,
             "#d8576b"
            ],
            [
             0.6666666666666666,
             "#ed7953"
            ],
            [
             0.7777777777777778,
             "#fb9f3a"
            ],
            [
             0.8888888888888888,
             "#fdca26"
            ],
            [
             1,
             "#f0f921"
            ]
           ],
           "sequentialminus": [
            [
             0,
             "#0d0887"
            ],
            [
             0.1111111111111111,
             "#46039f"
            ],
            [
             0.2222222222222222,
             "#7201a8"
            ],
            [
             0.3333333333333333,
             "#9c179e"
            ],
            [
             0.4444444444444444,
             "#bd3786"
            ],
            [
             0.5555555555555556,
             "#d8576b"
            ],
            [
             0.6666666666666666,
             "#ed7953"
            ],
            [
             0.7777777777777778,
             "#fb9f3a"
            ],
            [
             0.8888888888888888,
             "#fdca26"
            ],
            [
             1,
             "#f0f921"
            ]
           ]
          },
          "colorway": [
           "#636efa",
           "#EF553B",
           "#00cc96",
           "#ab63fa",
           "#FFA15A",
           "#19d3f3",
           "#FF6692",
           "#B6E880",
           "#FF97FF",
           "#FECB52"
          ],
          "font": {
           "color": "#2a3f5f"
          },
          "geo": {
           "bgcolor": "white",
           "lakecolor": "white",
           "landcolor": "#E5ECF6",
           "showlakes": true,
           "showland": true,
           "subunitcolor": "white"
          },
          "hoverlabel": {
           "align": "left"
          },
          "hovermode": "closest",
          "mapbox": {
           "style": "light"
          },
          "paper_bgcolor": "white",
          "plot_bgcolor": "#E5ECF6",
          "polar": {
           "angularaxis": {
            "gridcolor": "white",
            "linecolor": "white",
            "ticks": ""
           },
           "bgcolor": "#E5ECF6",
           "radialaxis": {
            "gridcolor": "white",
            "linecolor": "white",
            "ticks": ""
           }
          },
          "scene": {
           "xaxis": {
            "backgroundcolor": "#E5ECF6",
            "gridcolor": "white",
            "gridwidth": 2,
            "linecolor": "white",
            "showbackground": true,
            "ticks": "",
            "zerolinecolor": "white"
           },
           "yaxis": {
            "backgroundcolor": "#E5ECF6",
            "gridcolor": "white",
            "gridwidth": 2,
            "linecolor": "white",
            "showbackground": true,
            "ticks": "",
            "zerolinecolor": "white"
           },
           "zaxis": {
            "backgroundcolor": "#E5ECF6",
            "gridcolor": "white",
            "gridwidth": 2,
            "linecolor": "white",
            "showbackground": true,
            "ticks": "",
            "zerolinecolor": "white"
           }
          },
          "shapedefaults": {
           "line": {
            "color": "#2a3f5f"
           }
          },
          "ternary": {
           "aaxis": {
            "gridcolor": "white",
            "linecolor": "white",
            "ticks": ""
           },
           "baxis": {
            "gridcolor": "white",
            "linecolor": "white",
            "ticks": ""
           },
           "bgcolor": "#E5ECF6",
           "caxis": {
            "gridcolor": "white",
            "linecolor": "white",
            "ticks": ""
           }
          },
          "title": {
           "x": 0.05
          },
          "xaxis": {
           "automargin": true,
           "gridcolor": "white",
           "linecolor": "white",
           "ticks": "",
           "title": {
            "standoff": 15
           },
           "zerolinecolor": "white",
           "zerolinewidth": 2
          },
          "yaxis": {
           "automargin": true,
           "gridcolor": "white",
           "linecolor": "white",
           "ticks": "",
           "title": {
            "standoff": 15
           },
           "zerolinecolor": "white",
           "zerolinewidth": 2
          }
         }
        },
        "title": {
         "text": "Number of Airbnb Listings by Rating"
        },
        "xaxis": {
         "anchor": "y",
         "domain": [
          0,
          1
         ],
         "title": {
          "text": "Rating"
         }
        },
        "yaxis": {
         "anchor": "x",
         "domain": [
          0,
          1
         ],
         "title": {
          "text": "Number of Listings"
         }
        }
       }
      }
     },
     "metadata": {},
     "output_type": "display_data"
    }
   ],
   "source": [
    "\n",
    "df['Rounded_Rate'] = df['Rates'].round(1)\n",
    "\n",
    "\n",
    "rate_counts = df['Rounded_Rate'].value_counts().reset_index()\n",
    "rate_counts.columns = ['Rate', 'Count']\n",
    "rate_counts = rate_counts.sort_values(by='Rate')\n",
    "\n",
    "\n",
    "fig = px.bar(\n",
    "    rate_counts,\n",
    "    x='Rate',\n",
    "    y='Count',\n",
    "    title='Number of Airbnb Listings by Rating',\n",
    "    text='Count',\n",
    "    color='Rate',\n",
    "    color_continuous_scale='Viridis'\n",
    ")\n",
    "\n",
    "fig.update_layout(\n",
    "    xaxis_title='Rating',\n",
    "    yaxis_title='Number of Listings',\n",
    "    showlegend=False\n",
    ")\n",
    "\n",
    "fig.show()"
   ]
  },
  {
   "cell_type": "code",
   "execution_count": 65,
   "id": "a5e589fc",
   "metadata": {},
   "outputs": [
    {
     "data": {
      "application/vnd.plotly.v1+json": {
       "config": {
        "plotlyServerURL": "https://plot.ly"
       },
       "data": [
        {
         "alignmentgroup": "True",
         "box": {
          "visible": true
         },
         "hovertemplate": "Airbnb_type=%{x}<br>Price_before_sale=%{y}<extra></extra>",
         "legendgroup": "Room",
         "marker": {
          "color": "rgb(228,26,28)"
         },
         "name": "Room",
         "offsetgroup": "Room",
         "orientation": "v",
         "points": "outliers",
         "scalegroup": "True",
         "showlegend": true,
         "type": "violin",
         "x": [
          "Room",
          "Room",
          "Room",
          "Room",
          "Room",
          "Room",
          "Room",
          "Room",
          "Room",
          "Room",
          "Room",
          "Room",
          "Room",
          "Room",
          "Room",
          "Room",
          "Room",
          "Room",
          "Room",
          "Room",
          "Room",
          "Room",
          "Room",
          "Room",
          "Room",
          "Room",
          "Room",
          "Room",
          "Room",
          "Room",
          "Room",
          "Room",
          "Room",
          "Room",
          "Room",
          "Room",
          "Room",
          "Room",
          "Room",
          "Room",
          "Room",
          "Room",
          "Room",
          "Room",
          "Room",
          "Room",
          "Room",
          "Room",
          "Room",
          "Room",
          "Room",
          "Room",
          "Room",
          "Room",
          "Room",
          "Room",
          "Room",
          "Room",
          "Room",
          "Room",
          "Room",
          "Room",
          "Room",
          "Room",
          "Room",
          "Room",
          "Room",
          "Room",
          "Room",
          "Room",
          "Room",
          "Room",
          "Room",
          "Room",
          "Room",
          "Room"
         ],
         "x0": " ",
         "xaxis": "x",
         "y": {
          "bdata": "SCgAAGU5AABD/wAAZ34AAM1pAAC+SQAAbsYAAGBVAAD/YQAAZocAAADKAAARdwAASCgAAGU5AABD/wAAZ34AAM1pAAC+SQAAbsYAAGBVAAD/YQAAZocAAADKAAARdwAASCgAAGU5AABD/wAAZ34AAM1pAAC+SQAAbsYAAGBVAAD/YQAAZocAAADKAAARdwAASCgAAGU5AABD/wAAZ34AAM1pAAC+SQAAbsYAAGBVAAD/YQAAZocAAADKAAARdwAAPaIAAFhdAADw0AAAWqIAAASMAABF+QAA/LIAALRiAADvtQAA/UsBALaJAAAslgAApZAAAP2DAACpsgAAPvcAABhpAACCAwEAq7EAAOHTAADapQAAgmsBAIyqAABtFAEA/YAAANOAAABlAAEA9Q4BAA==",
          "dtype": "i4"
         },
         "y0": " ",
         "yaxis": "y"
        },
        {
         "alignmentgroup": "True",
         "box": {
          "visible": true
         },
         "hovertemplate": "Airbnb_type=%{x}<br>Price_before_sale=%{y}<extra></extra>",
         "legendgroup": "Loft",
         "marker": {
          "color": "rgb(55,126,184)"
         },
         "name": "Loft",
         "offsetgroup": "Loft",
         "orientation": "v",
         "points": "outliers",
         "scalegroup": "True",
         "showlegend": true,
         "type": "violin",
         "x": [
          "Loft",
          "Loft",
          "Loft",
          "Loft",
          "Loft",
          "Loft",
          "Loft",
          "Loft",
          "Loft"
         ],
         "x0": " ",
         "xaxis": "x",
         "y": {
          "bdata": "qB8BAKgfAQCoHwEAqB8BAASMAADRaQAAe3kAAHD1AADQXAAA",
          "dtype": "i4"
         },
         "y0": " ",
         "yaxis": "y"
        },
        {
         "alignmentgroup": "True",
         "box": {
          "visible": true
         },
         "hovertemplate": "Airbnb_type=%{x}<br>Price_before_sale=%{y}<extra></extra>",
         "legendgroup": "Apartment",
         "marker": {
          "color": "rgb(77,175,74)"
         },
         "name": "Apartment",
         "offsetgroup": "Apartment",
         "orientation": "v",
         "points": "outliers",
         "scalegroup": "True",
         "showlegend": true,
         "type": "violin",
         "x": [
          "Apartment",
          "Apartment",
          "Apartment",
          "Apartment",
          "Apartment",
          "Apartment",
          "Apartment",
          "Apartment",
          "Apartment",
          "Apartment",
          "Apartment",
          "Apartment",
          "Apartment",
          "Apartment",
          "Apartment",
          "Apartment",
          "Apartment",
          "Apartment",
          "Apartment",
          "Apartment",
          "Apartment",
          "Apartment",
          "Apartment",
          "Apartment",
          "Apartment",
          "Apartment",
          "Apartment",
          "Apartment",
          "Apartment",
          "Apartment",
          "Apartment",
          "Apartment",
          "Apartment",
          "Apartment",
          "Apartment",
          "Apartment",
          "Apartment",
          "Apartment",
          "Apartment",
          "Apartment",
          "Apartment",
          "Apartment",
          "Apartment",
          "Apartment",
          "Apartment",
          "Apartment",
          "Apartment",
          "Apartment",
          "Apartment",
          "Apartment",
          "Apartment",
          "Apartment",
          "Apartment",
          "Apartment",
          "Apartment",
          "Apartment",
          "Apartment",
          "Apartment",
          "Apartment",
          "Apartment",
          "Apartment",
          "Apartment",
          "Apartment",
          "Apartment",
          "Apartment",
          "Apartment",
          "Apartment",
          "Apartment",
          "Apartment",
          "Apartment",
          "Apartment",
          "Apartment",
          "Apartment",
          "Apartment",
          "Apartment",
          "Apartment",
          "Apartment",
          "Apartment",
          "Apartment",
          "Apartment",
          "Apartment",
          "Apartment",
          "Apartment",
          "Apartment",
          "Apartment",
          "Apartment",
          "Apartment",
          "Apartment",
          "Apartment",
          "Apartment",
          "Apartment",
          "Apartment",
          "Apartment",
          "Apartment",
          "Apartment",
          "Apartment",
          "Apartment",
          "Apartment",
          "Apartment",
          "Apartment",
          "Apartment",
          "Apartment",
          "Apartment",
          "Apartment",
          "Apartment",
          "Apartment",
          "Apartment",
          "Apartment",
          "Apartment",
          "Apartment",
          "Apartment",
          "Apartment",
          "Apartment",
          "Apartment",
          "Apartment",
          "Apartment",
          "Apartment",
          "Apartment",
          "Apartment",
          "Apartment",
          "Apartment",
          "Apartment",
          "Apartment",
          "Apartment",
          "Apartment",
          "Apartment",
          "Apartment",
          "Apartment",
          "Apartment",
          "Apartment",
          "Apartment"
         ],
         "x0": " ",
         "xaxis": "x",
         "y": {
          "bdata": "GC8BAKWIAgDVigAArZ8AAL1/AACtnwAA9IkAAG7GAAD/YQAA4lcAAGBVAAB+uwAA2yQBAKl3AAAvYQAAnewAAKs0BAAvxAAAGC8BAKWIAgDVigAArZ8AAL1/AACtnwAA9IkAAG7GAAD/YQAA4lcAAGBVAAB+uwAA2yQBAKl3AAAvYQAAnewAAKs0BAAvxAAAGC8BAKWIAgDVigAArZ8AAL1/AACtnwAA9IkAAG7GAAD/YQAA4lcAAGBVAAB+uwAA2yQBAKl3AAAvYQAAnewAAKs0BAAvxAAAGC8BAKWIAgDVigAArZ8AAL1/AACtnwAA9IkAAG7GAAD/YQAA4lcAAGBVAAB+uwAA2yQBAKl3AAAvYQAAnewAAKs0BAAvxAAAXuEAAH/AAACprgAA1LEAAHh2AACMrwAAn08AAPP2AADFTwAAC7UAAJpaAACJWwAA3pcDACZzAAC+XwAAqVYAAHNBAQAFDgEAG8AAAHV8AABmkgAAMHYAALtjAAAkeQAAOEwAAOu2AABqqAAA67YAAM1pAACHhgAAP8oAAEdbAABcmQAA8boAANqlAABd6gAAVp8AAK6XAAAEggAAhN4CAA7MAADLiwAAvX8AAGPoAAAmcgAACKQAAJqjAAAwdQAA2lQAAFabAACuhAAAsq0AAByiAQACqAAANoMAADyoAAA+5QAA/rwAAAbVAAA=",
          "dtype": "i4"
         },
         "y0": " ",
         "yaxis": "y"
        },
        {
         "alignmentgroup": "True",
         "box": {
          "visible": true
         },
         "hovertemplate": "Airbnb_type=%{x}<br>Price_before_sale=%{y}<extra></extra>",
         "legendgroup": "Vacation home",
         "marker": {
          "color": "rgb(152,78,163)"
         },
         "name": "Vacation home",
         "offsetgroup": "Vacation home",
         "orientation": "v",
         "points": "outliers",
         "scalegroup": "True",
         "showlegend": true,
         "type": "violin",
         "x": [
          "Vacation home",
          "Vacation home",
          "Vacation home",
          "Vacation home",
          "Vacation home",
          "Vacation home",
          "Vacation home",
          "Vacation home",
          "Vacation home",
          "Vacation home",
          "Vacation home",
          "Vacation home",
          "Vacation home",
          "Vacation home",
          "Vacation home",
          "Vacation home"
         ],
         "x0": " ",
         "xaxis": "x",
         "y": {
          "bdata": "2+sAADBDAQCynQAA2+sAADBDAQCynQAA2+sAADBDAQCynQAA2+sAADBDAQCynQAAmqYAAGjCAACQBgEAjD0BAA==",
          "dtype": "i4"
         },
         "y0": " ",
         "yaxis": "y"
        },
        {
         "alignmentgroup": "True",
         "box": {
          "visible": true
         },
         "hovertemplate": "Airbnb_type=%{x}<br>Price_before_sale=%{y}<extra></extra>",
         "legendgroup": "Home",
         "marker": {
          "color": "rgb(255,127,0)"
         },
         "name": "Home",
         "offsetgroup": "Home",
         "orientation": "v",
         "points": "outliers",
         "scalegroup": "True",
         "showlegend": true,
         "type": "violin",
         "x": [
          "Home",
          "Home",
          "Home",
          "Home",
          "Home",
          "Home",
          "Home",
          "Home"
         ],
         "x0": " ",
         "xaxis": "x",
         "y": {
          "bdata": "Z34AAGd+AABnfgAAZ34AAE39AABJqAAADswAAImHAAA=",
          "dtype": "i4"
         },
         "y0": " ",
         "yaxis": "y"
        },
        {
         "alignmentgroup": "True",
         "box": {
          "visible": true
         },
         "hovertemplate": "Airbnb_type=%{x}<br>Price_before_sale=%{y}<extra></extra>",
         "legendgroup": "Hotel",
         "marker": {
          "color": "rgb(255,255,51)"
         },
         "name": "Hotel",
         "offsetgroup": "Hotel",
         "orientation": "v",
         "points": "outliers",
         "scalegroup": "True",
         "showlegend": true,
         "type": "violin",
         "x": [
          "Hotel",
          "Hotel",
          "Hotel",
          "Hotel"
         ],
         "x0": " ",
         "xaxis": "x",
         "y": {
          "bdata": "/3n/ef95/3k=",
          "dtype": "i2"
         },
         "y0": " ",
         "yaxis": "y"
        },
        {
         "alignmentgroup": "True",
         "box": {
          "visible": true
         },
         "hovertemplate": "Airbnb_type=%{x}<br>Price_before_sale=%{y}<extra></extra>",
         "legendgroup": "Condo",
         "marker": {
          "color": "rgb(166,86,40)"
         },
         "name": "Condo",
         "offsetgroup": "Condo",
         "orientation": "v",
         "points": "outliers",
         "scalegroup": "True",
         "showlegend": true,
         "type": "violin",
         "x": [
          "Condo",
          "Condo",
          "Condo",
          "Condo",
          "Condo",
          "Condo",
          "Condo",
          "Condo",
          "Condo",
          "Condo",
          "Condo",
          "Condo",
          "Condo",
          "Condo",
          "Condo",
          "Condo",
          "Condo",
          "Condo",
          "Condo",
          "Condo",
          "Condo",
          "Condo",
          "Condo",
          "Condo",
          "Condo",
          "Condo",
          "Condo",
          "Condo",
          "Condo",
          "Condo",
          "Condo",
          "Condo",
          "Condo",
          "Condo",
          "Condo",
          "Condo",
          "Condo",
          "Condo",
          "Condo",
          "Condo",
          "Condo",
          "Condo",
          "Condo",
          "Condo",
          "Condo",
          "Condo",
          "Condo"
         ],
         "x0": " ",
         "xaxis": "x",
         "y": {
          "bdata": "+2QAAL1/AAAAdgAA2nIAAEyAAAD7ZAAAvX8AAAB2AADacgAATIAAAPtkAAC9fwAAAHYAANpyAABMgAAA+2QAAL1/AAAAdgAA2nIAAEyAAAC+SQAA8NAAAM4CAQAG1QAAGGUAABHtAAAYZQAASfUAALpPAAClRwAARZcAABhlAAC3fgAA7KsBAMFNAAAKaQAA79YAAOtUAAC1bAAAPJQAAINyAABlAAEAbkYAAP6jAACDqgAA2/IAAO+1AAA=",
          "dtype": "i4"
         },
         "y0": " ",
         "yaxis": "y"
        },
        {
         "alignmentgroup": "True",
         "box": {
          "visible": true
         },
         "hovertemplate": "Airbnb_type=%{x}<br>Price_before_sale=%{y}<extra></extra>",
         "legendgroup": "Guesthouse",
         "marker": {
          "color": "rgb(247,129,191)"
         },
         "name": "Guesthouse",
         "offsetgroup": "Guesthouse",
         "orientation": "v",
         "points": "outliers",
         "scalegroup": "True",
         "showlegend": true,
         "type": "violin",
         "x": [
          "Guesthouse",
          "Guesthouse",
          "Guesthouse",
          "Guesthouse"
         ],
         "x0": " ",
         "xaxis": "x",
         "y": {
          "bdata": "jwkBAI8JAQCPCQEAjwkBAA==",
          "dtype": "i4"
         },
         "y0": " ",
         "yaxis": "y"
        },
        {
         "alignmentgroup": "True",
         "box": {
          "visible": true
         },
         "hovertemplate": "Airbnb_type=%{x}<br>Price_before_sale=%{y}<extra></extra>",
         "legendgroup": "Villa",
         "marker": {
          "color": "rgb(153,153,153)"
         },
         "name": "Villa",
         "offsetgroup": "Villa",
         "orientation": "v",
         "points": "outliers",
         "scalegroup": "True",
         "showlegend": true,
         "type": "violin",
         "x": [
          "Villa"
         ],
         "x0": " ",
         "xaxis": "x",
         "y": {
          "bdata": "61Q=",
          "dtype": "i2"
         },
         "y0": " ",
         "yaxis": "y"
        },
        {
         "alignmentgroup": "True",
         "box": {
          "visible": true
         },
         "hovertemplate": "Airbnb_type=%{x}<br>Price_before_sale=%{y}<extra></extra>",
         "legendgroup": "Place to stay",
         "marker": {
          "color": "rgb(228,26,28)"
         },
         "name": "Place to stay",
         "offsetgroup": "Place to stay",
         "orientation": "v",
         "points": "outliers",
         "scalegroup": "True",
         "showlegend": true,
         "type": "violin",
         "x": [
          "Place to stay",
          "Place to stay"
         ],
         "x0": " ",
         "xaxis": "x",
         "y": {
          "bdata": "g3I7WA==",
          "dtype": "i2"
         },
         "y0": " ",
         "yaxis": "y"
        }
       ],
       "layout": {
        "legend": {
         "title": {
          "text": "Airbnb_type"
         },
         "tracegroupgap": 0
        },
        "template": {
         "data": {
          "bar": [
           {
            "error_x": {
             "color": "#2a3f5f"
            },
            "error_y": {
             "color": "#2a3f5f"
            },
            "marker": {
             "line": {
              "color": "#E5ECF6",
              "width": 0.5
             },
             "pattern": {
              "fillmode": "overlay",
              "size": 10,
              "solidity": 0.2
             }
            },
            "type": "bar"
           }
          ],
          "barpolar": [
           {
            "marker": {
             "line": {
              "color": "#E5ECF6",
              "width": 0.5
             },
             "pattern": {
              "fillmode": "overlay",
              "size": 10,
              "solidity": 0.2
             }
            },
            "type": "barpolar"
           }
          ],
          "carpet": [
           {
            "aaxis": {
             "endlinecolor": "#2a3f5f",
             "gridcolor": "white",
             "linecolor": "white",
             "minorgridcolor": "white",
             "startlinecolor": "#2a3f5f"
            },
            "baxis": {
             "endlinecolor": "#2a3f5f",
             "gridcolor": "white",
             "linecolor": "white",
             "minorgridcolor": "white",
             "startlinecolor": "#2a3f5f"
            },
            "type": "carpet"
           }
          ],
          "choropleth": [
           {
            "colorbar": {
             "outlinewidth": 0,
             "ticks": ""
            },
            "type": "choropleth"
           }
          ],
          "contour": [
           {
            "colorbar": {
             "outlinewidth": 0,
             "ticks": ""
            },
            "colorscale": [
             [
              0,
              "#0d0887"
             ],
             [
              0.1111111111111111,
              "#46039f"
             ],
             [
              0.2222222222222222,
              "#7201a8"
             ],
             [
              0.3333333333333333,
              "#9c179e"
             ],
             [
              0.4444444444444444,
              "#bd3786"
             ],
             [
              0.5555555555555556,
              "#d8576b"
             ],
             [
              0.6666666666666666,
              "#ed7953"
             ],
             [
              0.7777777777777778,
              "#fb9f3a"
             ],
             [
              0.8888888888888888,
              "#fdca26"
             ],
             [
              1,
              "#f0f921"
             ]
            ],
            "type": "contour"
           }
          ],
          "contourcarpet": [
           {
            "colorbar": {
             "outlinewidth": 0,
             "ticks": ""
            },
            "type": "contourcarpet"
           }
          ],
          "heatmap": [
           {
            "colorbar": {
             "outlinewidth": 0,
             "ticks": ""
            },
            "colorscale": [
             [
              0,
              "#0d0887"
             ],
             [
              0.1111111111111111,
              "#46039f"
             ],
             [
              0.2222222222222222,
              "#7201a8"
             ],
             [
              0.3333333333333333,
              "#9c179e"
             ],
             [
              0.4444444444444444,
              "#bd3786"
             ],
             [
              0.5555555555555556,
              "#d8576b"
             ],
             [
              0.6666666666666666,
              "#ed7953"
             ],
             [
              0.7777777777777778,
              "#fb9f3a"
             ],
             [
              0.8888888888888888,
              "#fdca26"
             ],
             [
              1,
              "#f0f921"
             ]
            ],
            "type": "heatmap"
           }
          ],
          "histogram": [
           {
            "marker": {
             "pattern": {
              "fillmode": "overlay",
              "size": 10,
              "solidity": 0.2
             }
            },
            "type": "histogram"
           }
          ],
          "histogram2d": [
           {
            "colorbar": {
             "outlinewidth": 0,
             "ticks": ""
            },
            "colorscale": [
             [
              0,
              "#0d0887"
             ],
             [
              0.1111111111111111,
              "#46039f"
             ],
             [
              0.2222222222222222,
              "#7201a8"
             ],
             [
              0.3333333333333333,
              "#9c179e"
             ],
             [
              0.4444444444444444,
              "#bd3786"
             ],
             [
              0.5555555555555556,
              "#d8576b"
             ],
             [
              0.6666666666666666,
              "#ed7953"
             ],
             [
              0.7777777777777778,
              "#fb9f3a"
             ],
             [
              0.8888888888888888,
              "#fdca26"
             ],
             [
              1,
              "#f0f921"
             ]
            ],
            "type": "histogram2d"
           }
          ],
          "histogram2dcontour": [
           {
            "colorbar": {
             "outlinewidth": 0,
             "ticks": ""
            },
            "colorscale": [
             [
              0,
              "#0d0887"
             ],
             [
              0.1111111111111111,
              "#46039f"
             ],
             [
              0.2222222222222222,
              "#7201a8"
             ],
             [
              0.3333333333333333,
              "#9c179e"
             ],
             [
              0.4444444444444444,
              "#bd3786"
             ],
             [
              0.5555555555555556,
              "#d8576b"
             ],
             [
              0.6666666666666666,
              "#ed7953"
             ],
             [
              0.7777777777777778,
              "#fb9f3a"
             ],
             [
              0.8888888888888888,
              "#fdca26"
             ],
             [
              1,
              "#f0f921"
             ]
            ],
            "type": "histogram2dcontour"
           }
          ],
          "mesh3d": [
           {
            "colorbar": {
             "outlinewidth": 0,
             "ticks": ""
            },
            "type": "mesh3d"
           }
          ],
          "parcoords": [
           {
            "line": {
             "colorbar": {
              "outlinewidth": 0,
              "ticks": ""
             }
            },
            "type": "parcoords"
           }
          ],
          "pie": [
           {
            "automargin": true,
            "type": "pie"
           }
          ],
          "scatter": [
           {
            "fillpattern": {
             "fillmode": "overlay",
             "size": 10,
             "solidity": 0.2
            },
            "type": "scatter"
           }
          ],
          "scatter3d": [
           {
            "line": {
             "colorbar": {
              "outlinewidth": 0,
              "ticks": ""
             }
            },
            "marker": {
             "colorbar": {
              "outlinewidth": 0,
              "ticks": ""
             }
            },
            "type": "scatter3d"
           }
          ],
          "scattercarpet": [
           {
            "marker": {
             "colorbar": {
              "outlinewidth": 0,
              "ticks": ""
             }
            },
            "type": "scattercarpet"
           }
          ],
          "scattergeo": [
           {
            "marker": {
             "colorbar": {
              "outlinewidth": 0,
              "ticks": ""
             }
            },
            "type": "scattergeo"
           }
          ],
          "scattergl": [
           {
            "marker": {
             "colorbar": {
              "outlinewidth": 0,
              "ticks": ""
             }
            },
            "type": "scattergl"
           }
          ],
          "scattermap": [
           {
            "marker": {
             "colorbar": {
              "outlinewidth": 0,
              "ticks": ""
             }
            },
            "type": "scattermap"
           }
          ],
          "scattermapbox": [
           {
            "marker": {
             "colorbar": {
              "outlinewidth": 0,
              "ticks": ""
             }
            },
            "type": "scattermapbox"
           }
          ],
          "scatterpolar": [
           {
            "marker": {
             "colorbar": {
              "outlinewidth": 0,
              "ticks": ""
             }
            },
            "type": "scatterpolar"
           }
          ],
          "scatterpolargl": [
           {
            "marker": {
             "colorbar": {
              "outlinewidth": 0,
              "ticks": ""
             }
            },
            "type": "scatterpolargl"
           }
          ],
          "scatterternary": [
           {
            "marker": {
             "colorbar": {
              "outlinewidth": 0,
              "ticks": ""
             }
            },
            "type": "scatterternary"
           }
          ],
          "surface": [
           {
            "colorbar": {
             "outlinewidth": 0,
             "ticks": ""
            },
            "colorscale": [
             [
              0,
              "#0d0887"
             ],
             [
              0.1111111111111111,
              "#46039f"
             ],
             [
              0.2222222222222222,
              "#7201a8"
             ],
             [
              0.3333333333333333,
              "#9c179e"
             ],
             [
              0.4444444444444444,
              "#bd3786"
             ],
             [
              0.5555555555555556,
              "#d8576b"
             ],
             [
              0.6666666666666666,
              "#ed7953"
             ],
             [
              0.7777777777777778,
              "#fb9f3a"
             ],
             [
              0.8888888888888888,
              "#fdca26"
             ],
             [
              1,
              "#f0f921"
             ]
            ],
            "type": "surface"
           }
          ],
          "table": [
           {
            "cells": {
             "fill": {
              "color": "#EBF0F8"
             },
             "line": {
              "color": "white"
             }
            },
            "header": {
             "fill": {
              "color": "#C8D4E3"
             },
             "line": {
              "color": "white"
             }
            },
            "type": "table"
           }
          ]
         },
         "layout": {
          "annotationdefaults": {
           "arrowcolor": "#2a3f5f",
           "arrowhead": 0,
           "arrowwidth": 1
          },
          "autotypenumbers": "strict",
          "coloraxis": {
           "colorbar": {
            "outlinewidth": 0,
            "ticks": ""
           }
          },
          "colorscale": {
           "diverging": [
            [
             0,
             "#8e0152"
            ],
            [
             0.1,
             "#c51b7d"
            ],
            [
             0.2,
             "#de77ae"
            ],
            [
             0.3,
             "#f1b6da"
            ],
            [
             0.4,
             "#fde0ef"
            ],
            [
             0.5,
             "#f7f7f7"
            ],
            [
             0.6,
             "#e6f5d0"
            ],
            [
             0.7,
             "#b8e186"
            ],
            [
             0.8,
             "#7fbc41"
            ],
            [
             0.9,
             "#4d9221"
            ],
            [
             1,
             "#276419"
            ]
           ],
           "sequential": [
            [
             0,
             "#0d0887"
            ],
            [
             0.1111111111111111,
             "#46039f"
            ],
            [
             0.2222222222222222,
             "#7201a8"
            ],
            [
             0.3333333333333333,
             "#9c179e"
            ],
            [
             0.4444444444444444,
             "#bd3786"
            ],
            [
             0.5555555555555556,
             "#d8576b"
            ],
            [
             0.6666666666666666,
             "#ed7953"
            ],
            [
             0.7777777777777778,
             "#fb9f3a"
            ],
            [
             0.8888888888888888,
             "#fdca26"
            ],
            [
             1,
             "#f0f921"
            ]
           ],
           "sequentialminus": [
            [
             0,
             "#0d0887"
            ],
            [
             0.1111111111111111,
             "#46039f"
            ],
            [
             0.2222222222222222,
             "#7201a8"
            ],
            [
             0.3333333333333333,
             "#9c179e"
            ],
            [
             0.4444444444444444,
             "#bd3786"
            ],
            [
             0.5555555555555556,
             "#d8576b"
            ],
            [
             0.6666666666666666,
             "#ed7953"
            ],
            [
             0.7777777777777778,
             "#fb9f3a"
            ],
            [
             0.8888888888888888,
             "#fdca26"
            ],
            [
             1,
             "#f0f921"
            ]
           ]
          },
          "colorway": [
           "#636efa",
           "#EF553B",
           "#00cc96",
           "#ab63fa",
           "#FFA15A",
           "#19d3f3",
           "#FF6692",
           "#B6E880",
           "#FF97FF",
           "#FECB52"
          ],
          "font": {
           "color": "#2a3f5f"
          },
          "geo": {
           "bgcolor": "white",
           "lakecolor": "white",
           "landcolor": "#E5ECF6",
           "showlakes": true,
           "showland": true,
           "subunitcolor": "white"
          },
          "hoverlabel": {
           "align": "left"
          },
          "hovermode": "closest",
          "mapbox": {
           "style": "light"
          },
          "paper_bgcolor": "white",
          "plot_bgcolor": "#E5ECF6",
          "polar": {
           "angularaxis": {
            "gridcolor": "white",
            "linecolor": "white",
            "ticks": ""
           },
           "bgcolor": "#E5ECF6",
           "radialaxis": {
            "gridcolor": "white",
            "linecolor": "white",
            "ticks": ""
           }
          },
          "scene": {
           "xaxis": {
            "backgroundcolor": "#E5ECF6",
            "gridcolor": "white",
            "gridwidth": 2,
            "linecolor": "white",
            "showbackground": true,
            "ticks": "",
            "zerolinecolor": "white"
           },
           "yaxis": {
            "backgroundcolor": "#E5ECF6",
            "gridcolor": "white",
            "gridwidth": 2,
            "linecolor": "white",
            "showbackground": true,
            "ticks": "",
            "zerolinecolor": "white"
           },
           "zaxis": {
            "backgroundcolor": "#E5ECF6",
            "gridcolor": "white",
            "gridwidth": 2,
            "linecolor": "white",
            "showbackground": true,
            "ticks": "",
            "zerolinecolor": "white"
           }
          },
          "shapedefaults": {
           "line": {
            "color": "#2a3f5f"
           }
          },
          "ternary": {
           "aaxis": {
            "gridcolor": "white",
            "linecolor": "white",
            "ticks": ""
           },
           "baxis": {
            "gridcolor": "white",
            "linecolor": "white",
            "ticks": ""
           },
           "bgcolor": "#E5ECF6",
           "caxis": {
            "gridcolor": "white",
            "linecolor": "white",
            "ticks": ""
           }
          },
          "title": {
           "x": 0.05
          },
          "xaxis": {
           "automargin": true,
           "gridcolor": "white",
           "linecolor": "white",
           "ticks": "",
           "title": {
            "standoff": 15
           },
           "zerolinecolor": "white",
           "zerolinewidth": 2
          },
          "yaxis": {
           "automargin": true,
           "gridcolor": "white",
           "linecolor": "white",
           "ticks": "",
           "title": {
            "standoff": 15
           },
           "zerolinecolor": "white",
           "zerolinewidth": 2
          }
         }
        },
        "title": {
         "text": "Price Distribution by Airbnb Type"
        },
        "violinmode": "overlay",
        "xaxis": {
         "anchor": "y",
         "categoryarray": [
          "Room",
          "Loft",
          "Apartment",
          "Vacation home",
          "Home",
          "Hotel",
          "Condo",
          "Guesthouse",
          "Villa",
          "Place to stay"
         ],
         "categoryorder": "array",
         "domain": [
          0,
          1
         ],
         "title": {
          "text": "Airbnb Type"
         }
        },
        "yaxis": {
         "anchor": "x",
         "domain": [
          0,
          1
         ],
         "title": {
          "text": "Price Before Sale"
         }
        }
       }
      }
     },
     "metadata": {},
     "output_type": "display_data"
    }
   ],
   "source": [
    "import plotly.express as px\n",
    "\n",
    "fig = px.violin(\n",
    "    df,\n",
    "    x='Airbnb_type',\n",
    "    y='Price_before_sale',\n",
    "    color='Airbnb_type',\n",
    "    box=True,  # Includes box plot inside\n",
    "    points='outliers',  \n",
    "    title='Price Distribution by Airbnb Type',\n",
    "    color_discrete_sequence=px.colors.qualitative.Set1\n",
    ")\n",
    "\n",
    "fig.update_layout(xaxis_title='Airbnb Type', yaxis_title='Price Before Sale')\n",
    "fig.show()"
   ]
  },
  {
   "cell_type": "code",
   "execution_count": 66,
   "id": "45a87737",
   "metadata": {},
   "outputs": [
    {
     "data": {
      "application/vnd.plotly.v1+json": {
       "config": {
        "plotlyServerURL": "https://plot.ly"
       },
       "data": [
        {
         "hovertemplate": "Rate=%{marker.color}<br>Avg_Price=%{text}<extra></extra>",
         "legendgroup": "",
         "marker": {
          "color": {
           "bdata": "AAAAAAAAEkBmZmZmZmYSQM3MzMzMzBJAMzMzMzMzE0CamZmZmZkTQAAAAAAAABRA",
           "dtype": "f8"
          },
          "coloraxis": "coloraxis",
          "pattern": {
           "shape": ""
          }
         },
         "name": "",
         "orientation": "v",
         "showlegend": false,
         "text": {
          "bdata": "AAAAAACF6EBiJ3Zih2LgQDuxEzuxieJAKfEzStwi50Crqqqq+mLmQDqL6SxmN+lA",
          "dtype": "f8"
         },
         "textposition": "auto",
         "type": "bar",
         "x": {
          "bdata": "AAAAAAAAEkBmZmZmZmYSQM3MzMzMzBJAMzMzMzMzE0CamZmZmZkTQAAAAAAAABRA",
          "dtype": "f8"
         },
         "xaxis": "x",
         "y": {
          "bdata": "AAAAAACF6EBiJ3Zih2LgQDuxEzuxieJAKfEzStwi50Crqqqq+mLmQDqL6SxmN+lA",
          "dtype": "f8"
         },
         "yaxis": "y"
        }
       ],
       "layout": {
        "barmode": "relative",
        "coloraxis": {
         "colorbar": {
          "title": {
           "text": "Rate"
          }
         },
         "colorscale": [
          [
           0,
           "rgb(247,251,255)"
          ],
          [
           0.125,
           "rgb(222,235,247)"
          ],
          [
           0.25,
           "rgb(198,219,239)"
          ],
          [
           0.375,
           "rgb(158,202,225)"
          ],
          [
           0.5,
           "rgb(107,174,214)"
          ],
          [
           0.625,
           "rgb(66,146,198)"
          ],
          [
           0.75,
           "rgb(33,113,181)"
          ],
          [
           0.875,
           "rgb(8,81,156)"
          ],
          [
           1,
           "rgb(8,48,107)"
          ]
         ]
        },
        "legend": {
         "tracegroupgap": 0
        },
        "showlegend": false,
        "template": {
         "data": {
          "bar": [
           {
            "error_x": {
             "color": "#2a3f5f"
            },
            "error_y": {
             "color": "#2a3f5f"
            },
            "marker": {
             "line": {
              "color": "#E5ECF6",
              "width": 0.5
             },
             "pattern": {
              "fillmode": "overlay",
              "size": 10,
              "solidity": 0.2
             }
            },
            "type": "bar"
           }
          ],
          "barpolar": [
           {
            "marker": {
             "line": {
              "color": "#E5ECF6",
              "width": 0.5
             },
             "pattern": {
              "fillmode": "overlay",
              "size": 10,
              "solidity": 0.2
             }
            },
            "type": "barpolar"
           }
          ],
          "carpet": [
           {
            "aaxis": {
             "endlinecolor": "#2a3f5f",
             "gridcolor": "white",
             "linecolor": "white",
             "minorgridcolor": "white",
             "startlinecolor": "#2a3f5f"
            },
            "baxis": {
             "endlinecolor": "#2a3f5f",
             "gridcolor": "white",
             "linecolor": "white",
             "minorgridcolor": "white",
             "startlinecolor": "#2a3f5f"
            },
            "type": "carpet"
           }
          ],
          "choropleth": [
           {
            "colorbar": {
             "outlinewidth": 0,
             "ticks": ""
            },
            "type": "choropleth"
           }
          ],
          "contour": [
           {
            "colorbar": {
             "outlinewidth": 0,
             "ticks": ""
            },
            "colorscale": [
             [
              0,
              "#0d0887"
             ],
             [
              0.1111111111111111,
              "#46039f"
             ],
             [
              0.2222222222222222,
              "#7201a8"
             ],
             [
              0.3333333333333333,
              "#9c179e"
             ],
             [
              0.4444444444444444,
              "#bd3786"
             ],
             [
              0.5555555555555556,
              "#d8576b"
             ],
             [
              0.6666666666666666,
              "#ed7953"
             ],
             [
              0.7777777777777778,
              "#fb9f3a"
             ],
             [
              0.8888888888888888,
              "#fdca26"
             ],
             [
              1,
              "#f0f921"
             ]
            ],
            "type": "contour"
           }
          ],
          "contourcarpet": [
           {
            "colorbar": {
             "outlinewidth": 0,
             "ticks": ""
            },
            "type": "contourcarpet"
           }
          ],
          "heatmap": [
           {
            "colorbar": {
             "outlinewidth": 0,
             "ticks": ""
            },
            "colorscale": [
             [
              0,
              "#0d0887"
             ],
             [
              0.1111111111111111,
              "#46039f"
             ],
             [
              0.2222222222222222,
              "#7201a8"
             ],
             [
              0.3333333333333333,
              "#9c179e"
             ],
             [
              0.4444444444444444,
              "#bd3786"
             ],
             [
              0.5555555555555556,
              "#d8576b"
             ],
             [
              0.6666666666666666,
              "#ed7953"
             ],
             [
              0.7777777777777778,
              "#fb9f3a"
             ],
             [
              0.8888888888888888,
              "#fdca26"
             ],
             [
              1,
              "#f0f921"
             ]
            ],
            "type": "heatmap"
           }
          ],
          "histogram": [
           {
            "marker": {
             "pattern": {
              "fillmode": "overlay",
              "size": 10,
              "solidity": 0.2
             }
            },
            "type": "histogram"
           }
          ],
          "histogram2d": [
           {
            "colorbar": {
             "outlinewidth": 0,
             "ticks": ""
            },
            "colorscale": [
             [
              0,
              "#0d0887"
             ],
             [
              0.1111111111111111,
              "#46039f"
             ],
             [
              0.2222222222222222,
              "#7201a8"
             ],
             [
              0.3333333333333333,
              "#9c179e"
             ],
             [
              0.4444444444444444,
              "#bd3786"
             ],
             [
              0.5555555555555556,
              "#d8576b"
             ],
             [
              0.6666666666666666,
              "#ed7953"
             ],
             [
              0.7777777777777778,
              "#fb9f3a"
             ],
             [
              0.8888888888888888,
              "#fdca26"
             ],
             [
              1,
              "#f0f921"
             ]
            ],
            "type": "histogram2d"
           }
          ],
          "histogram2dcontour": [
           {
            "colorbar": {
             "outlinewidth": 0,
             "ticks": ""
            },
            "colorscale": [
             [
              0,
              "#0d0887"
             ],
             [
              0.1111111111111111,
              "#46039f"
             ],
             [
              0.2222222222222222,
              "#7201a8"
             ],
             [
              0.3333333333333333,
              "#9c179e"
             ],
             [
              0.4444444444444444,
              "#bd3786"
             ],
             [
              0.5555555555555556,
              "#d8576b"
             ],
             [
              0.6666666666666666,
              "#ed7953"
             ],
             [
              0.7777777777777778,
              "#fb9f3a"
             ],
             [
              0.8888888888888888,
              "#fdca26"
             ],
             [
              1,
              "#f0f921"
             ]
            ],
            "type": "histogram2dcontour"
           }
          ],
          "mesh3d": [
           {
            "colorbar": {
             "outlinewidth": 0,
             "ticks": ""
            },
            "type": "mesh3d"
           }
          ],
          "parcoords": [
           {
            "line": {
             "colorbar": {
              "outlinewidth": 0,
              "ticks": ""
             }
            },
            "type": "parcoords"
           }
          ],
          "pie": [
           {
            "automargin": true,
            "type": "pie"
           }
          ],
          "scatter": [
           {
            "fillpattern": {
             "fillmode": "overlay",
             "size": 10,
             "solidity": 0.2
            },
            "type": "scatter"
           }
          ],
          "scatter3d": [
           {
            "line": {
             "colorbar": {
              "outlinewidth": 0,
              "ticks": ""
             }
            },
            "marker": {
             "colorbar": {
              "outlinewidth": 0,
              "ticks": ""
             }
            },
            "type": "scatter3d"
           }
          ],
          "scattercarpet": [
           {
            "marker": {
             "colorbar": {
              "outlinewidth": 0,
              "ticks": ""
             }
            },
            "type": "scattercarpet"
           }
          ],
          "scattergeo": [
           {
            "marker": {
             "colorbar": {
              "outlinewidth": 0,
              "ticks": ""
             }
            },
            "type": "scattergeo"
           }
          ],
          "scattergl": [
           {
            "marker": {
             "colorbar": {
              "outlinewidth": 0,
              "ticks": ""
             }
            },
            "type": "scattergl"
           }
          ],
          "scattermap": [
           {
            "marker": {
             "colorbar": {
              "outlinewidth": 0,
              "ticks": ""
             }
            },
            "type": "scattermap"
           }
          ],
          "scattermapbox": [
           {
            "marker": {
             "colorbar": {
              "outlinewidth": 0,
              "ticks": ""
             }
            },
            "type": "scattermapbox"
           }
          ],
          "scatterpolar": [
           {
            "marker": {
             "colorbar": {
              "outlinewidth": 0,
              "ticks": ""
             }
            },
            "type": "scatterpolar"
           }
          ],
          "scatterpolargl": [
           {
            "marker": {
             "colorbar": {
              "outlinewidth": 0,
              "ticks": ""
             }
            },
            "type": "scatterpolargl"
           }
          ],
          "scatterternary": [
           {
            "marker": {
             "colorbar": {
              "outlinewidth": 0,
              "ticks": ""
             }
            },
            "type": "scatterternary"
           }
          ],
          "surface": [
           {
            "colorbar": {
             "outlinewidth": 0,
             "ticks": ""
            },
            "colorscale": [
             [
              0,
              "#0d0887"
             ],
             [
              0.1111111111111111,
              "#46039f"
             ],
             [
              0.2222222222222222,
              "#7201a8"
             ],
             [
              0.3333333333333333,
              "#9c179e"
             ],
             [
              0.4444444444444444,
              "#bd3786"
             ],
             [
              0.5555555555555556,
              "#d8576b"
             ],
             [
              0.6666666666666666,
              "#ed7953"
             ],
             [
              0.7777777777777778,
              "#fb9f3a"
             ],
             [
              0.8888888888888888,
              "#fdca26"
             ],
             [
              1,
              "#f0f921"
             ]
            ],
            "type": "surface"
           }
          ],
          "table": [
           {
            "cells": {
             "fill": {
              "color": "#EBF0F8"
             },
             "line": {
              "color": "white"
             }
            },
            "header": {
             "fill": {
              "color": "#C8D4E3"
             },
             "line": {
              "color": "white"
             }
            },
            "type": "table"
           }
          ]
         },
         "layout": {
          "annotationdefaults": {
           "arrowcolor": "#2a3f5f",
           "arrowhead": 0,
           "arrowwidth": 1
          },
          "autotypenumbers": "strict",
          "coloraxis": {
           "colorbar": {
            "outlinewidth": 0,
            "ticks": ""
           }
          },
          "colorscale": {
           "diverging": [
            [
             0,
             "#8e0152"
            ],
            [
             0.1,
             "#c51b7d"
            ],
            [
             0.2,
             "#de77ae"
            ],
            [
             0.3,
             "#f1b6da"
            ],
            [
             0.4,
             "#fde0ef"
            ],
            [
             0.5,
             "#f7f7f7"
            ],
            [
             0.6,
             "#e6f5d0"
            ],
            [
             0.7,
             "#b8e186"
            ],
            [
             0.8,
             "#7fbc41"
            ],
            [
             0.9,
             "#4d9221"
            ],
            [
             1,
             "#276419"
            ]
           ],
           "sequential": [
            [
             0,
             "#0d0887"
            ],
            [
             0.1111111111111111,
             "#46039f"
            ],
            [
             0.2222222222222222,
             "#7201a8"
            ],
            [
             0.3333333333333333,
             "#9c179e"
            ],
            [
             0.4444444444444444,
             "#bd3786"
            ],
            [
             0.5555555555555556,
             "#d8576b"
            ],
            [
             0.6666666666666666,
             "#ed7953"
            ],
            [
             0.7777777777777778,
             "#fb9f3a"
            ],
            [
             0.8888888888888888,
             "#fdca26"
            ],
            [
             1,
             "#f0f921"
            ]
           ],
           "sequentialminus": [
            [
             0,
             "#0d0887"
            ],
            [
             0.1111111111111111,
             "#46039f"
            ],
            [
             0.2222222222222222,
             "#7201a8"
            ],
            [
             0.3333333333333333,
             "#9c179e"
            ],
            [
             0.4444444444444444,
             "#bd3786"
            ],
            [
             0.5555555555555556,
             "#d8576b"
            ],
            [
             0.6666666666666666,
             "#ed7953"
            ],
            [
             0.7777777777777778,
             "#fb9f3a"
            ],
            [
             0.8888888888888888,
             "#fdca26"
            ],
            [
             1,
             "#f0f921"
            ]
           ]
          },
          "colorway": [
           "#636efa",
           "#EF553B",
           "#00cc96",
           "#ab63fa",
           "#FFA15A",
           "#19d3f3",
           "#FF6692",
           "#B6E880",
           "#FF97FF",
           "#FECB52"
          ],
          "font": {
           "color": "#2a3f5f"
          },
          "geo": {
           "bgcolor": "white",
           "lakecolor": "white",
           "landcolor": "#E5ECF6",
           "showlakes": true,
           "showland": true,
           "subunitcolor": "white"
          },
          "hoverlabel": {
           "align": "left"
          },
          "hovermode": "closest",
          "mapbox": {
           "style": "light"
          },
          "paper_bgcolor": "white",
          "plot_bgcolor": "#E5ECF6",
          "polar": {
           "angularaxis": {
            "gridcolor": "white",
            "linecolor": "white",
            "ticks": ""
           },
           "bgcolor": "#E5ECF6",
           "radialaxis": {
            "gridcolor": "white",
            "linecolor": "white",
            "ticks": ""
           }
          },
          "scene": {
           "xaxis": {
            "backgroundcolor": "#E5ECF6",
            "gridcolor": "white",
            "gridwidth": 2,
            "linecolor": "white",
            "showbackground": true,
            "ticks": "",
            "zerolinecolor": "white"
           },
           "yaxis": {
            "backgroundcolor": "#E5ECF6",
            "gridcolor": "white",
            "gridwidth": 2,
            "linecolor": "white",
            "showbackground": true,
            "ticks": "",
            "zerolinecolor": "white"
           },
           "zaxis": {
            "backgroundcolor": "#E5ECF6",
            "gridcolor": "white",
            "gridwidth": 2,
            "linecolor": "white",
            "showbackground": true,
            "ticks": "",
            "zerolinecolor": "white"
           }
          },
          "shapedefaults": {
           "line": {
            "color": "#2a3f5f"
           }
          },
          "ternary": {
           "aaxis": {
            "gridcolor": "white",
            "linecolor": "white",
            "ticks": ""
           },
           "baxis": {
            "gridcolor": "white",
            "linecolor": "white",
            "ticks": ""
           },
           "bgcolor": "#E5ECF6",
           "caxis": {
            "gridcolor": "white",
            "linecolor": "white",
            "ticks": ""
           }
          },
          "title": {
           "x": 0.05
          },
          "xaxis": {
           "automargin": true,
           "gridcolor": "white",
           "linecolor": "white",
           "ticks": "",
           "title": {
            "standoff": 15
           },
           "zerolinecolor": "white",
           "zerolinewidth": 2
          },
          "yaxis": {
           "automargin": true,
           "gridcolor": "white",
           "linecolor": "white",
           "ticks": "",
           "title": {
            "standoff": 15
           },
           "zerolinecolor": "white",
           "zerolinewidth": 2
          }
         }
        },
        "title": {
         "text": "Average Airbnb Price Before Sale per Rating"
        },
        "xaxis": {
         "anchor": "y",
         "domain": [
          0,
          1
         ],
         "title": {
          "text": "Rating"
         }
        },
        "yaxis": {
         "anchor": "x",
         "domain": [
          0,
          1
         ],
         "title": {
          "text": "Average Price Before Sale"
         }
        }
       }
      }
     },
     "metadata": {},
     "output_type": "display_data"
    }
   ],
   "source": [
    "\n",
    "df['Rounded_Rate'] = df['Rates'].round(1)\n",
    "\n",
    "price_per_rate = df.groupby('Rounded_Rate')['Price_before_sale'].mean().reset_index()\n",
    "price_per_rate.columns = ['Rate', 'Avg_Price']\n",
    "\n",
    "\n",
    "fig = px.bar(\n",
    "    price_per_rate,\n",
    "    x='Rate',\n",
    "    y='Avg_Price',\n",
    "    title='Average Airbnb Price Before Sale per Rating',\n",
    "    text='Avg_Price',\n",
    "    color='Rate',\n",
    "    color_continuous_scale='Blues'\n",
    ")\n",
    "\n",
    "fig.update_layout(\n",
    "    xaxis_title='Rating',\n",
    "    yaxis_title='Average Price Before Sale',\n",
    "    showlegend=False\n",
    ")\n",
    "\n",
    "fig.show()"
   ]
  },
  {
   "cell_type": "markdown",
   "id": "5ef51ff5",
   "metadata": {},
   "source": [
    "Pivot tables"
   ]
  },
  {
   "cell_type": "code",
   "execution_count": 67,
   "id": "423bbdde",
   "metadata": {},
   "outputs": [],
   "source": [
    "pivot_avg_price = df.pivot_table(values=['Price_before_sale', 'price_after_sale'], index='City', aggfunc='mean')\n"
   ]
  },
  {
   "cell_type": "code",
   "execution_count": 68,
   "id": "6a41e928",
   "metadata": {},
   "outputs": [],
   "source": [
    "pivot_avg_discount = df.pivot_table(values=['Dicount_Amount', 'Discount%'], index='City', aggfunc='mean')\n"
   ]
  },
  {
   "cell_type": "code",
   "execution_count": 69,
   "id": "c7990dd2",
   "metadata": {},
   "outputs": [],
   "source": [
    "pivot_city_type = df.pivot_table(index='City', columns='Airbnb_type', aggfunc='size', fill_value=0)\n"
   ]
  },
  {
   "cell_type": "code",
   "execution_count": 70,
   "id": "b76cd367",
   "metadata": {},
   "outputs": [],
   "source": [
    "pivot_avg_rating = df.pivot_table(values='Rates', index='City', aggfunc='mean')\n"
   ]
  },
  {
   "cell_type": "code",
   "execution_count": 71,
   "id": "eda489fd",
   "metadata": {},
   "outputs": [],
   "source": [
    "pivot_prof_count = df.pivot_table(index='Host_Profession', aggfunc='size').to_frame(name='Count')\n"
   ]
  },
  {
   "cell_type": "code",
   "execution_count": 72,
   "id": "80799ae5",
   "metadata": {},
   "outputs": [],
   "source": [
    "pivot_reviews_by_prof = df.pivot_table(values='Reviews_Num', index='Host_Profession', aggfunc='mean')\n"
   ]
  },
  {
   "cell_type": "code",
   "execution_count": 73,
   "id": "eb4bee5f",
   "metadata": {},
   "outputs": [],
   "source": [
    "pivot_discount_by_prof = df.pivot_table(values='Discount%', index='Host_Profession', aggfunc='mean')\n"
   ]
  },
  {
   "cell_type": "code",
   "execution_count": 74,
   "id": "24d205b5",
   "metadata": {},
   "outputs": [],
   "source": [
    "pivot_rating_by_type = df.pivot_table(values='Rates', index='Airbnb_type', aggfunc='mean')\n"
   ]
  },
  {
   "cell_type": "code",
   "execution_count": 75,
   "id": "434639e8",
   "metadata": {},
   "outputs": [],
   "source": [
    "pivot_price_by_rate = df.pivot_table(values=['Price_before_sale', 'price_after_sale'], index='Rates', aggfunc='mean')\n"
   ]
  },
  {
   "cell_type": "code",
   "execution_count": 76,
   "id": "41d7576c",
   "metadata": {},
   "outputs": [],
   "source": [
    "pivot_city_type_price = df.pivot_table(values=['Price_before_sale', 'Dicount_Amount'], index=['City', 'Airbnb_type'], aggfunc='mean')"
   ]
  },
  {
   "cell_type": "code",
   "execution_count": 77,
   "id": "2aa13b6c",
   "metadata": {},
   "outputs": [],
   "source": [
    "\n",
    "\n",
    "# Write them to Excel\n",
    "with pd.ExcelWriter('airbnb_pivot_tables.xlsx') as writer:\n",
    "    pivot_avg_price.to_excel(writer, sheet_name='Avg_Price_by_City')\n",
    "    pivot_avg_discount.to_excel(writer, sheet_name='Avg_Discount_by_City')\n",
    "    pivot_city_type.to_excel(writer, sheet_name='Listings_by_City_Type')\n",
    "    pivot_avg_rating.to_excel(writer, sheet_name='Avg_Rating_by_City')\n",
    "    pivot_prof_count.to_excel(writer, sheet_name='Host_Profession_Count')\n",
    "    pivot_reviews_by_prof.to_excel(writer, sheet_name='Reviews_by_Profession')\n",
    "    pivot_discount_by_prof.to_excel(writer, sheet_name='Discount_by_Profession')\n",
    "    pivot_rating_by_type.to_excel(writer, sheet_name='Rating_by_Type')\n",
    "    pivot_price_by_rate.to_excel(writer, sheet_name='Price_by_Rating')\n",
    "    pivot_city_type_price.to_excel(writer, sheet_name='City_Type_Price')\n",
    "\n"
   ]
  },
  {
   "cell_type": "markdown",
   "id": "18393271",
   "metadata": {},
   "source": [
    "Summary"
   ]
  },
  {
   "cell_type": "markdown",
   "id": "c84aafcf",
   "metadata": {},
   "source": [
    "By analyzing Airbnb available in Rome in August we got that:\n"
   ]
  },
  {
   "cell_type": "markdown",
   "id": "c26dae92",
   "metadata": {},
   "source": [
    "1 Prices have right skweness due to some airbnb being so expensive other than others\n"
   ]
  },
  {
   "cell_type": "markdown",
   "id": "c2d14bd0",
   "metadata": {},
   "source": [
    "2 Rome has the most Airbnb other than other cities"
   ]
  },
  {
   "cell_type": "markdown",
   "id": "fa51e72f",
   "metadata": {},
   "source": [
    "3 rate 5/5 is the highest in dataset"
   ]
  },
  {
   "cell_type": "markdown",
   "id": "65197fb6",
   "metadata": {},
   "source": [
    "4 Aprtments are the most available during this month"
   ]
  },
  {
   "cell_type": "markdown",
   "id": "f455f5e0",
   "metadata": {},
   "source": [
    "5 rate 5 and 4.5 has the highest count and prices "
   ]
  }
 ],
 "metadata": {
  "kernelspec": {
   "display_name": "Python 3",
   "language": "python",
   "name": "python3"
  },
  "language_info": {
   "codemirror_mode": {
    "name": "ipython",
    "version": 3
   },
   "file_extension": ".py",
   "mimetype": "text/x-python",
   "name": "python",
   "nbconvert_exporter": "python",
   "pygments_lexer": "ipython3",
   "version": "3.13.1"
  }
 },
 "nbformat": 4,
 "nbformat_minor": 5
}
