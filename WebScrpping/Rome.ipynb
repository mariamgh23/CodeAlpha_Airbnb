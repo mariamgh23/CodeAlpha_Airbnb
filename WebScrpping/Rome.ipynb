{
 "cells": [
  {
   "cell_type": "code",
   "execution_count": 1,
   "id": "a8bdcd82",
   "metadata": {},
   "outputs": [],
   "source": [
    "import requests\n",
    "from bs4 import BeautifulSoup\n",
    "import pandas as pd\n",
    "import time\n",
    "import csv\n",
    "from itertools import zip_longest\n"
   ]
  },
  {
   "cell_type": "code",
   "execution_count": 2,
   "id": "9aaaeb9a",
   "metadata": {},
   "outputs": [
    {
     "data": {
      "text/plain": [
       "<Response [200]>"
      ]
     },
     "execution_count": 2,
     "metadata": {},
     "output_type": "execute_result"
    }
   ],
   "source": [
    "request=requests.get(\"https://www.airbnb.com/s/Rome/homes?refinement_paths%5B%5D=%2Fhomes&place_id=ChIJXxbwqK9hLxMR1Rw3v1GMDEA&date_picker_type=calendar&checkin=2025-08-01&checkout=2025-08-31&adults=1&source=structured_search_input_header&search_type=user_map_move&query=Rome&flexible_trip_lengths%5B%5D=one_week&monthly_start_date=2025-08-01&monthly_length=3&monthly_end_date=2025-11-01&search_mode=regular_search&price_filter_input_type=1&price_filter_num_nights=30&channel=EXPLORE&ne_lat=42.1966631726692&ne_lng=12.774596633271386&sw_lat=41.59368487850827&sw_lng=12.4181669421952&zoom=10.16643269774284&zoom_level=10&search_by_map=true&pagination_search=true&federated_search_session_id=7032c6c4-538a-479e-bab1-4f0e64b69d60&cursor=eyJzZWN0aW9uX29mZnNldCI6MCwiaXRlbXNfb2Zmc2V0IjowLCJ2ZXJzaW9uIjoxfQ%3D%3D&currency=USD\")\n",
    "request"
   ]
  },
  {
   "cell_type": "code",
   "execution_count": 3,
   "id": "4eb3002a",
   "metadata": {},
   "outputs": [],
   "source": [
    "\n",
    "base_url=\"https://www.airbnb.com\"\n",
    "start_url = \"https://www.airbnb.com/s/Rome/homes?refinement_paths%5B%5D=%2Fhomes\"\n",
    "url_list=[]\n",
    "while start_url:\n",
    "    r = requests.get(start_url)\n",
    "    soup = BeautifulSoup(r.text, \"lxml\")\n",
    "    \n",
    "    url_list.append(start_url)\n",
    "\n",
    "    next_button = soup.find(\"a\", {\"aria-label\": \"Next\"})\n",
    "    \n",
    "    if next_button and next_button.has_attr(\"href\"):\n",
    "        start_url = base_url + next_button[\"href\"]\n",
    "    else:\n",
    "        break\n",
    "\n",
    "    \n"
   ]
  },
  {
   "cell_type": "code",
   "execution_count": 4,
   "id": "5724912b",
   "metadata": {},
   "outputs": [
    {
     "data": {
      "text/plain": [
       "['https://www.airbnb.com/s/Rome/homes?refinement_paths%5B%5D=%2Fhomes',\n",
       " 'https://www.airbnb.com/s/Rome/homes?refinement_paths%5B%5D=%2Fhomes&query=Rome&place_id=ChIJu46S-ZZhLxMROG5lkwZ3D7k&flexible_trip_lengths%5B%5D=one_week&monthly_start_date=2025-08-01&monthly_length=3&monthly_end_date=2025-11-01&search_mode=regular_search&price_filter_input_type=2&channel=EXPLORE&federated_search_session_id=203ec8c8-3143-4aec-a270-3ee73362a793&search_type=unknown&pagination_search=true&cursor=eyJzZWN0aW9uX29mZnNldCI6MCwiaXRlbXNfb2Zmc2V0IjoxOCwidmVyc2lvbiI6MX0%3D',\n",
       " 'https://www.airbnb.com/s/Rome/homes?refinement_paths%5B%5D=%2Fhomes&query=Rome&place_id=ChIJu46S-ZZhLxMROG5lkwZ3D7k&flexible_trip_lengths%5B%5D=one_week&monthly_start_date=2025-08-01&monthly_length=3&monthly_end_date=2025-11-01&search_mode=regular_search&price_filter_input_type=2&channel=EXPLORE&search_type=unknown&pagination_search=true&price_filter_num_nights=5&federated_search_session_id=203ec8c8-3143-4aec-a270-3ee73362a793&cursor=eyJzZWN0aW9uX29mZnNldCI6MCwiaXRlbXNfb2Zmc2V0IjozNiwidmVyc2lvbiI6MX0%3D',\n",
       " 'https://www.airbnb.com/s/Rome/homes?refinement_paths%5B%5D=%2Fhomes&query=Rome&place_id=ChIJu46S-ZZhLxMROG5lkwZ3D7k&flexible_trip_lengths%5B%5D=one_week&monthly_start_date=2025-08-01&monthly_length=3&monthly_end_date=2025-11-01&search_mode=regular_search&price_filter_input_type=2&channel=EXPLORE&search_type=unknown&pagination_search=true&price_filter_num_nights=5&federated_search_session_id=203ec8c8-3143-4aec-a270-3ee73362a793&cursor=eyJzZWN0aW9uX29mZnNldCI6MCwiaXRlbXNfb2Zmc2V0Ijo1NCwidmVyc2lvbiI6MX0%3D',\n",
       " 'https://www.airbnb.com/s/Rome/homes?refinement_paths%5B%5D=%2Fhomes&query=Rome&place_id=ChIJu46S-ZZhLxMROG5lkwZ3D7k&flexible_trip_lengths%5B%5D=one_week&monthly_start_date=2025-08-01&monthly_length=3&monthly_end_date=2025-11-01&search_mode=regular_search&price_filter_input_type=2&channel=EXPLORE&search_type=unknown&pagination_search=true&price_filter_num_nights=5&federated_search_session_id=203ec8c8-3143-4aec-a270-3ee73362a793&cursor=eyJzZWN0aW9uX29mZnNldCI6MCwiaXRlbXNfb2Zmc2V0Ijo3MiwidmVyc2lvbiI6MX0%3D',\n",
       " 'https://www.airbnb.com/s/Rome/homes?refinement_paths%5B%5D=%2Fhomes&query=Rome&place_id=ChIJu46S-ZZhLxMROG5lkwZ3D7k&flexible_trip_lengths%5B%5D=one_week&monthly_start_date=2025-08-01&monthly_length=3&monthly_end_date=2025-11-01&search_mode=regular_search&price_filter_input_type=2&channel=EXPLORE&search_type=unknown&pagination_search=true&price_filter_num_nights=5&federated_search_session_id=203ec8c8-3143-4aec-a270-3ee73362a793&cursor=eyJzZWN0aW9uX29mZnNldCI6MCwiaXRlbXNfb2Zmc2V0Ijo5MCwidmVyc2lvbiI6MX0%3D',\n",
       " 'https://www.airbnb.com/s/Rome/homes?refinement_paths%5B%5D=%2Fhomes&query=Rome&place_id=ChIJu46S-ZZhLxMROG5lkwZ3D7k&flexible_trip_lengths%5B%5D=one_week&monthly_start_date=2025-08-01&monthly_length=3&monthly_end_date=2025-11-01&search_mode=regular_search&price_filter_input_type=2&channel=EXPLORE&search_type=unknown&pagination_search=true&price_filter_num_nights=5&federated_search_session_id=203ec8c8-3143-4aec-a270-3ee73362a793&cursor=eyJzZWN0aW9uX29mZnNldCI6MCwiaXRlbXNfb2Zmc2V0IjoxMDgsInZlcnNpb24iOjF9',\n",
       " 'https://www.airbnb.com/s/Rome/homes?refinement_paths%5B%5D=%2Fhomes&query=Rome&place_id=ChIJu46S-ZZhLxMROG5lkwZ3D7k&flexible_trip_lengths%5B%5D=one_week&monthly_start_date=2025-08-01&monthly_length=3&monthly_end_date=2025-11-01&search_mode=regular_search&price_filter_input_type=2&channel=EXPLORE&search_type=unknown&pagination_search=true&price_filter_num_nights=5&federated_search_session_id=203ec8c8-3143-4aec-a270-3ee73362a793&cursor=eyJzZWN0aW9uX29mZnNldCI6MCwiaXRlbXNfb2Zmc2V0IjoxMjYsInZlcnNpb24iOjF9',\n",
       " 'https://www.airbnb.com/s/Rome/homes?refinement_paths%5B%5D=%2Fhomes&query=Rome&place_id=ChIJu46S-ZZhLxMROG5lkwZ3D7k&flexible_trip_lengths%5B%5D=one_week&monthly_start_date=2025-08-01&monthly_length=3&monthly_end_date=2025-11-01&search_mode=regular_search&price_filter_input_type=2&channel=EXPLORE&search_type=unknown&pagination_search=true&price_filter_num_nights=5&federated_search_session_id=203ec8c8-3143-4aec-a270-3ee73362a793&cursor=eyJzZWN0aW9uX29mZnNldCI6MCwiaXRlbXNfb2Zmc2V0IjoxNDQsInZlcnNpb24iOjF9',\n",
       " 'https://www.airbnb.com/s/Rome/homes?refinement_paths%5B%5D=%2Fhomes&query=Rome&place_id=ChIJu46S-ZZhLxMROG5lkwZ3D7k&flexible_trip_lengths%5B%5D=one_week&monthly_start_date=2025-08-01&monthly_length=3&monthly_end_date=2025-11-01&search_mode=regular_search&price_filter_input_type=2&channel=EXPLORE&search_type=unknown&pagination_search=true&price_filter_num_nights=5&federated_search_session_id=203ec8c8-3143-4aec-a270-3ee73362a793&cursor=eyJzZWN0aW9uX29mZnNldCI6MCwiaXRlbXNfb2Zmc2V0IjoxNjIsInZlcnNpb24iOjF9',\n",
       " 'https://www.airbnb.com/s/Rome/homes?refinement_paths%5B%5D=%2Fhomes&query=Rome&place_id=ChIJu46S-ZZhLxMROG5lkwZ3D7k&flexible_trip_lengths%5B%5D=one_week&monthly_start_date=2025-08-01&monthly_length=3&monthly_end_date=2025-11-01&search_mode=regular_search&price_filter_input_type=2&channel=EXPLORE&search_type=unknown&pagination_search=true&price_filter_num_nights=5&federated_search_session_id=203ec8c8-3143-4aec-a270-3ee73362a793&cursor=eyJzZWN0aW9uX29mZnNldCI6MCwiaXRlbXNfb2Zmc2V0IjoxODAsInZlcnNpb24iOjF9',\n",
       " 'https://www.airbnb.com/s/Rome/homes?refinement_paths%5B%5D=%2Fhomes&query=Rome&place_id=ChIJu46S-ZZhLxMROG5lkwZ3D7k&flexible_trip_lengths%5B%5D=one_week&monthly_start_date=2025-08-01&monthly_length=3&monthly_end_date=2025-11-01&search_mode=regular_search&price_filter_input_type=2&channel=EXPLORE&search_type=unknown&pagination_search=true&price_filter_num_nights=5&federated_search_session_id=203ec8c8-3143-4aec-a270-3ee73362a793&cursor=eyJzZWN0aW9uX29mZnNldCI6MCwiaXRlbXNfb2Zmc2V0IjoxOTgsInZlcnNpb24iOjF9',\n",
       " 'https://www.airbnb.com/s/Rome/homes?refinement_paths%5B%5D=%2Fhomes&query=Rome&place_id=ChIJu46S-ZZhLxMROG5lkwZ3D7k&flexible_trip_lengths%5B%5D=one_week&monthly_start_date=2025-08-01&monthly_length=3&monthly_end_date=2025-11-01&search_mode=regular_search&price_filter_input_type=2&channel=EXPLORE&search_type=unknown&pagination_search=true&price_filter_num_nights=5&federated_search_session_id=203ec8c8-3143-4aec-a270-3ee73362a793&cursor=eyJzZWN0aW9uX29mZnNldCI6MCwiaXRlbXNfb2Zmc2V0IjoyMTYsInZlcnNpb24iOjF9',\n",
       " 'https://www.airbnb.com/s/Rome/homes?refinement_paths%5B%5D=%2Fhomes&query=Rome&place_id=ChIJu46S-ZZhLxMROG5lkwZ3D7k&flexible_trip_lengths%5B%5D=one_week&monthly_start_date=2025-08-01&monthly_length=3&monthly_end_date=2025-11-01&search_mode=regular_search&price_filter_input_type=2&channel=EXPLORE&search_type=unknown&pagination_search=true&price_filter_num_nights=5&federated_search_session_id=203ec8c8-3143-4aec-a270-3ee73362a793&cursor=eyJzZWN0aW9uX29mZnNldCI6MCwiaXRlbXNfb2Zmc2V0IjoyMzQsInZlcnNpb24iOjF9',\n",
       " 'https://www.airbnb.com/s/Rome/homes?refinement_paths%5B%5D=%2Fhomes&query=Rome&place_id=ChIJu46S-ZZhLxMROG5lkwZ3D7k&flexible_trip_lengths%5B%5D=one_week&monthly_start_date=2025-08-01&monthly_length=3&monthly_end_date=2025-11-01&search_mode=regular_search&price_filter_input_type=2&channel=EXPLORE&search_type=unknown&pagination_search=true&price_filter_num_nights=5&federated_search_session_id=203ec8c8-3143-4aec-a270-3ee73362a793&cursor=eyJzZWN0aW9uX29mZnNldCI6MCwiaXRlbXNfb2Zmc2V0IjoyNTIsInZlcnNpb24iOjF9']"
      ]
     },
     "execution_count": 4,
     "metadata": {},
     "output_type": "execute_result"
    }
   ],
   "source": [
    "url_list"
   ]
  },
  {
   "cell_type": "code",
   "execution_count": 5,
   "id": "678f9374",
   "metadata": {},
   "outputs": [],
   "source": [
    "Airbnb_type=[]\n",
    "City=[]\n",
    "Price_before_sale=[]\n",
    "price_after_sale=[]\n",
    "Rates=[]\n",
    "Reviews_Num=[]\n",
    "Host_name=[]\n",
    "Host_Profession=[]"
   ]
  },
  {
   "cell_type": "code",
   "execution_count": 6,
   "id": "04929b48",
   "metadata": {},
   "outputs": [],
   "source": [
    "names=[]\n",
    "price_bef=[]\n",
    "price_aft=[]\n",
    "rate=[]\n",
    "desc=[]\n",
    "for url in url_list:\n",
    "    r = requests.get(url)\n",
    "    soup = BeautifulSoup(r.text, \"lxml\")\n",
    "    names+=soup.find_all(\"div\",{\"class\":\"t1jojoys atm_g3_1kw7nm4 atm_ks_15vqwwr atm_sq_1l2sidv atm_9s_cj1kg8 atm_6w_1e54zos atm_fy_1vgr820 atm_7l_jt7fhx atm_cs_10d11i2 atm_w4_1eetg7c atm_ks_zryt35__1rgatj2 dir dir-ltr\"})\n",
    "    price_bef+=soup.find_all(\"span\",{\"class\":\"s13lowb4 atm_7l_1esdqks atm_rd_1911m7k atm_cs_6adqpa atm_c8_ip3js9 atm_g3_8dziaq dir dir-ltr\"})\n",
    "    price_aft+=soup.find_all(\"span\",{\"class\":\"umuerxh atm_7l_dezgoh atm_rd_us8791 atm_cs_1529pqs__oggzyc atm_cs_kyjlp1__1v156lz dir dir-ltr\"})\n",
    "    rate+=soup.find_all(\"span\",{\"class\":\"a8jt5op atm_3f_idpfg4 atm_7h_hxbz6r atm_7i_ysn8ba atm_e2_t94yts atm_ks_zryt35 atm_l8_idpfg4 atm_vv_1q9ccgz atm_vy_t94yts au0q88m atm_mk_stnw88 atm_tk_idpfg4 dir dir-ltr\"})\n",
    "    desc+=soup.find_all(\"div\",{\"class\":\"fb4nyux atm_da_cbdd7d s1cjsi4j atm_sq_1l2sidv atm_6w_1e54zos atm_fy_1vlb1yz atm_7l_1he744i sgdvnt3 atm_9s_1txwivl atm_ar_vrvcex atm_be_1g80g66 atm_g3_8onn7m atm_iy_8onn7m atm_ks_15vqwwr dir dir-ltr\"})"
   ]
  },
  {
   "cell_type": "code",
   "execution_count": 7,
   "id": "9e6f1feb",
   "metadata": {},
   "outputs": [],
   "source": [
    "type=[]\n",
    "loc=[]\n",
    "for i in names:\n",
    "    parts=i.text.split(\"in\")\n",
    "    if len(parts)==2:\n",
    "        type.append(parts[0].strip())\n",
    "        loc.append(parts[1].strip())\n",
    "        \n",
    "        "
   ]
  },
  {
   "cell_type": "code",
   "execution_count": 8,
   "id": "8bce5c94",
   "metadata": {},
   "outputs": [],
   "source": [
    "import re\n",
    "\n",
    "rate_num = []\n",
    "rate_details = []\n",
    "\n",
    "for tag in rate:\n",
    "    matches = re.findall(r\"(\\d+\\.\\d+)\\s+out of 5 average rating,\\s+(\\d+)\\s+reviews\", tag.text)\n",
    "    for rating, reviews in matches:\n",
    "        rate_num.append(float(rating))\n",
    "        rate_details.append(int(reviews))\n"
   ]
  },
  {
   "cell_type": "code",
   "execution_count": 9,
   "id": "885a503a",
   "metadata": {},
   "outputs": [],
   "source": [
    "import re\n",
    "\n",
    "host_names = []\n",
    "\n",
    "for tag in desc:\n",
    "    match = re.search(r\"Stay with (.*?)(Stay|Hospitality|$)\", tag.text)\n",
    "    if match:\n",
    "        names = match.group(1).strip(\", \")\n",
    "        host_names.append(names)\n"
   ]
  },
  {
   "cell_type": "code",
   "execution_count": 10,
   "id": "0d0ee628",
   "metadata": {},
   "outputs": [],
   "source": [
    "import re\n",
    "\n",
    "industries = []\n",
    "\n",
    "for tag in desc:\n",
    "    match = re.search(r\"·\\s*([A-Za-z\\s&]+)\", tag.text)\n",
    "    if match:\n",
    "        industries.append(match.group(1).strip())\n",
    "    else:\n",
    "        industries.append(None)\n"
   ]
  },
  {
   "cell_type": "code",
   "execution_count": 14,
   "id": "2b95b9e0",
   "metadata": {},
   "outputs": [
    {
     "name": "stdout",
     "output_type": "stream",
     "text": [
      "Daniel\n",
      "Federico\n",
      "Juan Carlos\n",
      "Valeria\n",
      "G\n",
      "Lilith\n",
      "Royal\n",
      "Francesco\n",
      "Giulia\n",
      "Elena\n",
      "Lilith\n",
      "G\n",
      "Francesco\n",
      "Isabella\n",
      "Maria Pia\n",
      "Annie\n",
      "Antonio\n",
      "Gregorio\n",
      "Chiara\n",
      "Mugiko\n",
      "Sergio\n",
      "Daniele\n",
      "G\n",
      "Claudio\n",
      "Luigia\n",
      "Alice\n",
      "Lorenzo\n",
      "Emanuela\n",
      "G\n",
      "Antonio\n",
      "Alice\n",
      "G\n",
      "Pier Francesco\n",
      "Benedetto\n",
      "Pier Francesco\n",
      "Tony\n",
      "Benedetto\n",
      "Benedetto\n",
      "Piero\n",
      "Ludovica\n",
      "Mugiko\n"
     ]
    }
   ],
   "source": [
    "for i in host_names:\n",
    "    print(i)\n",
    "    "
   ]
  },
  {
   "cell_type": "markdown",
   "id": "fec5680a",
   "metadata": {},
   "source": [
    "Airbnb_type=[]\n",
    "City=[]\n",
    "Price_before_sale=[]\n",
    "price_after_sale=[]\n",
    "Rates=[]\n",
    "Host_name=[]\n",
    "Host_Profession=[]"
   ]
  },
  {
   "cell_type": "code",
   "execution_count": 15,
   "id": "38417927",
   "metadata": {},
   "outputs": [],
   "source": [
    "for i in range(len(price_aft)):\n",
    "    Airbnb_type.append(type[i])\n",
    "    City.append(loc[i])\n",
    "    Price_before_sale.append(price_bef[i].text)\n",
    "    price_after_sale.append(price_aft[i].text)\n",
    "    Rates.append(rate_num[i])\n",
    "    Reviews_Num.append(rate_details[i])\n",
    "    Host_name.append(host_names[i] if i < len(host_names) else \"Unknown\")\n",
    "    Host_Profession.append(industries[i] if i < len(industries) else \"Unknown\")\n",
    "    \n",
    "    \n",
    "    "
   ]
  },
  {
   "cell_type": "code",
   "execution_count": 16,
   "id": "828ef28e",
   "metadata": {},
   "outputs": [],
   "source": [
    "file=[Airbnb_type,City,Price_before_sale,price_after_sale,Rates,Reviews_Num,Host_name,Host_Profession]\n",
    "exported=zip_longest(*file)"
   ]
  },
  {
   "cell_type": "code",
   "execution_count": 17,
   "id": "6b1970a3",
   "metadata": {},
   "outputs": [
    {
     "data": {
      "text/plain": [
       "<itertools.zip_longest at 0x22dec14d260>"
      ]
     },
     "execution_count": 17,
     "metadata": {},
     "output_type": "execute_result"
    }
   ],
   "source": [
    "exported"
   ]
  },
  {
   "cell_type": "code",
   "execution_count": 18,
   "id": "d92d2baa",
   "metadata": {},
   "outputs": [],
   "source": [
    "with open(file=\"Airbnb_Rome.csv\",mode=\"w\",newline=\"\",encoding=\"utf-8-sig\") as file:\n",
    "    writer=csv.writer(file)\n",
    "    writer.writerow([\"Airbnb_type\",\"City\",\"Price_before_sale\",\"price_after_sale\",\"Rates\",\"Reviews_Num\",\"Host_name\",\"Host_Profession\"])\n",
    "    for i in exported:\n",
    "        writer.writerow([i[0],i[1],i[2],i[3],i[4],i[5],i[6],i[7]])"
   ]
  },
  {
   "cell_type": "code",
   "execution_count": null,
   "id": "23a56e52",
   "metadata": {},
   "outputs": [],
   "source": []
  }
 ],
 "metadata": {
  "kernelspec": {
   "display_name": "Python 3",
   "language": "python",
   "name": "python3"
  },
  "language_info": {
   "codemirror_mode": {
    "name": "ipython",
    "version": 3
   },
   "file_extension": ".py",
   "mimetype": "text/x-python",
   "name": "python",
   "nbconvert_exporter": "python",
   "pygments_lexer": "ipython3",
   "version": "3.13.1"
  }
 },
 "nbformat": 4,
 "nbformat_minor": 5
}
